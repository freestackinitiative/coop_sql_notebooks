{
  "cells": [
    {
      "cell_type": "markdown",
      "metadata": {
        "id": "Cp08s6IWsBlJ"
      },
      "source": [
        "# **SQL 102 - Intermediate Queries and Combining Data**\n",
        "Author: Martin Arroyo"
      ]
    },
    {
      "cell_type": "markdown",
      "metadata": {
        "id": "_mXzxNcMVxgQ"
      },
      "source": [
        "### **About this notebook**\n",
        "\n",
        "All of your queries will be written using preloaded databases that are available only in this notebook. Our \"RDBMS\" and SQL dialect is called `duckdb`, a new and popular Python library that provides the framework to make our queries possible. You can find [the documentation for `duckdb` here](https://duckdb.org/docs/sql/introduction) - you will want to keep the documentation handy.\n",
        "\n",
        "`teachdb`, which provides the data that you will be working with, is a Python library written by The Freestack Initiative, a group of COOP alumni who want to empower the community to learn and improve their technical skills by providing materials and resources at low (or no) cost."
      ]
    },
    {
      "cell_type": "markdown",
      "metadata": {
        "id": "WIS_JN4vVxgQ"
      },
      "source": [
        "## **How to use this notebook**\n",
        "\n",
        "First, we'll do a quick tutorial on how to use the notebook with these tools, then we'll dive into more SQL!"
      ]
    },
    {
      "cell_type": "markdown",
      "metadata": {
        "id": "wK7qgA0ZVxgQ"
      },
      "source": [
        "### **Step 1: Press the play button below to set up the database and notebook**\n",
        "\n",
        "You will see a checkmark appear when the database is finished setting up."
      ]
    },
    {
      "cell_type": "code",
      "execution_count": 1,
      "metadata": {
        "author": "Martin Arroyo",
        "date": "Saturday, September 2, 2023",
        "email": "martinm.arroyo7@gmail.com",
        "id": "zZ9ruuMrSn64",
        "reason": "Proof of work - made by Martin Arroyo",
        "tags": [
          "hide-input"
        ]
      },
      "outputs": [],
      "source": [
        "%%capture\n",
        "# @title Press Play { display-mode: \"form\" }\n",
        "\n",
        "# This code is used to set up the notebook by installing the libraries we need, configuring extensions to\n",
        "# make displays for our queries look nice, and connecting to our relational database so that you can write\n",
        "# queries in code cells using the %%sql magic tag.\n",
        "\n",
        "# Install `teachdb` if it's not in the system already\n",
        "!pip install --quiet --upgrade git+https://github.com/freestackinitiative/teachingdb.git\n",
        "import pandas as pd\n",
        "from teachdb.teachdb import connect_teachdb\n",
        "# Set configurations for notebook\n",
        "%load_ext sql\n",
        "%config SqlMagic.autopandas = True\n",
        "%config SqlMagic.feedback = False\n",
        "%config SqlMagic.displaycon = False\n",
        "pd.set_option('display.max_rows', None)\n",
        "pd.set_option('display.max_columns', None)\n",
        "pd.set_option('display.width', None)\n",
        "pd.set_option('display.max_colwidth', 99)\n",
        "# Load data\n",
        "con = connect_teachdb(databases=[\"core\", \"restaurant\"])\n",
        "%sql con\n",
        "\n",
        "# Check out the Freestack Initiative @https://github.com/freestackinitiative"
      ]
    },
    {
      "cell_type": "markdown",
      "metadata": {
        "id": "anWo_Iy20gRL"
      },
      "source": [
        "### **Step 2: Run a query**\n",
        "\n",
        "To run SQL queries against the database, create a new code cell. Then write `%%sql` at the top. This tells the notebook that this cell is being used to query the database. You can write your queries underneath the `%%sql` line by pressing the play button of the cell or selecting the cell and using `CTRL + Shift + Enter` on Windows (`CMD + Shift + Return` on Mac.)\n",
        "\n",
        "Go ahead and try it by executing the query in the cell below:"
      ]
    },
    {
      "cell_type": "code",
      "execution_count": null,
      "metadata": {
        "id": "khdlRYapr0h-"
      },
      "outputs": [],
      "source": [
        "%%sql\n",
        "\n",
        "SELECT *\n",
        "FROM Customers\n",
        "LIMIT 5"
      ]
    },
    {
      "cell_type": "markdown",
      "metadata": {
        "id": "L07uedoWVxgS"
      },
      "source": [
        "## **Single Table Query Review and `CASE` Statements**\n",
        "\n",
        "In this section, we'll warm up with some review of the basics we learned in SQL 101. Then you'll learn a new query technique - `CASE` statements - which are a special kind of conditional statement that lets us create custom column values based on conditions we specify."
      ]
    },
    {
      "cell_type": "markdown",
      "metadata": {
        "id": "LWjh4W_dVxgS"
      },
      "source": [
        "### **Review - Single Table Queries and Aggregation**\n",
        "\n",
        "Let's get warmed up by writing a query using what we learned in SQL 101!\n",
        "\n",
        "Write a query that shows the top 5 customers in the `Reservations` table that have the most reservations. Additionally, show the average party size for each of those customers.\n",
        "\n",
        "`Expected Output:`\n",
        "\n",
        "| CustomerID | TotalReservations | AvgPartySize |\n",
        "|------------|-------------------|--------------|\n",
        "| 6          | 34                | 3.882353     |\n",
        "| 80         | 30                | 4.033333     |\n",
        "| 31         | 27                | 3.259259     |\n",
        "| 41         | 27                | 3.962963     |\n",
        "| 44         | 27                | 3.777778     |\n",
        "\n",
        "<br/>\n",
        "<details>\n",
        "<summary>Click here to reveal answer</summary>\n",
        "\n",
        "```sql\n",
        "SELECT CustomerID, COUNT(ReservationID) AS total_reservations, AVG(PartySize) AS avg_party_size\n",
        "FROM Reservations\n",
        "GROUP BY CustomerID\n",
        "ORDER BY total_reservations DESC\n",
        "LIMIT 5\n",
        "```\n",
        "\n",
        "</details>"
      ]
    },
    {
      "cell_type": "code",
      "execution_count": null,
      "metadata": {
        "id": "yvxIZ7DEVxgT"
      },
      "outputs": [],
      "source": [
        "%%sql\n",
        "\n"
      ]
    },
    {
      "cell_type": "markdown",
      "metadata": {
        "id": "efJR3xOUVxgT"
      },
      "source": [
        "Great work with that first query! Now that we're warmed up, it's time to take your querying skills to the next level!"
      ]
    },
    {
      "cell_type": "markdown",
      "metadata": {
        "id": "aXSB9ZTrVxgT"
      },
      "source": [
        "### **`CASE` Statements**\n",
        "\n",
        "A popular restaurant reviewer is using a pricing scale that they invented to rate how affordable dishes at restaurants are. Restaurants that have too many dishes considered \"Pricey\" typically have lower ratings, while those with more dishes in the \"Average\" range do best. We don't want our restaurant to have a low rating, so we have to find out how our menu does on this scale.\n",
        "\n",
        "Here is the reviewer's pricing scale:\n",
        "\n",
        ">\\$4 or less - `Inexpensive`\n",
        ">\n",
        ">Between \\$4 and \\$8 - `Average`\n",
        ">\n",
        ">Above \\$8 - `Pricey`\n",
        "\n",
        "How can we convert the price of a dish to one of these three values based on the price? This is a perfect use for `CASE` statements!\n"
      ]
    },
    {
      "cell_type": "markdown",
      "metadata": {
        "id": "im18HxPAVxgT"
      },
      "source": [
        "#### **How to use `CASE` statements**\n",
        "\n",
        "`CASE` statements are very similar to using `IF` function in Excel. They allow you to specify \"If/Then/Else\" logic in your queries.\n",
        "\n",
        "Here is the general form of a `CASE` statement:\n",
        "\n",
        "```sql\n",
        "CASE WHEN {`some condition to check`} THEN {`value if the condition is true`} ELSE {`value if all other conditions are false`} END\n",
        "```\n",
        "\n",
        "If you need to check more than one separate condition, you simply add another `WHEN/THEN` clause. The `ELSE` is always the final condition checked since it covers the case where all the other cases are false.\n",
        "\n",
        "To see this in action, check out the query we use to show the pricing scale for our menu."
      ]
    },
    {
      "cell_type": "markdown",
      "metadata": {
        "id": "cfqpKGAIVxgT"
      },
      "source": [
        "##### **`CASE` Statement Example**\n",
        "\n",
        "Here is the query to check the pricing scale:\n",
        "```sql\n",
        "SELECT Name\n",
        "    , Price\n",
        "    , Type\n",
        "    , CASE\n",
        "        WHEN Price <= 4.0 THEN 'Inexpensive' -- Check the first condition\n",
        "        WHEN Price BETWEEN 4.0 AND 8.0 THEN 'Average' -- Check the second condition\n",
        "        ELSE 'Pricey' -- Anything over 8.0 is Pricey\n",
        "      END AS PriceRating -- We end our CASE statement and give the resulting column a name using an alias\n",
        "FROM Dishes\n",
        "```\n",
        "\n",
        "Here are the first five results:\n",
        "\n",
        "| Name                         | Price | Type      | PriceRating |\n",
        "|------------------------------|-------|-----------|-------------|\n",
        "| Parmesan Deviled Eggs        | 8.00  | Appetizer | Average     |\n",
        "| Artichokes with Garlic Aioli | 9.00  | Appetizer | Pricey      |\n",
        "| French Onion Soup            | 7.00  | Main      | Average     |\n",
        "| Mini Cheeseburgers           | 8.00  | Main      | Average     |\n",
        "| Panko Stuffed Mushrooms      | 7.00  | Appetizer | Average     |"
      ]
    },
    {
      "cell_type": "markdown",
      "metadata": {
        "id": "bYwG8IgnVxgT"
      },
      "source": [
        "> **Extra Context:** <em>Code Comments</em>\n",
        ">\n",
        "> You may have noticed that we used \"`--`\" followed by some text in the query above. These lines of text are called \"comments\", which are notes in the code written by the developer to\n",
        "communicate what a particular line or section of code means. All coding languages have a way for developers to leave these comments in their code so that they can\n",
        "let future readers understand their thought process and why something was done.\n",
        ">\n",
        "> We use a comment symbol to let the computer know that \"this is not code, so don't execute it!\" Each programming language will have its own symbol for comments. In SQL, it is most common\n",
        "to use \"`--`\" for a single-line comment. Check the documentation for the SQL dialect you are using to be sure, though!"
      ]
    },
    {
      "cell_type": "markdown",
      "metadata": {
        "id": "g47D09rGVxgT"
      },
      "source": [
        "##### Breakdown - `CASE` Statement query\n",
        "\n",
        "Our query looks pretty simple aside from the `CASE` statement that we added. We'll focus on breaking that down line-by-line:\n",
        "\n",
        "```sql\n",
        "    CASE WHEN Price <= 4.0 THEN 'Inexpensive'\n",
        "```\n",
        "\n",
        "Every `CASE` statement begins with the word `CASE`. After that, we check conditions using the `WHEN`/`THEN` keywords. The `WHEN` looks at the condition that you specify and the `THEN` defines what happens when that condition is true. In this case, we're checking if the price is $4 or less; if it is, we're telling SQL that the value we want is \"Inexpensive\".\n",
        "\n",
        "```sql\n",
        "    WHEN Price BETWEEN 4.0 AND 8.0 THEN 'Average'\n",
        "```\n",
        "\n",
        "Since we need to check more than one condition to look at the price scale, we need to add another `WHEN`/`THEN` set of keywords to check the next condition. This one says, <em>\"Use the word `Average` here if the `Price` is between $4 and $8.\"</em>\n",
        "\n",
        "```sql\n",
        "    ELSE 'Pricey'\n",
        "```\n",
        "\n",
        "The `ELSE` portion of the `CASE` statement determines what to do if all of the conditions before it are false. This is saying, <em>\"If the price of a dish is not `Inexpensive` or `Average`, then it is `Pricey`\"</em>\n",
        "\n",
        "```sql\n",
        "    END AS PriceRating\n",
        "```\n",
        "\n",
        "We use the `END` keyword to close all `CASE` statements. This says, <em>\"We are done with our statement.\"</em> Since we are creating a column that doesn't otherwise exist in the database, the RDBMS will give it a default name. It is best practice to name our `CASE` statements using aliases. Here, we name the resulting column from our `CASE` statement `PriceRating`."
      ]
    },
    {
      "cell_type": "markdown",
      "metadata": {
        "id": "LhbCfqMrVxgU"
      },
      "source": [
        "##### **Action Item - Using the `CASE` Statement**\n",
        "\n",
        "The restaurant reviewer recently published an update to their price scale! The new scale is below:\n",
        "\n",
        "> **Restaurant Reviewer's NEW Pricing Scale:**\n",
        ">\n",
        ">\\$3 or less - `Super Cheap`\n",
        ">\n",
        ">Between \\$4 and \\$5 - `Inexpensive`\n",
        ">\n",
        ">Between \\$5 and \\$8 - `Average`\n",
        ">\n",
        ">Above \\$8 - `Pricey`\n",
        "\n",
        "Write a query using the `Dishes` table that shows the updated price scale. Your results should include the name of the dish, the price, and it's type - along with the new `PriceRating`. Order your results by `Price` so that we see the lowest prices first and limit your results to just the first five rows.\n",
        "\n",
        "`Expected Output:`\n",
        "\n",
        "| Name                   | Price | Type     | PriceRating |\n",
        "|------------------------|-------|----------|-------------|\n",
        "| Pomegranate Iced Tea   | 4.00  | Beverage | Inexpensive |\n",
        "| Apple Pie              | 5.00  | Dessert  | Inexpensive |\n",
        "| Chocolate Chip Brownie | 6.00  | Dessert  | Average     |\n",
        "| Tropical Blue Smoothie | 6.00  | Beverage | Average     |\n",
        "| Cafe Latte             | 6.00  | Beverage | Average     |\n",
        "\n",
        "<br/>\n",
        "<details>\n",
        "    <summary>Click here to reveal the answer</summary>\n",
        "\n",
        "```sql\n",
        "SELECT Name\n",
        "    , Price\n",
        "    , Type\n",
        "    , CASE\n",
        "        WHEN Price <= 3.0 THEN 'Super Cheap'\n",
        "        WHEN Price BETWEEN 4.0 AND 5.0 THEN 'Inexpensive'\n",
        "        WHEN Price BETWEEN 5.0 AND 8.0 THEN 'Average'\n",
        "        ELSE 'Pricey' -- Anything over 8.0 is Pricey\n",
        "    END AS PriceRating\n",
        "FROM Dishes\n",
        "ORDER BY Price\n",
        "LIMIT 5\n",
        "```\n",
        "\n",
        "</details>"
      ]
    },
    {
      "cell_type": "code",
      "execution_count": null,
      "metadata": {
        "id": "y1rfOLIoVxgU"
      },
      "outputs": [],
      "source": [
        "%%sql\n",
        "\n"
      ]
    },
    {
      "cell_type": "markdown",
      "metadata": {
        "id": "MSuIdhrNVxgc"
      },
      "source": [
        "## **Subqueries - Writing a query within a query**\n",
        "\n",
        "You've come a long way in your SQL journey! You're already familiar with the basics like `SELECT`, `WHERE`, and `GROUP BY`. And you just learned how to combine data from multiple tables with `JOIN` and `UNION`. Now, let's take it up a notch by diving into the concept of subqueries.\n",
        "\n",
        "In SQL, a subquery is essentially a query within a query. This might sound a little confusing at first, but don't worry - by the end of this section, you'll understand:\n",
        "\n",
        "- What subqueries are\n",
        "- Why you'd use them, and\n",
        "- How to incorporate them into your SQL work"
      ]
    },
    {
      "cell_type": "markdown",
      "metadata": {
        "id": "mesPmg3BVxgc"
      },
      "source": [
        "### **What is a Subquery?**\n",
        "\n",
        "Imagine you're a detective. You've got a briefcase full of clues, and inside that briefcase is a smaller box with even more specific clues. A subquery works like that smaller box of clues, providing additional information to the main query (your detective's briefcase).\n",
        "\n",
        "In SQL, a subquery is used to retrieve data that will be used in the main query as a condition to further filter the data you fetch. The subquery is executed first, and its result is then passed to the main query."
      ]
    },
    {
      "cell_type": "markdown",
      "metadata": {
        "id": "RxjVJcdjVxgc"
      },
      "source": [
        "### **Why Use Subqueries?**\n",
        "\n",
        "Subqueries can be incredibly useful when:\n",
        "- You want to filter your rows based on a set of values that you can get from another query\n",
        "- You want to perform multiple data manipulations in a single query or the task you're trying to complete requires multiple logical steps."
      ]
    },
    {
      "cell_type": "markdown",
      "metadata": {
        "id": "4NDKMUvJsCK8"
      },
      "source": [
        "### **Example - Using Basic Subqueries as a filter**\n",
        "\n",
        "**Scenario:**\n",
        "\n",
        "Let's say we want to find the names of the customers who ordered dishes most recently from us. Customer dish orders are found in the `CustomersDishes` table, but it doesn't have the customer names. The customer names are found in the `Customers` table.\n",
        "\n",
        "We could do a join, but there is another way that doesn't involve one - using a subquery!"
      ]
    },
    {
      "cell_type": "markdown",
      "metadata": {
        "id": "ywRAoX7lt9Na"
      },
      "source": [
        "**Breakdown:**\n",
        "\n",
        "First, what we want to do is create a query that gets us a list of the CustomerID's in `CustomersDishes`. This is going to be our **subquery**:\n",
        "\n",
        "```sql\n",
        "SELECT DISTINCT CustomerID\n",
        "FROM CustomersDishes\n",
        "```\n",
        "\n",
        "We use the results from the **subquery** to feed data to the \"main\" query for processing."
      ]
    },
    {
      "cell_type": "markdown",
      "metadata": {
        "id": "h6I-MNL_umru"
      },
      "source": [
        "**The full subquery:**\n",
        "\n",
        "```sql\n",
        "-- This outer section is the main or \"outer\" query\n",
        "SELECT FirstName, LastName\n",
        "FROM Customers\n",
        "-- This is where we check the subquery for the customer ids\n",
        "WHERE CustomerID IN (SELECT DISTINCT CustomerID FROM CustomersDishes)\n",
        "```"
      ]
    },
    {
      "cell_type": "markdown",
      "metadata": {
        "id": "RoJWfPZuvTB9"
      },
      "source": [
        "**How it works:**\n",
        "\n",
        "The main/outer query gets the first and last names in the `Customers` table. Then, in our `WHERE` clause, we check for customer IDs found in our subquery result `(SELECT DISTINCT CustomerID FROM CustomersDishes)`.\n",
        "\n",
        "> **Important:** Subqueries are ALWAYS surrounded by parentheses\n",
        "\n",
        "The outer query will filter the results for the `Customers` table only using the customer IDs found in the `CustomersDishes` table."
      ]
    },
    {
      "cell_type": "markdown",
      "metadata": {
        "id": "Mn91KcrSxo7G"
      },
      "source": [
        "**Caveat**\n",
        "\n",
        "When using a subquery as a filter (like the previous example), the subquery must only return a single column - otherwise you will get an error.\n",
        "\n",
        "However, it is possible to also use a subquery to return results like we were querying another table. We will show an example of that shortly"
      ]
    },
    {
      "cell_type": "markdown",
      "metadata": {
        "id": "MMXl426Q1Zq9"
      },
      "source": [
        "#### **Action Item - Write a basic subquery as a filter**\n",
        "\n",
        "Write a query that finds the FirstName and LastName of customers who have an event scheduled in the `CustomersEvents` table.\n",
        "\n",
        "`Expected Output:`\n",
        "\n",
        "| FirstName | LastName    |\n",
        "|-----------|-------------|\n",
        "| Taylor    | Jenkins     |\n",
        "| Cammi     | Kynett      |\n",
        "| Cleo      | Goldwater   |\n",
        "| Winnah    | D'Elia      |\n",
        "| Ab        | Jurn        |\n",
        "| Lelah     | Seathwright |\n",
        "\n",
        "<br/>\n",
        "<details>\n",
        "<summary>Click here to reveal answer</summary>\n",
        "\n",
        "```sql\n",
        "SELECT FirstName, LastName\n",
        "FROM Customers\n",
        "WHERE CustomerID IN (SELECT DISTINCT CustomerID FROM CustomersEvents)\n",
        "```\n",
        "\n",
        "</details>\n"
      ]
    },
    {
      "cell_type": "code",
      "execution_count": null,
      "metadata": {
        "id": "7F1yyLywsD_1"
      },
      "outputs": [],
      "source": [
        "%%sql\n"
      ]
    },
    {
      "cell_type": "markdown",
      "metadata": {
        "id": "R-lN7VHH3hXD"
      },
      "source": [
        "---"
      ]
    },
    {
      "cell_type": "markdown",
      "metadata": {
        "id": "AzUhjWj83jP3"
      },
      "source": [
        "#### **Lab 2 - Subqueries as a table**\n",
        "\n",
        "In this lab, you will go over how to use a subquery as a table for queries that require multiple steps of processing. You will learn:\n",
        "\n",
        "- How to write advanced queries that involve multiple processing stages to get the desired result\n",
        "- How you can use subqueries to break down complex problems\n",
        "\n",
        "**Instructions**\n",
        "\n",
        "Go through the reading material and examples step-by-step, then complete the **Action Item** at the end."
      ]
    },
    {
      "cell_type": "markdown",
      "metadata": {
        "id": "xHRsLnk-Vxgc"
      },
      "source": [
        "#### **Subqueries as a table**\n",
        "\n",
        "As mentioned earlier, our subqueries can also be used like a custom table that we define. Let's return to our earlier example with the restaurant reviewers price scale.\n",
        "\n",
        "This time, we want to find how many dishes we have that are in each category of the price scale:\n",
        "\n",
        "```sql\n",
        "-- This is our main query\n",
        "SELECT PriceRating, COUNT(*) AS TotalDishes\n",
        "FROM\n",
        "-- START OF SUBQUERY\n",
        "(\n",
        "    SELECT Name\n",
        "    , Price\n",
        "    , Type\n",
        "    , CASE\n",
        "        WHEN Price <= 3.0 THEN 'Super Cheap'\n",
        "        WHEN Price BETWEEN 4.0 AND 5.0 THEN 'Inexpensive'\n",
        "        WHEN Price BETWEEN 5.0 AND 8.0 THEN 'Average'\n",
        "        ELSE 'Pricey'\n",
        "    END AS PriceRating\n",
        "FROM Dishes) AS PriceRatingTable\n",
        "-- END OF SUBQUERY\n",
        "GROUP BY PriceRating\n",
        "ORDER BY TotalDishes DESC\n",
        "```\n",
        "\n",
        "Run this query in the cell below to see how it all works together:"
      ]
    },
    {
      "cell_type": "code",
      "execution_count": 2,
      "metadata": {
        "colab": {
          "base_uri": "https://localhost:8080/",
          "height": 143
        },
        "id": "v0k4OdKjVxgc",
        "outputId": "8205307c-06a3-4e4b-ed5a-774e5586234b"
      },
      "outputs": [
        {
          "data": {
            "text/html": [
              "\n",
              "  <div id=\"df-da409fed-e1b7-44ed-9bad-08f70d67874d\" class=\"colab-df-container\">\n",
              "    <div>\n",
              "<style scoped>\n",
              "    .dataframe tbody tr th:only-of-type {\n",
              "        vertical-align: middle;\n",
              "    }\n",
              "\n",
              "    .dataframe tbody tr th {\n",
              "        vertical-align: top;\n",
              "    }\n",
              "\n",
              "    .dataframe thead th {\n",
              "        text-align: right;\n",
              "    }\n",
              "</style>\n",
              "<table border=\"1\" class=\"dataframe\">\n",
              "  <thead>\n",
              "    <tr style=\"text-align: right;\">\n",
              "      <th></th>\n",
              "      <th>PriceRating</th>\n",
              "      <th>TotalDishes</th>\n",
              "    </tr>\n",
              "  </thead>\n",
              "  <tbody>\n",
              "    <tr>\n",
              "      <th>0</th>\n",
              "      <td>Pricey</td>\n",
              "      <td>11</td>\n",
              "    </tr>\n",
              "    <tr>\n",
              "      <th>1</th>\n",
              "      <td>Average</td>\n",
              "      <td>9</td>\n",
              "    </tr>\n",
              "    <tr>\n",
              "      <th>2</th>\n",
              "      <td>Inexpensive</td>\n",
              "      <td>2</td>\n",
              "    </tr>\n",
              "  </tbody>\n",
              "</table>\n",
              "</div>\n",
              "    <div class=\"colab-df-buttons\">\n",
              "\n",
              "  <div class=\"colab-df-container\">\n",
              "    <button class=\"colab-df-convert\" onclick=\"convertToInteractive('df-da409fed-e1b7-44ed-9bad-08f70d67874d')\"\n",
              "            title=\"Convert this dataframe to an interactive table.\"\n",
              "            style=\"display:none;\">\n",
              "\n",
              "  <svg xmlns=\"http://www.w3.org/2000/svg\" height=\"24px\" viewBox=\"0 -960 960 960\">\n",
              "    <path d=\"M120-120v-720h720v720H120Zm60-500h600v-160H180v160Zm220 220h160v-160H400v160Zm0 220h160v-160H400v160ZM180-400h160v-160H180v160Zm440 0h160v-160H620v160ZM180-180h160v-160H180v160Zm440 0h160v-160H620v160Z\"/>\n",
              "  </svg>\n",
              "    </button>\n",
              "\n",
              "  <style>\n",
              "    .colab-df-container {\n",
              "      display:flex;\n",
              "      gap: 12px;\n",
              "    }\n",
              "\n",
              "    .colab-df-convert {\n",
              "      background-color: #E8F0FE;\n",
              "      border: none;\n",
              "      border-radius: 50%;\n",
              "      cursor: pointer;\n",
              "      display: none;\n",
              "      fill: #1967D2;\n",
              "      height: 32px;\n",
              "      padding: 0 0 0 0;\n",
              "      width: 32px;\n",
              "    }\n",
              "\n",
              "    .colab-df-convert:hover {\n",
              "      background-color: #E2EBFA;\n",
              "      box-shadow: 0px 1px 2px rgba(60, 64, 67, 0.3), 0px 1px 3px 1px rgba(60, 64, 67, 0.15);\n",
              "      fill: #174EA6;\n",
              "    }\n",
              "\n",
              "    .colab-df-buttons div {\n",
              "      margin-bottom: 4px;\n",
              "    }\n",
              "\n",
              "    [theme=dark] .colab-df-convert {\n",
              "      background-color: #3B4455;\n",
              "      fill: #D2E3FC;\n",
              "    }\n",
              "\n",
              "    [theme=dark] .colab-df-convert:hover {\n",
              "      background-color: #434B5C;\n",
              "      box-shadow: 0px 1px 3px 1px rgba(0, 0, 0, 0.15);\n",
              "      filter: drop-shadow(0px 1px 2px rgba(0, 0, 0, 0.3));\n",
              "      fill: #FFFFFF;\n",
              "    }\n",
              "  </style>\n",
              "\n",
              "    <script>\n",
              "      const buttonEl =\n",
              "        document.querySelector('#df-da409fed-e1b7-44ed-9bad-08f70d67874d button.colab-df-convert');\n",
              "      buttonEl.style.display =\n",
              "        google.colab.kernel.accessAllowed ? 'block' : 'none';\n",
              "\n",
              "      async function convertToInteractive(key) {\n",
              "        const element = document.querySelector('#df-da409fed-e1b7-44ed-9bad-08f70d67874d');\n",
              "        const dataTable =\n",
              "          await google.colab.kernel.invokeFunction('convertToInteractive',\n",
              "                                                    [key], {});\n",
              "        if (!dataTable) return;\n",
              "\n",
              "        const docLinkHtml = 'Like what you see? Visit the ' +\n",
              "          '<a target=\"_blank\" href=https://colab.research.google.com/notebooks/data_table.ipynb>data table notebook</a>'\n",
              "          + ' to learn more about interactive tables.';\n",
              "        element.innerHTML = '';\n",
              "        dataTable['output_type'] = 'display_data';\n",
              "        await google.colab.output.renderOutput(dataTable, element);\n",
              "        const docLink = document.createElement('div');\n",
              "        docLink.innerHTML = docLinkHtml;\n",
              "        element.appendChild(docLink);\n",
              "      }\n",
              "    </script>\n",
              "  </div>\n",
              "\n",
              "\n",
              "<div id=\"df-2b48e812-c22b-4ca2-806c-f683d489bc90\">\n",
              "  <button class=\"colab-df-quickchart\" onclick=\"quickchart('df-2b48e812-c22b-4ca2-806c-f683d489bc90')\"\n",
              "            title=\"Suggest charts.\"\n",
              "            style=\"display:none;\">\n",
              "\n",
              "<svg xmlns=\"http://www.w3.org/2000/svg\" height=\"24px\"viewBox=\"0 0 24 24\"\n",
              "     width=\"24px\">\n",
              "    <g>\n",
              "        <path d=\"M19 3H5c-1.1 0-2 .9-2 2v14c0 1.1.9 2 2 2h14c1.1 0 2-.9 2-2V5c0-1.1-.9-2-2-2zM9 17H7v-7h2v7zm4 0h-2V7h2v10zm4 0h-2v-4h2v4z\"/>\n",
              "    </g>\n",
              "</svg>\n",
              "  </button>\n",
              "\n",
              "<style>\n",
              "  .colab-df-quickchart {\n",
              "      --bg-color: #E8F0FE;\n",
              "      --fill-color: #1967D2;\n",
              "      --hover-bg-color: #E2EBFA;\n",
              "      --hover-fill-color: #174EA6;\n",
              "      --disabled-fill-color: #AAA;\n",
              "      --disabled-bg-color: #DDD;\n",
              "  }\n",
              "\n",
              "  [theme=dark] .colab-df-quickchart {\n",
              "      --bg-color: #3B4455;\n",
              "      --fill-color: #D2E3FC;\n",
              "      --hover-bg-color: #434B5C;\n",
              "      --hover-fill-color: #FFFFFF;\n",
              "      --disabled-bg-color: #3B4455;\n",
              "      --disabled-fill-color: #666;\n",
              "  }\n",
              "\n",
              "  .colab-df-quickchart {\n",
              "    background-color: var(--bg-color);\n",
              "    border: none;\n",
              "    border-radius: 50%;\n",
              "    cursor: pointer;\n",
              "    display: none;\n",
              "    fill: var(--fill-color);\n",
              "    height: 32px;\n",
              "    padding: 0;\n",
              "    width: 32px;\n",
              "  }\n",
              "\n",
              "  .colab-df-quickchart:hover {\n",
              "    background-color: var(--hover-bg-color);\n",
              "    box-shadow: 0 1px 2px rgba(60, 64, 67, 0.3), 0 1px 3px 1px rgba(60, 64, 67, 0.15);\n",
              "    fill: var(--button-hover-fill-color);\n",
              "  }\n",
              "\n",
              "  .colab-df-quickchart-complete:disabled,\n",
              "  .colab-df-quickchart-complete:disabled:hover {\n",
              "    background-color: var(--disabled-bg-color);\n",
              "    fill: var(--disabled-fill-color);\n",
              "    box-shadow: none;\n",
              "  }\n",
              "\n",
              "  .colab-df-spinner {\n",
              "    border: 2px solid var(--fill-color);\n",
              "    border-color: transparent;\n",
              "    border-bottom-color: var(--fill-color);\n",
              "    animation:\n",
              "      spin 1s steps(1) infinite;\n",
              "  }\n",
              "\n",
              "  @keyframes spin {\n",
              "    0% {\n",
              "      border-color: transparent;\n",
              "      border-bottom-color: var(--fill-color);\n",
              "      border-left-color: var(--fill-color);\n",
              "    }\n",
              "    20% {\n",
              "      border-color: transparent;\n",
              "      border-left-color: var(--fill-color);\n",
              "      border-top-color: var(--fill-color);\n",
              "    }\n",
              "    30% {\n",
              "      border-color: transparent;\n",
              "      border-left-color: var(--fill-color);\n",
              "      border-top-color: var(--fill-color);\n",
              "      border-right-color: var(--fill-color);\n",
              "    }\n",
              "    40% {\n",
              "      border-color: transparent;\n",
              "      border-right-color: var(--fill-color);\n",
              "      border-top-color: var(--fill-color);\n",
              "    }\n",
              "    60% {\n",
              "      border-color: transparent;\n",
              "      border-right-color: var(--fill-color);\n",
              "    }\n",
              "    80% {\n",
              "      border-color: transparent;\n",
              "      border-right-color: var(--fill-color);\n",
              "      border-bottom-color: var(--fill-color);\n",
              "    }\n",
              "    90% {\n",
              "      border-color: transparent;\n",
              "      border-bottom-color: var(--fill-color);\n",
              "    }\n",
              "  }\n",
              "</style>\n",
              "\n",
              "  <script>\n",
              "    async function quickchart(key) {\n",
              "      const quickchartButtonEl =\n",
              "        document.querySelector('#' + key + ' button');\n",
              "      quickchartButtonEl.disabled = true;  // To prevent multiple clicks.\n",
              "      quickchartButtonEl.classList.add('colab-df-spinner');\n",
              "      try {\n",
              "        const charts = await google.colab.kernel.invokeFunction(\n",
              "            'suggestCharts', [key], {});\n",
              "      } catch (error) {\n",
              "        console.error('Error during call to suggestCharts:', error);\n",
              "      }\n",
              "      quickchartButtonEl.classList.remove('colab-df-spinner');\n",
              "      quickchartButtonEl.classList.add('colab-df-quickchart-complete');\n",
              "    }\n",
              "    (() => {\n",
              "      let quickchartButtonEl =\n",
              "        document.querySelector('#df-2b48e812-c22b-4ca2-806c-f683d489bc90 button');\n",
              "      quickchartButtonEl.style.display =\n",
              "        google.colab.kernel.accessAllowed ? 'block' : 'none';\n",
              "    })();\n",
              "  </script>\n",
              "</div>\n",
              "    </div>\n",
              "  </div>\n"
            ],
            "text/plain": [
              "   PriceRating  TotalDishes\n",
              "0  Pricey       11         \n",
              "1  Average      9          \n",
              "2  Inexpensive  2          "
            ]
          },
          "execution_count": 2,
          "metadata": {},
          "output_type": "execute_result"
        }
      ],
      "source": [
        "%%sql\n",
        "SELECT PriceRating, COUNT(*) AS TotalDishes\n",
        "FROM\n",
        "-- START OF SUBQUERY\n",
        "(\n",
        "    SELECT Name\n",
        "    , Price\n",
        "    , Type\n",
        "    , CASE\n",
        "        WHEN Price <= 3.0 THEN 'Super Cheap'\n",
        "        WHEN Price BETWEEN 4.0 AND 5.0 THEN 'Inexpensive'\n",
        "        WHEN Price BETWEEN 5.0 AND 8.0 THEN 'Average'\n",
        "        ELSE 'Pricey'\n",
        "    END AS PriceRating\n",
        "FROM Dishes) AS PriceRatingTable\n",
        "-- END OF SUBQUERY\n",
        "GROUP BY PriceRating\n",
        "ORDER BY TotalDishes DESC"
      ]
    },
    {
      "cell_type": "markdown",
      "metadata": {
        "id": "IFPAqLC05kvt"
      },
      "source": [
        "#### **Breakdown - Subqueries as a table**\n",
        "\n",
        "There looks like a lot happening in that query. It can look quite confusing too. But we'll break it down piece by piece:\n",
        "\n",
        "**Let's start with the subquery:**\n",
        "\n",
        "```sql\n",
        "(\n",
        "    SELECT Name\n",
        "    , Price\n",
        "    , Type\n",
        "    , CASE\n",
        "        WHEN Price <= 3.0 THEN 'Super Cheap'\n",
        "        WHEN Price BETWEEN 4.0 AND 5.0 THEN 'Inexpensive'\n",
        "        WHEN Price BETWEEN 5.0 AND 8.0 THEN 'Average'\n",
        "        ELSE 'Pricey'\n",
        "    END AS PriceRating\n",
        "FROM Dishes) AS PriceRatingTable\n",
        "```\n",
        "- This is the same query we wrote earlier in the `CASE` statements section. We are using it as our subquery because we want the main query to use its results.\n",
        "- Just like the other form of subquery, we wrap this in parentheses.\n",
        "- The difference is that this subquery returns a table as a result and we give it an alias (`PriceRatingTable`), which is required.\n",
        "\n"
      ]
    },
    {
      "cell_type": "markdown",
      "metadata": {
        "id": "gRq9OnWC7IR0"
      },
      "source": [
        "**Now let's look at the main query:**\n",
        "\n",
        "```sql\n",
        "SELECT PriceRating, COUNT(*) AS TotalDishes\n",
        "FROM -- SUBQUERY GOES HERE\n",
        "GROUP BY PriceRating\n",
        "ORDER BY TotalDishes DESC\n",
        "```\n",
        "\n",
        "- The main query is just your typical aggregate query that we already know\n",
        "- The only difference is that we are selecting data from a subquery by putting the subquery after `FROM` instead of another table"
      ]
    },
    {
      "cell_type": "markdown",
      "metadata": {
        "id": "RSkvJ08F76I4"
      },
      "source": [
        "**Summary - Subqueries as tables**\n",
        "\n",
        "- Subqueries can also be used as tables\n",
        "- They must be wrapped in parentheses\n",
        "- The main query accesses the results in the subquery using the `FROM` clause\n",
        "- By using subqueries like this, you can create queries that involve more than one data processing step to get your desired results"
      ]
    },
    {
      "cell_type": "markdown",
      "metadata": {
        "id": "8CMS8EFkVxgd"
      },
      "source": [
        "#### **Action Item - Using Subqueries**\n",
        "\n",
        "The restaurant owners have been working on putting together a new menu and want to know the average price of a dish for each type of item. If you recall from earlier, we wrote a query to help them put that menu together using `UNION`. Here is the query to refresh your memory:\n",
        "\n",
        "```sql\n",
        "SELECT Name, Price, Type\n",
        "FROM NewDishes\n",
        "WHERE Type IN ('Appetizer', 'Dessert')\n",
        "UNION\n",
        "SELECT Name, Price, Type\n",
        "FROM Dishes\n",
        "WHERE Type IN ('Main', 'Beverage')\n",
        "```\n",
        "\n",
        "Find the average price of a dish for each `Type` using the query above as a subquery. Order your results by the average price in descending order.\n",
        "\n",
        "`Expected Output:`\n",
        "\n",
        "| Type      | MeanPrice |\n",
        "|-----------|-----------|\n",
        "| Main      | 9.094000  |\n",
        "| Appetizer | 8.497500  |\n",
        "| Dessert   | 7.250000  |\n",
        "| Beverage  | 5.333333  |\n",
        "\n",
        "<br/>\n",
        "<details>\n",
        "<summary>Click to reveal answer</summary>\n",
        "\n",
        "```sql\n",
        "SELECT Type, AVG(Price) AS MeanPrice\n",
        "FROM (\n",
        "    SELECT Name, Price, Type\n",
        "    FROM NewDishes\n",
        "    WHERE Type IN ('Appetizer', 'Dessert')\n",
        "    UNION\n",
        "    SELECT Name, Price, Type\n",
        "    FROM Dishes\n",
        "    WHERE Type IN ('Main', 'Beverage')\n",
        ") AS NewMenu\n",
        "GROUP BY Type\n",
        "ORDER BY MeanPrice DESC\n",
        "```\n",
        "\n",
        "</details>"
      ]
    },
    {
      "cell_type": "code",
      "execution_count": null,
      "metadata": {
        "id": "uJcrcZSyVxgd"
      },
      "outputs": [],
      "source": [
        "%%sql\n",
        "\n"
      ]
    },
    {
      "cell_type": "markdown",
      "metadata": {
        "id": "Bj-aw2h08pNM"
      },
      "source": [
        "**You've finished Lab 2! Outstanding!**\n",
        "\n",
        "---"
      ]
    },
    {
      "cell_type": "markdown",
      "metadata": {
        "id": "DIy5V1XrVxgd"
      },
      "source": [
        "### **Lab 3 - Common Table Expressions (CTE) and Subqueries**\n",
        "\n",
        "While not technically a subquery, **Common Table Expressions (CTEs)** are a popular method in SQL for storing the results of intermediate queries to write more complex, multi-step queries.\n",
        "\n",
        "In this lab, you will learn:\n",
        "\n",
        "- What a Common Table Expression (CTE) is\n",
        "- Why they are useful\n",
        "- How to rewrite a table subquery as a CTE for better readability\n",
        "\n",
        "**Instructions**\n",
        "\n",
        "Read through the content in this section and complete the **Action Item** at the end."
      ]
    },
    {
      "cell_type": "markdown",
      "metadata": {
        "id": "DK-NNyKJVxgd"
      },
      "source": [
        "#### **What is a CTE?**\n",
        "\n",
        "A CTE, or Common Table Expression, is a temporary result set that you can reference within a `SELECT`, `INSERT`, `UPDATE`, or `DELETE` statement. CTEs are defined using the `WITH` clause. Once defined, a CTE is not stored as an object in the database; it exists just for the duration of the query. This means that any \"tables\" you create with your subquery will only be around when the query runs - once the query finishes, the table is no longer there."
      ]
    },
    {
      "cell_type": "markdown",
      "metadata": {
        "id": "hb1g68pWVxgd"
      },
      "source": [
        "#### **How is a CTE Different from a Subquery?**\n",
        "\n",
        "While CTEs and Subqueries are similar in that they let you write queries with multiple processing steps, they differ in some key ways:\n",
        "\n",
        "- **Readability and Maintenance**: CTEs can make your queries more readable and easier to maintain. They allow you to name your temporary result set and reference it like you would a regular table. You can't do that with a subquery.\n",
        "\n",
        "- **Reusability**: One of the main advantages of a CTE is that you can reference it multiple times in your main query, whereas a subquery would have to be rewritten each time you want to use it.\n",
        "\n",
        "- **(Advanced Use Case) Recursive Queries**: CTEs can be recursive, meaning they can reference themselves. This is useful for hierarchical or tree-structured data, like organizational charts. Subqueries cannot do this. This is out of the scope of this course, but is worth mentioning regardless.\n",
        "\n",
        "- **Ordering**: A CTE can be ordered using an ORDER BY clause, which can simplify the main query. In contrast, you cannot order a subquery that returns multiple rows (unless you're using it with an IN clause.)"
      ]
    },
    {
      "cell_type": "markdown",
      "metadata": {
        "id": "ZPN903UwVxgd"
      },
      "source": [
        "#### **Example - Rewriting our subquery using a CTE**\n",
        "\n",
        "Subqueries are very useful, but they can be tricky to write and maintain simply because the syntax looks confusing. They require you to read queries from the inside-out to understand what's going on. That isn't the most intuitive thing to do.\n",
        "\n",
        "This is a good reason to consider using CTEs instead. Using a CTE, we can make our query quite a bit more readable.\n",
        "\n",
        "Let's rewrite our original subquery and use a CTE instead:\n",
        "\n",
        "```sql\n",
        "WITH pricing_scale AS ( -- We start each CTE using the WITH clause and naming our result. We're using \"pricing_scale\" here\n",
        "    -- This is our \"inner\" query, still inside of parentheses\n",
        "    SELECT Name,\n",
        "          Price,\n",
        "          Type,\n",
        "          CASE\n",
        "            WHEN Price <= 3.0 THEN 'Super Cheap'\n",
        "            WHEN Price BETWEEN 4.0 AND 5.0 THEN 'Inexpensive'\n",
        "            WHEN Price BETWEEN 5.0 AND 8.0 THEN 'Average'\n",
        "            ELSE 'Pricey' -- Anything over 8.0 is Pricey\n",
        "        END AS PriceRating\n",
        "    FROM Dishes\n",
        ")\n",
        "-- This is the start of our \"outer\" query\n",
        "SELECT PriceRating, COUNT(*) AS TotalDishes\n",
        "FROM pricing_scale -- We reference our table using the name we gave it using the WITH clause\n",
        "GROUP BY PriceRating\n",
        "ORDER BY TotalDishes DESC\n",
        "```"
      ]
    },
    {
      "cell_type": "markdown",
      "metadata": {
        "id": "o7SG8bcKVxgd"
      },
      "source": [
        "#### **Breakdown - Rewriting our subquery as a CTE**\n",
        "\n",
        "Our CTE, like the subquery, has two parts:\n",
        "- The CTE itself, and\n",
        "- A main query\n",
        "\n",
        "You need both parts for the CTE to work correctly.\n",
        "\n"
      ]
    },
    {
      "cell_type": "markdown",
      "metadata": {
        "id": "jKQOveD0Vxgd"
      },
      "source": [
        "##### **The CTE**\n",
        "\n",
        "We'll start with the CTE itself:\n",
        "\n",
        "```sql\n",
        "WITH pricing_scale AS (\n",
        "    SELECT Name\n",
        "        , Price\n",
        "        , Type\n",
        "        , CASE\n",
        "            WHEN Price <= 3.0 THEN 'Super Cheap'\n",
        "            WHEN Price BETWEEN 4.0 AND 5.0 THEN 'Inexpensive'\n",
        "            WHEN Price BETWEEN 5.0 AND 8.0 THEN 'Average'\n",
        "            ELSE 'Pricey' -- Anything over 8.0 is Pricey\n",
        "        END AS PriceRating\n",
        "    FROM Dishes\n",
        ")\n",
        "```\n",
        "\n",
        "Let's break this down:\n",
        "\n",
        "- First, we start the query using `WITH pricing_scale AS`, which is how we start every CTE query. This lets us give the CTE a descriptive name. It's similar to using an alias for a subquery.\n",
        "- Just like in a subquery, we put our CTE query inside of a pair of parentheses. The difference here is that we're writing our main query underneath the CTE instead of on top of it. This can help a lot with readability.\n"
      ]
    },
    {
      "cell_type": "markdown",
      "metadata": {
        "id": "8DK1_isqVxgd"
      },
      "source": [
        "##### **The Main Query of a CTE**\n",
        "\n",
        "```sql\n",
        "SELECT PriceRating, COUNT(*) AS TotalDishes\n",
        "FROM pricing_scale -- We reference our table using the name we gave it using the WITH clause\n",
        "GROUP BY PriceRating\n",
        "ORDER BY TotalDishes DESC\n",
        "```\n",
        "\n",
        "Just like the subquery, we use a main query to perform additional processing on the result from the CTE query. The main difference, as mentioned above, is that the main query is underneath the CTE query rather than the other way around like in subqueries. Also, we can reference the name of the CTE query directly in the `FROM` clause, which we can't do with a subquery.\n"
      ]
    },
    {
      "cell_type": "markdown",
      "metadata": {
        "id": "lEGpe3MsVxgd"
      },
      "source": [
        "#### **Action Item - Using a CTE**\n",
        "\n",
        "For this exercise, you will simply rewrite the query you wrote for the subquery action item above as a CTE. Use the previous examples as a reference. The output will be the same as the previous query.\n",
        "\n",
        "<br/>\n",
        "<details>\n",
        "<summary>Click here to reveal answer</summary>\n",
        "\n",
        "```sql\n",
        "WITH NewMenu AS (\n",
        "    SELECT Name, Price, Type\n",
        "    FROM NewDishes\n",
        "    WHERE Type IN ('Appetizer', 'Dessert')\n",
        "    UNION\n",
        "    SELECT Name, Price, Type\n",
        "    FROM Dishes\n",
        "    WHERE Type IN ('Main', 'Beverage')\n",
        ")\n",
        "SELECT Type, AVG(Price) AS MeanPrice\n",
        "FROM NewMenu\n",
        "GROUP BY Type\n",
        "ORDER BY MeanPrice DESC\n",
        "```\n",
        "\n",
        "</details>"
      ]
    },
    {
      "cell_type": "code",
      "execution_count": null,
      "metadata": {
        "id": "wu8kXzeUVxgd"
      },
      "outputs": [],
      "source": [
        "%%sql\n"
      ]
    },
    {
      "cell_type": "markdown",
      "metadata": {
        "id": "NIwxw4Nv-sfz"
      },
      "source": [
        "**Congratulations, you have completed Lab 3! Great job!**\n",
        "\n",
        "---"
      ]
    },
    {
      "cell_type": "markdown",
      "metadata": {
        "id": "pK2eYmq8Vxgd"
      },
      "source": [
        "### **<em>Comprehension Check</em> - Subqueries: Writing a query within a query**\n",
        "\n",
        "Answer the questions below to check your understanding of what we have covered so far. Try to answer the questions first before looking at the answers:\n",
        "\n",
        "*1. What is a subquery in SQL??*\n",
        "<details>\n",
        "    <summary>Click to reveal the answer</summary>\n",
        "    <p>A subquery is a query nested inside another query.</p>\n",
        "</details>\n",
        "\n",
        "\n",
        "*2. What type of brackets are commonly used to encapsulate a subquery?*\n",
        "<details>\n",
        "    <summary>Click to reveal the answer</summary>\n",
        "    <p>Parentheses () are commonly used to encapsulate a subquery.</p>\n",
        "</details>\n",
        "\n",
        "\n",
        "*3. What does CTE stand for?*\n",
        "<details>\n",
        "    <summary>Click to reveal the answer</summary>\n",
        "    <p>`RIGHT JOIN` is the opposite of `LEFT JOIN`. It keeps all the records from the right-side table and only the matching records from the left-side table. Unmatched records from the left-side table will have `NULL` values.</p>\n",
        "</details>\n",
        "\n",
        "*4. What is the keyword used to start a CTE?*\n",
        "<details>\n",
        "    <summary>Click to reveal the answer</summary>\n",
        "    <p>The keyword used to start a CTE is WITH.</p>\n",
        "</details>\n",
        "\n",
        "*5. Can a CTE be referenced more than once in a query?*\n",
        "<details>\n",
        "    <summary>Click to reveal the answer</summary>\n",
        "    <p>Yes, a CTE can be referenced multiple times in a query.</p>\n",
        "</details>"
      ]
    },
    {
      "cell_type": "markdown",
      "metadata": {
        "id": "peX0DPUY-zE4"
      },
      "source": [
        "## Conclusion\n",
        "\n",
        "Congratulations on completing SQL 102! You have a lot of new techniques to the skillset you began developing in SQL 101. Now you're ready to take on more complex questions. Great job! Let's keep moving forward to SQL 103, where you'll learn how to combine data from multiple tables.\n",
        "\n",
        "As always, we encourage you to continue practicing and learning more. Use both the resources we provide and find opportunities to learn independently.\n",
        "\n",
        "Now you are ready to help us solve the [**SQL Murder Mystery!**](https://colab.research.google.com/github/freestackinitiative/coop_sql_notebooks/blob/main/COOP_SQL_Murder_Mystery.ipynb)"
      ]
    },
    {
      "cell_type": "markdown",
      "metadata": {
        "id": "JAiW8CNnqb1z"
      },
      "source": [
        "## More resources for further practice\n",
        "\n",
        "- [SQL Bolt](https://sqlbolt.com/): The lessons here are a great introduction to SQL and you know the platform already!\n",
        "- [Mode](https://mode.com/sql-tutorial/): A comprehensive SQL tutorial from beginner all the way to advanced SQL. There's even a data analytics with SQL tutorial. This is a great resource to learn about SQL in depth and practice what you learn in their online database.\n",
        "- [StrataScratch](https://platform.stratascratch.com/coding): Practice coding questions geared toward data analysts and data scientists. You can solve coding problems used by real companies for technical interviews using PostgresSQL, Python, R, or MySQL. It's free to sign up!\n",
        "- [Codecademy - Free Learn SQL Course](https://www.codecademy.com/learn/learn-sql): Codecademy is another great resource to learn SQL as well as most other languages. There are a lot of free resources here that can help you learn SQL, Python, R, and many other languages.\n",
        "- [Socratica SQL (YouTube)](https://www.youtube.com/watch?v=nWyyDHhTxYU&list=PLih4ch-U2DiBbMoFK4ML9faT3k3MM2UQY): This is a great playlist that will get you started learning SQL with one of the most popular relational databases - Postgres.\n",
        "- [DB Fiddle](https://dbfiddle.uk/): This site is like a SQL scratch pad. You can use it to practice doing stuff like creating tables and inserting data into them, and all sorts of other stuff that you might not be able to do so freely in a live database. It's a sandbox, basically. Here are a couple of links to fiddles with some data in them to play with: [fiddle 1](https://dbfiddle.uk/?rdbms=postgres_13&fiddle=366b683701596d3f7459b0411c15acd1) and [fiddle 2](https://dbfiddle.uk/?rdbms=postgres_13&fiddle=dfffc1939f629d9286c55d732fb656c5).\n",
        "\n",
        "\n",
        "And don't forget to keep your [SQL Cheatsheet](https://martinmarroyo.github.io/sqlcheatsheetandresources-coop/) handy!"
      ]
    }
  ],
  "metadata": {
    "celltoolbar": "Slideshow",
    "colab": {
      "provenance": [],
      "toc_visible": true
    },
    "kernelspec": {
      "display_name": "Python 3 (ipykernel)",
      "language": "python",
      "name": "python3"
    },
    "language_info": {
      "codemirror_mode": {
        "name": "ipython",
        "version": 3
      },
      "file_extension": ".py",
      "mimetype": "text/x-python",
      "name": "python",
      "nbconvert_exporter": "python",
      "pygments_lexer": "ipython3",
      "version": "3.11.4"
    }
  },
  "nbformat": 4,
  "nbformat_minor": 0
}

{
  "cells": [
    {
      "cell_type": "markdown",
      "metadata": {
        "author": "Martin Arroyo",
        "email": "martinm.arroyo7@gmail.com",
        "id": "rY2SmNlkushe"
      },
      "source": [
        "# SQL 101 - Basic Data Retrieval\n",
        "\n",
        "\n",
        "\n",
        "By: Martin Arroyo"
      ]
    },
    {
      "cell_type": "markdown",
      "metadata": {
        "id": "pCpywXrSushh"
      },
      "source": [
        "## Introduction\n",
        "\n",
        "\n",
        "Now that you have a foundation of database theory under your belt, it's time to learn how to communicate with a database and write queries using SQL! In this notebook, we will focus on teaching you the basics of writing queries against single tables. In 102, we will show you more advanced querying techniques that will enable you to answer more complex, multi-step questions. And in 103, you'll learn how to combine data from multiple tables to enrich your queries - but we will walk before we run."
      ]
    },
    {
      "cell_type": "markdown",
      "metadata": {
        "id": "_vtFqzB7ushi"
      },
      "source": [
        "### About this notebook\n",
        "\n",
        "All of your queries will be written using preloaded databases that are available only in this notebook. Our \"RDBMS\" and SQL dialect is called `duckdb`, a new and popular Python library that provides the framework to make our queries possible. You can find [the documentation for `duckdb` here](https://duckdb.org/docs/sql/introduction) - you will want to keep the documentation handy.\n",
        "\n",
        "`teachdb`, which provides the data that you will be working with, is a Python library written by The Freestack Initiative, a group of COOP alumni who want to empower the community to learn and improve their technical skills by providing materials and resources at low (or no) cost."
      ]
    },
    {
      "cell_type": "markdown",
      "metadata": {
        "id": "Cp08s6IWsBlJ"
      },
      "source": [
        "## How to use this notebook\n",
        "\n",
        "First, we'll do a quick tutorial on how to use the notebook with these tools, then we'll dive into your first SQL query!"
      ]
    },
    {
      "cell_type": "markdown",
      "metadata": {
        "id": "uqwSahMnushj"
      },
      "source": [
        "### **Step 1: Press the play button in the cell below to set up the database and notebook**\n",
        "\n",
        "You will see a checkmark appear when the database is finished setting up."
      ]
    },
    {
      "cell_type": "code",
      "execution_count": null,
      "metadata": {
        "author": "Martin Arroyo",
        "email": "martinm.arroyo7@gmail.com",
        "id": "zZ9ruuMrSn64",
        "reason": "Proof of work - made by Martin Arroyo",
        "tags": [
          "hide-input"
        ]
      },
      "outputs": [],
      "source": [
        "%%capture --no-stderr\n",
        "# @title Press Play { display-mode: \"form\" }\n",
        "\n",
        "# This code is used to set up the notebook by installing the libraries we need, configuring extensions to\n",
        "# make displays for our queries look nice, and connecting to our relational database so that you can write\n",
        "# queries in code cells using the %%sql magic tag.\n",
        "\n",
        "# Install `teachdb` if it's not in the system already\n",
        "%pip install --quiet --upgrade git+https://github.com/freestackinitiative/teachingdb.git\n",
        "import pandas as pd\n",
        "from teachdb.teachdb import connect_teachdb\n",
        "# Set configurations for notebook\n",
        "%load_ext sql\n",
        "%config SqlMagic.autopandas = True\n",
        "%config SqlMagic.feedback = False\n",
        "%config SqlMagic.displaycon = False\n",
        "pd.set_option('display.max_rows', None)\n",
        "pd.set_option('display.max_columns', None)\n",
        "pd.set_option('display.width', None)\n",
        "pd.set_option('display.max_colwidth', 99)\n",
        "# Load data\n",
        "con = connect_teachdb(databases=[\"sales_cogs_opex\", \"restaurant\"])\n",
        "%sql con\n",
        "\n",
        "# Check out the Freestack Initiative @https://github.com/freestackinitiative"
      ]
    },
    {
      "cell_type": "markdown",
      "metadata": {
        "id": "anWo_Iy20gRL"
      },
      "source": [
        "### **Step 2: Run a query**\n",
        "\n",
        "To run SQL queries against the database, create a new code cell. Then write `%%sql` at the top. This tells the notebook that this cell is being used to query the database. You can write your queries underneath the `%%sql` line by pressing the play button of the cell or selecting the cell and using `CTRL + Shift + Enter` on Windows (`CMD + Shift + Return` on Mac.)\n",
        "\n",
        "Go ahead and try it by executing the query in the cell below:"
      ]
    },
    {
      "cell_type": "code",
      "execution_count": null,
      "metadata": {
        "id": "khdlRYapr0h-"
      },
      "outputs": [],
      "source": [
        "%%sql\n",
        "\n",
        "SELECT *\n",
        "FROM Dishes\n",
        "LIMIT 5\n"
      ]
    },
    {
      "cell_type": "markdown",
      "metadata": {
        "id": "5eIceLphushr"
      },
      "source": [
        "Now you know how to write your queries in this notebook! Feel free to make as many new cells as you need to experiment with queries. Don't forget to save a copy of the notebook so that you won't lose any of your work. Let's go ahead and learn how to `SELECT` data!"
      ]
    },
    {
      "cell_type": "markdown",
      "metadata": {
        "id": "EgIfRtZAyWQg"
      },
      "source": [
        "## **Basic Data Retrieval**\n",
        "\n",
        "**Key Skills/Concepts**\n",
        "\n",
        "- Write SQL statements to retrieve data from tables.\n",
        "- Use aliases for clarity in queries.\n",
        "- Understand how to eliminate duplicate results.\n",
        "\n",
        "In this first section, we will introduce you to SQL query basics, and you will learn how to write simple queries against a single table. We will also cover how to change the names of items in your query, as well as how to remove duplicate rows."
      ]
    },
    {
      "cell_type": "markdown",
      "metadata": {
        "id": "Pxk1CxKhushr"
      },
      "source": [
        "#### **Scenario**\n",
        "\n",
        "To make things a bit more interesting, we'll be using a dataset from a fictional restaurant. The queries we write will help you learn more SQL while also learning more about the restaurant and its data. Let's start by looking at the restaurant's menu, which is found in the `Dishes` table."
      ]
    },
    {
      "cell_type": "markdown",
      "metadata": {
        "id": "aiJJTjpKushs"
      },
      "source": [
        "#### **`SELECT *` - Selecting all columns from a table**\n",
        "\n",
        "The most basic SQL query you will ever write is one where you simply retrieve all of the data from a single table. In order to create this query, you will need to know two commands: `SELECT` and `FROM`:\n",
        "\n",
        "- `SELECT`: Used to select all of the specified columns in a table. When we want to select all of the columns in a table, we can use `*` as a shortcut instead of writing all of the column names.\n",
        "- `FROM`: Specifies the name of the table that you would like to query.\n",
        "\n",
        "The general form of a query where we ask to see all of the columns and rows in a table is:\n",
        "\n",
        "```sql\n",
        "SELECT *\n",
        "FROM table_name\n",
        "```"
      ]
    },
    {
      "cell_type": "markdown",
      "metadata": {
        "id": "Peq6__o_ushs"
      },
      "source": [
        "##### **Action Item - Select all columns from a table**\n",
        "\n",
        "Write a query that shows all of the dishes from the `Dishes` table. The query should include all of the columns from that table as well. Use the general form above to help you structure it:\n",
        "\n",
        "<details>\n",
        "<summary>Click here to reveal answer</summary>\n",
        "\n",
        "```sql\n",
        "SELECT *\n",
        "FROM Dishes\n",
        "```\n",
        "\n",
        "</details>"
      ]
    },
    {
      "cell_type": "code",
      "execution_count": null,
      "metadata": {
        "id": "k8mZ8GPgyfyW"
      },
      "outputs": [],
      "source": [
        "%%sql\n"
      ]
    },
    {
      "cell_type": "markdown",
      "metadata": {
        "id": "cBfjsmTeushs"
      },
      "source": [
        "#### **`SELECT column1, column2, column3, ...` - Selecting specific columns from a table**\n",
        "\n",
        "Awesome! You just wrote your first query that retrieved the menu from our database. It seems like they have some really tasty dishes at very reasonable prices. But this is also a lot of information to take in all at once. Right now, **we'd just like to see the name of the dish, the price, and what type it is.** That means we'll need to specify columns that we want!\n",
        "\n",
        "This leads us to the next general form of a simple select query:\n",
        "\n",
        "```sql\n",
        "SELECT column1, column2, column3\n",
        "FROM table_name\n",
        "```"
      ]
    },
    {
      "cell_type": "markdown",
      "metadata": {
        "id": "ZjTQYN1dusht"
      },
      "source": [
        "##### **Action Item - Select specific columns from a table**\n",
        "\n",
        "Write a query that shows the `Name`, `Price`, and `Type` of dishes in the `Dishes` table.\n",
        "\n",
        "<details>\n",
        "<summary>Click here to reveal answer</summary>\n",
        "\n",
        "```sql\n",
        "SELECT Name, Price, Type\n",
        "FROM Dishes\n",
        "```\n",
        "</details>"
      ]
    },
    {
      "cell_type": "code",
      "execution_count": null,
      "metadata": {
        "id": "OkpfAQieusht"
      },
      "outputs": [],
      "source": [
        "%%sql\n",
        "\n"
      ]
    },
    {
      "cell_type": "markdown",
      "metadata": {
        "id": "oQm9WdxUusht"
      },
      "source": [
        "##### **How to write aliases using the `AS` keyword**\n",
        "\n",
        "Here's the general form of the query:\n",
        "\n",
        "```sql\n",
        "SELECT column1 AS Col1, column2 AS \"Column 2\"\n",
        "FROM some_table AS my_table\n",
        "```"
      ]
    },
    {
      "cell_type": "markdown",
      "metadata": {
        "id": "NJXNRY_nusht"
      },
      "source": [
        "##### **Action Item - Aliases**\n",
        "\n",
        "Write a query using the same format as the one prior, except rename the `Name` column as `DishName`, the `Price` column as `Cost`, and the `Type` column as `DishType`.\n",
        "\n",
        "<details>\n",
        "<summary>Click here to reveal answer</summary>\n",
        "\n",
        "```sql\n",
        "SELECT Name AS DishName, Price AS Cost, Type AS DishType\n",
        "FROM Dishes\n",
        "```\n",
        "\n",
        "</details>"
      ]
    },
    {
      "cell_type": "code",
      "execution_count": null,
      "metadata": {
        "id": "X3pYVGqzusht"
      },
      "outputs": [],
      "source": [
        "%%sql\n",
        "\n"
      ]
    },
    {
      "cell_type": "markdown",
      "metadata": {
        "id": "lH7heJSEusht"
      },
      "source": [
        "##### **How to write a query using `DISTINCT`**\n",
        "\n",
        "Here is the general query form:\n",
        "\n",
        "```sql\n",
        "SELECT DISTINCT column1, column2, column3\n",
        "FROM some_table\n",
        "```"
      ]
    },
    {
      "cell_type": "markdown",
      "metadata": {
        "id": "VnhivQBzushu"
      },
      "source": [
        "##### **Action Item - `DISTINCT` clause**\n",
        "\n",
        "Using the `Dishes` table, write a query using just the `Type` column that shows the distinct dish types that are available.\n",
        "\n",
        "<details>\n",
        "<summary>Click here to reveal answer</summary>\n",
        "\n",
        "```sql\n",
        "SELECT DISTINCT Type\n",
        "FROM Dishes\n",
        "```\n",
        "\n",
        "</details>"
      ]
    },
    {
      "cell_type": "code",
      "execution_count": null,
      "metadata": {
        "id": "0KHDYCc2ushu"
      },
      "outputs": [],
      "source": [
        "%%sql\n",
        "\n"
      ]
    },
    {
      "cell_type": "markdown",
      "metadata": {
        "id": "2uUhhGatzB5S"
      },
      "source": [
        "#### **Basic Data Retrieval - Comprehension Check**\n",
        "\n",
        "Great job in this section! You learned how to write basic select queries against tables in a database, how to create aliases for column and table names, and how to remove duplicate rows in your query using `DISTINCT`. Let's do some review over what we've learned so far:\n",
        "\n",
        "**1. What is the difference between a query that uses `SELECT *` and one that uses `SELECT col1, col2`?**\n",
        "<details>\n",
        "    <summary>Click here to reveal the answer</summary>\n",
        "    <p>The query using SELECT * will automatically include all of the columns from the table in the result set. On the other hand, when we use SELECT col1, col2, etc. we are specifying the columns that we want to return.</p>\n",
        "</details>\n",
        "\n",
        "**2. What is the clause that we use to create an alias? And is an alias name permanent?**\n",
        "<details>\n",
        "    <summary>Click here to reveal the answer</summary>\n",
        "    <p>We use the AS clause to create an alias. Aliases are not permanent and are generally only for display purposes.</p>\n",
        "</details>\n",
        "\n",
        "**3. What does `DISTINCT` do and why should we only use it sparingly?**\n",
        "<details>\n",
        "    <summary>Click here to reveal the answer</summary>\n",
        "    <p>DISTINCT removes duplicate rows in a query result. However, it should be used sparingly because it is a computationally expensive command to run, especially on large data sets.</p>\n",
        "</details>\n",
        "\n"
      ]
    },
    {
      "cell_type": "markdown",
      "metadata": {
        "id": "3YKTOaXJzm0-"
      },
      "source": [
        "## Filtering Data Based On Conditions\n",
        "\n",
        "**Key Skills/Concepts**\n",
        "- Implement conditions to filter specific data rows.\n",
        "- Use text search tools in SQL.\n",
        "- Apply logical operators to refine query results"
      ]
    },
    {
      "cell_type": "markdown",
      "metadata": {
        "id": "gdCy3d9Pushu"
      },
      "source": [
        "#### Using `WHERE` & `HAVING` to filter data\n",
        "\n",
        "To filter our data, SQL gives us two clauses - `WHERE` and `HAVING`:\n",
        "\n",
        "**`WHERE`**: Filters data based on a set of one or more specified true/false conditions.\n",
        "    \n",
        "*Example:*\n",
        "```sql\n",
        "SELECT *\n",
        "FROM Dishes\n",
        "WHERE Type='Appetizer'    \n",
        "```"
      ]
    },
    {
      "cell_type": "markdown",
      "metadata": {
        "id": "Kartvm6Mushv"
      },
      "source": [
        "##### **Action Item 1 - Basic `WHERE` Clause**\n",
        "\n",
        "Write a query that only shows appetizers from the `Dishes` table. It should only include the name of the dish and the price.\n",
        "\n",
        "<details>\n",
        "<summary>Click here to reveal answer</summary>\n",
        "\n",
        "```sql\n",
        "SELECT Name, Price\n",
        "FROM Dishes\n",
        "WHERE Type='Appetizer'\n",
        "```\n",
        "\n",
        "</details>"
      ]
    },
    {
      "cell_type": "code",
      "execution_count": null,
      "metadata": {
        "id": "PpABNXoBzv7Z"
      },
      "outputs": [],
      "source": [
        "%%sql\n",
        "\n"
      ]
    },
    {
      "cell_type": "markdown",
      "metadata": {
        "id": "2Q6Oa54Zushv"
      },
      "source": [
        "##### **Action Item 2 - Basic `WHERE` Clause**\n",
        "\n",
        "Now write a query that only shows dishes that are considered a main course. Include the name of the dish, its description, and the price in the results.\n",
        "\n",
        "<details>\n",
        "<summary>Click here to reveal answer</summary>\n",
        "\n",
        "```sql\n",
        "SELECT Name, Description, Price\n",
        "FROM Dishes\n",
        "WHERE Type='Main'\n",
        "```\n",
        "\n",
        "</details>"
      ]
    },
    {
      "cell_type": "code",
      "execution_count": null,
      "metadata": {
        "id": "WzQoZ2Syushv"
      },
      "outputs": [],
      "source": [
        "%%sql\n",
        "\n"
      ]
    },
    {
      "cell_type": "markdown",
      "metadata": {
        "id": "8BxCilylush8"
      },
      "source": [
        "### **Comparison and Logical Operators**"
      ]
    },
    {
      "cell_type": "markdown",
      "metadata": {
        "id": "jO-scVi-ush8"
      },
      "source": [
        "#### **Comparison Operators**: Used to compare one value to another when filtering.\n",
        "\n",
        "![Conditional Operators in SQL](https://github.com/freestackinitiative/coop_sql_notebooks/blob/2.0/assets/comparison-operators.png?raw=1)"
      ]
    },
    {
      "cell_type": "markdown",
      "metadata": {
        "id": "qLhNKOpNush9"
      },
      "source": [
        "#### **Logical Operators**: Used to compare two or more conditions when filtering.\n",
        "\n",
        "![Logical Operators in SQL](https://github.com/freestackinitiative/coop_sql_notebooks/blob/2.0/assets/logical-operators.png?raw=1)\n",
        "\n",
        ">**Extra Context: <em>Boolean Logic</em>**\n",
        ">\n",
        "> Boolean logic is a system of thought based on \"binary\" choices: true or false, yes or no, 1 or 0. It's like a light switch that can either be on (true) or off (false), and it's used in computing to make decisions based on these binary conditions. These are the same conditions used when filtering data. It is used extensively in coding and analytics, so it is crucial to understand at least the basics. [Here is a great article](https://www.codecademy.com/resources/blog/what-is-boolean-logic/) that breaks the concept down nicely.\n",
        "\n",
        "Let's work through some examples together.\n",
        "\n",
        "---"
      ]
    },
    {
      "cell_type": "markdown",
      "metadata": {
        "id": "RC1jg1hEUc12"
      },
      "source": [
        "### **Lab 1 - Queries with Comparison and Logical Operators**\n",
        "\n",
        "In this first lab, you will work through examples of how to use both comparison and logical operators in your queries. You will learn:\n",
        "\n",
        "- How to use comparison operators like `<`, `>`, `>=`, and `<=` to filter results based on a condition\n",
        "- How to use logical operators like `AND` & `OR` to combine multiple conditions into a filter\n",
        "- When and how to use the `BETWEEN` and `IN` logical operators to make your queries more readable\n",
        "\n",
        "**Instructions**\n",
        "\n",
        "Read through the material and examples provided. Cells marked as **Action Item** will prompt you to write a query. You should write the requested query in the cell following that **Action Item**."
      ]
    },
    {
      "cell_type": "markdown",
      "metadata": {
        "id": "8buopO9Kush9"
      },
      "source": [
        "#### **Comparison Operator Examples**\n",
        "\n",
        "Let's start getting familiar with some of the comparison operators. These are really useful when we want to filter by ranges of numeric values."
      ]
    },
    {
      "cell_type": "markdown",
      "metadata": {
        "id": "vUUDfOlCush9"
      },
      "source": [
        "##### **Example #1 - Less Than (`<`)**\n",
        "\n",
        "For example, let's say we wanted to **find all of the dishes that cost less than \\$6.00 at our restaurant**. We can do that with the following query:\n",
        "\n",
        "```sql\n",
        "SELECT *\n",
        "FROM Dishes\n",
        "WHERE Price < 6.0\n",
        "```\n",
        "\n",
        "This filter is saying, **<em>\"Only return results where the price is less than $6.\"</em>** Note that we are using `6.0` as the value because the data in the `Price` column is stored as a decimal number. The values that you use in filters need to match how they are stored in the table you are querying. When this query runs, any rows where the condition `Price < 6.0` is `true` are kept and all other rows (where the condition evaluates to `false`) are discarded from our results."
      ]
    },
    {
      "cell_type": "markdown",
      "metadata": {
        "id": "blYSfsJHush-"
      },
      "source": [
        "##### **Example #2 - Greater Than or Equal To (`>=`)**\n",
        "\n",
        "Let's do another example. Now we want to **see what dishes on the menu are $7 or more**. To find them, we could use the following query:\n",
        "\n",
        "```sql\n",
        "SELECT *\n",
        "FROM Dishes\n",
        "WHERE Price >= 7.0\n",
        "```\n",
        "\n",
        "As you might expect, this filter is saying, **<em>\"Show me the dishes that cost $7 or more.\"</em>**\n",
        "\n"
      ]
    },
    {
      "cell_type": "markdown",
      "metadata": {
        "id": "gIKgW_smush-"
      },
      "source": [
        "##### **Example #3 - Not equal to (`<>`)**\n",
        "\n",
        "For our next example, we'll **remove any dishes from our results that cost exactly $9.**\n",
        "\n",
        "```sql\n",
        "SELECT *\n",
        "FROM Dishes\n",
        "WHERE Price <> 9.0\n",
        "```"
      ]
    },
    {
      "cell_type": "markdown",
      "metadata": {
        "id": "-mr1hdazush-"
      },
      "source": [
        "##### **Action Item 1 - Comparison Operators**\n",
        "\n",
        "Write a query that **only returns dishes that cost $5 or more from the `Dishes` table.** Show the name, type, and description of the dish only.\n",
        "\n",
        "<details>\n",
        "<summary>Click here to reveal answer</summary>\n",
        "\n",
        "```sql\n",
        "SELECT Name, Type, Description\n",
        "FROM Dishes\n",
        "WHERE Price >=5.0\n",
        "\n",
        "```\n",
        "\n",
        "</details>"
      ]
    },
    {
      "cell_type": "code",
      "execution_count": null,
      "metadata": {
        "id": "TNYIHpO0ush_"
      },
      "outputs": [],
      "source": [
        "%%sql\n",
        "\n"
      ]
    },
    {
      "cell_type": "markdown",
      "metadata": {
        "id": "VAsymg-bush_"
      },
      "source": [
        "##### **Action Item 2 - Comparison Operators**\n",
        "\n",
        "Write a query that returns **all of the dishes in the `Dishes` table that cost less than $5.** Show the name of the dish, its description, and the type of dish only.\n",
        "\n",
        "<details>\n",
        "<summary>Click here to reveal answer</summary>\n",
        "\n",
        "```sql\n",
        "SELECT Name, Description, Type\n",
        "FROM Dishes\n",
        "WHERE Price < 5.0\n",
        "```\n",
        "\n",
        "</details>"
      ]
    },
    {
      "cell_type": "code",
      "execution_count": null,
      "metadata": {
        "id": "0LYDPAmcush_"
      },
      "outputs": [],
      "source": [
        "%%sql\n",
        "\n"
      ]
    },
    {
      "cell_type": "markdown",
      "metadata": {
        "id": "SawcNuv-ush_"
      },
      "source": [
        "#### **Logical Operator Examples**\n",
        "\n",
        "Now that we understand how to use conditional operators, let's look more closely at filters with multiple conditions. As mentioned earlier, we use logical operators to evaluate the results of two or more conditions together to decide whether or not to include a row in the result.\n",
        "\n",
        "Let's assume that the average price of an appetizer at restaurants similar to ours is \\$7. If we want to see appetizers on our menu that cost more than average, we need to specify two conditions:  \n",
        "-  `Type='Appetizer'` and\n",
        "-  `Price > 7.0`.\n",
        "\n",
        "Here, both conditions (`Type='Appetizer'` **AND** `Price > 7.0`) *must* be true. Let's put that into a query:\n",
        "\n",
        "```sql\n",
        "SELECT *\n",
        "FROM Dishes\n",
        "WHERE Type='Appetizer' AND Price > 7.0\n",
        "```"
      ]
    },
    {
      "cell_type": "markdown",
      "metadata": {
        "id": "CABhzZoDush_"
      },
      "source": [
        "##### **Action Item 1 - Logical Operators**\n",
        "\n",
        "Copy the query above into the cell below, run it, and check the results. Do we have appetizers that cost more than the average? If yes, which ones are they?\n",
        "\n",
        "<details>\n",
        "<summary>Click here to reveal answer</summary>\n",
        "<p>Yes, we do. The appetizers that cost more than the average are the Parmesan Deviled Eggs, Artichokes with Garlic Aioli, and the Barbecued Tofu Skewers</p>\n",
        "</details>"
      ]
    },
    {
      "cell_type": "code",
      "execution_count": null,
      "metadata": {
        "id": "DDc7R4fUush_"
      },
      "outputs": [],
      "source": [
        "%%sql\n",
        "\n"
      ]
    },
    {
      "cell_type": "markdown",
      "metadata": {
        "id": "YXCkhyXRush_"
      },
      "source": [
        "##### **Action Item 2 - Logical Operators**\n",
        "\n",
        "Take the same query from the last example, change `AND` to `OR`, and run it. Note the difference in the results between the two queries. Why did that happen?\n",
        "\n",
        "<details>\n",
        "    <summary>Click here to reveal the answer</summary>\n",
        "    <p>When we changed from <strong>AND</strong> to <strong>OR</strong>, the logic of our filter changed. Instead of saying <em>\"show me only appetizers that cost more than $7\"</em>, replacing <strong>AND</strong> with <strong>OR</strong> changes that to <em>\"show me all of the appetizers on the menu or any dishes that cost more than $7.\"</em></p>\n",
        "</details>"
      ]
    },
    {
      "cell_type": "code",
      "execution_count": null,
      "metadata": {
        "id": "vor0NgssusiA"
      },
      "outputs": [],
      "source": [
        "%%sql\n",
        "\n"
      ]
    },
    {
      "cell_type": "markdown",
      "metadata": {
        "id": "dyprr7M0usiA"
      },
      "source": [
        "#### **Logical Operators (continued) - Range conditions: Using `IN` and `BETWEEN`**\n",
        "\n",
        "Along with `AND` and `OR`, there are several other very useful logical operators - particularly those that let us check if a value is within a range of other values."
      ]
    },
    {
      "cell_type": "markdown",
      "metadata": {
        "id": "xKIlE3D0usiA"
      },
      "source": [
        "##### **Using the `IN` clause to find values within a range of other values**\n",
        "\n",
        "##### **Example without `IN`**\n",
        "\n",
        "**Let's find all of the appetizers or main course meals that costs $8 or more.** We'll translate that into the following query:\n",
        "\n",
        "```sql\n",
        "SELECT *\n",
        "FROM Dishes\n",
        "WHERE Type='Appetizer' OR Type='Main' AND Price >= 8.0\n",
        "```\n",
        "\n",
        "This query returns the results that we expected - all of the appetizer or main course dishes that cost $8 or more. But what if we wanted to check for additional types in our condition? We could just keep adding `OR Type='Some Other Type'` statements to our filter. But that can get confusing to work with and difficult to debug as the list grows longer, though."
      ]
    },
    {
      "cell_type": "markdown",
      "metadata": {
        "id": "T1bqEJk_usiA"
      },
      "source": [
        "##### **Example using `IN`**\n",
        "\n",
        "**Let's see how we can use the `IN` operator to get the same results:**\n",
        "\n",
        "```sql\n",
        "SELECT *\n",
        "FROM Dishes\n",
        "WHERE Type IN ('Appetizer', 'Main') AND Price >= 8.0\n",
        "```"
      ]
    },
    {
      "cell_type": "markdown",
      "metadata": {
        "id": "wVZDEaXGusiA"
      },
      "source": [
        "##### **Breakdown - How `IN` works**\n",
        "\n",
        "Both queries return the same results. This filter is saying the same thing as the one before, just in a slightly different way.\n",
        "\n",
        "The `IN` clause lets us check if a value is `IN` a list of values that we specify surrounded by parentheses `()`. In this case, we specified the appetizer and main course dish types as the list of possible values. Our query then checks the rows in the `Dishes` table and checks if the `Type` is in that list."
      ]
    },
    {
      "cell_type": "markdown",
      "metadata": {
        "id": "rEAAm94JusiA"
      },
      "source": [
        "##### **Using `BETWEEN` to find if a value falls within a range of other (like) values**\n",
        "\n",
        "What do we do when we want to check if value in our data falls within a range of like values? SQL gives us a couple of different tools to use to solve this problem. We'll explain two methods you can use and why you might choose one over the other."
      ]
    },
    {
      "cell_type": "markdown",
      "metadata": {
        "id": "bW3ZOshfusiA"
      },
      "source": [
        "##### **Example without using `BETWEEN`**\n",
        "\n",
        "**Let's say we want to find all of the dishes on our menu that cost between \\$8 and $10.** We can write that query with just conditional operators. Here's how that would look:\n",
        "\n",
        "```sql\n",
        "SELECT *\n",
        "FROM Dishes\n",
        "WHERE Price >= 8.0 AND Price <= 10.0\n",
        "```\n",
        "\n",
        "This will show us all of the dishes between \\$8 and $10 dollars. But SQL offers us a more readable way to write this using the `BETWEEN` operator.\n",
        "\n",
        "`BETWEEN` checks if some value is >= a minimum value and <= a maximum value."
      ]
    },
    {
      "cell_type": "markdown",
      "metadata": {
        "id": "AhJc4dbVusiA"
      },
      "source": [
        "##### **Example using `BETWEEN`**\n",
        "\n",
        "**Here is what our query looks like rewritten using `BETWEEN`**:\n",
        "\n",
        "```sql\n",
        "SELECT *\n",
        "FROM Dishes\n",
        "WHERE Price BETWEEN 8.0 AND 10.0\n",
        "```"
      ]
    },
    {
      "cell_type": "markdown",
      "metadata": {
        "id": "_PYW65FuusiB"
      },
      "source": [
        "##### **Breakdown - Using `BETWEEN`**\n",
        "\n",
        "Both queries give the same result. Using different syntax can yield the same query results but also improve readability. Enhanced readability is crucial for team collaboration and for understanding your own work when revisiting it later."
      ]
    },
    {
      "cell_type": "markdown",
      "metadata": {
        "id": "tOF5_equusiB"
      },
      "source": [
        "##### **Action Item - Using `BETWEEN` and `IN`**\n",
        "\n",
        "Write a query that finds all desserts and beverages that cost between \\$3 and $8 dollars. Your results should show the name of the dish, the price, and the description.\n",
        "\n",
        "<details>\n",
        "    <summary>Click here to reveal the answer</summary>\n",
        "\n",
        "```sql\n",
        "SELECT Name, Price, Description\n",
        "FROM Dishes\n",
        "WHERE Type IN ('Dessert', 'Beverage') AND Price BETWEEN 3.0 AND 8.0\n",
        "```\n",
        "    \n",
        "</details>"
      ]
    },
    {
      "cell_type": "code",
      "execution_count": null,
      "metadata": {
        "id": "CEABCGmwusiB"
      },
      "outputs": [],
      "source": [
        "%%sql\n"
      ]
    },
    {
      "cell_type": "markdown",
      "metadata": {
        "id": "T98eWIrSVgu5"
      },
      "source": [
        "**You have reached the end of Lab 1. Great work!**\n",
        "\n",
        "---"
      ]
    },
    {
      "cell_type": "markdown",
      "metadata": {
        "id": "oJV417VAa9rj"
      },
      "source": [
        "### **`LIKE` and `%` - Basic Text Pattern Matching Filters**\n",
        "\n",
        "When we have text data, we may want to filter it by searching for particular words, phrases, or patterns in that text. Pattern matching is a powerful feature in SQL that allows us to search for patterns within text data. In this section, we'll teach you some basic patterns used for finding data that matches some word or phrase."
      ]
    },
    {
      "cell_type": "markdown",
      "metadata": {
        "id": "sOZWa-pnusiC"
      },
      "source": [
        "#### **Basic Pattern #1 - Finding a word or phrase within text**\n",
        "\n",
        "Let's suppose that **we want to find any dishes on the menu that have onions in them.** To do that, we can use **pattern matching with the `LIKE` operator with `%`.**\n",
        "\n",
        "**The `%` is known as a wildcard operator**. This means that it can be used to match zero to many characters in a given string. By putting a copy of this wildcard operator on each side of a search term, we are saying, **<em>\"Check the text to see if this search term is in it somewhere.\"</em>**\n",
        "\n",
        "Here is how the query looks:\n",
        "\n",
        "```sql\n",
        "SELECT *\n",
        "FROM Dishes\n",
        "WHERE Description LIKE '%onion%'\n",
        "```"
      ]
    },
    {
      "cell_type": "markdown",
      "metadata": {
        "id": "y0J2JNiiusiC"
      },
      "source": [
        "##### **Basic Pattern #1 - Breakdown**\n",
        "\n",
        "Ok, now let's break down what's happening in this query. First, we chose to use the `Description` column because it has text data that describes ingredients in each dish. Next, we use the `LIKE` operator to tell SQL that we want to find a pattern in the `Description` column that looks like the one we gave it. After that, we see `%onion%`, which is our search term and pattern. But why are we using the wildcard operator (`%`) on each side?\n",
        "\n",
        "Our search term and pattern - `%onion%` - matches the following sentence because the word \"onion\" is in it:\n",
        "\n",
        "<em>\"Caramelized [**onion**]s slow cooked in a savory broth, topped with sourdough and a provolone cheese blend. Served with sourdough bread.\"</em>\n",
        "\n",
        ">`Pro-Tip:` Trying to find a word or phrase within some text is a very common search pattern. This is worth memorizing."
      ]
    },
    {
      "cell_type": "markdown",
      "metadata": {
        "id": "uEa-Np6GusiD"
      },
      "source": [
        "#### **Basic Pattern #2 - Finding text that starts or ends with a character, word, or phrase using `LIKE` with `%`**\n",
        "\n",
        "Another common search pattern is trying to filter text that either starts or ends with a particular character, word, or phrase. As an example, let's say we wanted to find all of the dishes that start with the letter 'C' or end with the letter 'a'. Here is what that query would look like:\n",
        "\n",
        "```sql\n",
        "SELECT *\n",
        "FROM Dishes\n",
        "WHERE Name LIKE 'C%' OR Name LIKE '%a'\n",
        "```\n",
        "\n",
        "And here are some of the results from the query. The `[]` brackets are used to indicate how the pattern matched to the result:\n",
        "\n",
        "| Name              |\n",
        "|-------------------|\n",
        "| [**C**]heesecake        |\n",
        "| Handcrafted Pizz[**a**] |"
      ]
    },
    {
      "cell_type": "markdown",
      "metadata": {
        "id": "J8Rim9mlusiD"
      },
      "source": [
        "##### **Basic Pattern #2 - Breakdown**\n",
        "\n",
        "The `LIKE 'C%'` part of our pattern matches with `Cheesecake`, since it is saying, **<em>\"Show me any text that starts with a capital 'C'.\"</em>** And the `LIKE '%a'` part of the pattern matches `Handcrafted Pizza` because it says, **<em>\"Show me any text that ends with a lowercase 'a'.\"</em>** In both cases, we are taking advantage of the fact that `%` matches to 0 or more characters to match all the characters except the first or the last, respectively."
      ]
    },
    {
      "cell_type": "markdown",
      "metadata": {
        "id": "eOJsuNZdusiD"
      },
      "source": [
        "#### **Basic Pattern #3 - Using the Single Character Wildcard ( `_` )**\n",
        "\n",
        "The underscore character ( `_` ) is a wildcard just like `%`. The only difference is that `_` only matches any single character.  \n",
        "\n",
        "The following query:\n",
        "\n",
        "```sql\n",
        "SELECT *\n",
        "FROM table\n",
        "WHERE column LIKE 'COOP_';\n",
        "```\n",
        "\n",
        "will filter for and match any strings that are like the following:\n",
        "\n",
        "| Name  |\n",
        "|-------|\n",
        "| COOP_ |\n",
        "| COOP1 |\n",
        "| COOP2 |\n",
        "\n",
        "but it will not match strings like **\"COOP12\"** or **\"COOP12345\"**."
      ]
    },
    {
      "cell_type": "markdown",
      "metadata": {
        "id": "S3xboQifusiD"
      },
      "source": [
        "##### **Action Item - Basic Pattern Matching**\n",
        "\n",
        "Write a query to **find all of the dishes on the menu that have `cheese` in them.** Show the name of the dish, the price, and the type only.\n",
        "\n",
        "<details>\n",
        "<summary>Click here to reveal answer</summary>\n",
        "\n",
        "```sql\n",
        "SELECT Name, Price, Type\n",
        "FROM Dishes\n",
        "WHERE Description LIKE '%cheese%'\n",
        "```\n",
        "\n",
        "</details>"
      ]
    },
    {
      "cell_type": "code",
      "execution_count": null,
      "metadata": {
        "id": "sg8YgIGlusiD"
      },
      "outputs": [],
      "source": [
        "%%sql\n",
        "\n"
      ]
    },
    {
      "cell_type": "markdown",
      "metadata": {
        "id": "QMZ27CiZusiD"
      },
      "source": [
        "### **Filtering Data Based on Conditions - Comprehension Check**\n",
        "\n",
        "Great work completing this section! You learned how to write more complex queries by using filters with conditions. You even did some basic text pattern matching to help you find patterns in text data. Let's do some review over what we've learned so far:\n",
        "\n",
        "**1. Why is filtering data important?**\n",
        "<details>\n",
        "    <summary>Click here to reveal the answer</summary>\n",
        "    <p>Filtering allows us to view only relevant data in our results. It also makes our queries more efficient by decreasing the amount of data that we need to pull in. </p>\n",
        "</details>\n",
        "\n",
        "**2. What is the difference between `WHERE` and `HAVING`?**\n",
        "<details>\n",
        "    <summary>Click here to reveal the answer</summary>\n",
        "    <p>We use the `WHERE` clause whenever we want to filter rows. We use `HAVING` to filter by the results of an aggregate function.</p>\n",
        "</details>\n",
        "\n",
        "**3. Which operators do we use to compare two or more conditions in a filter?**\n",
        "<details>\n",
        "    <summary>Click here to reveal the answer</summary>\n",
        "    <p>`AND`, `OR`.</p>\n",
        "</details>\n",
        "\n",
        "**4. What is the difference between the `%` and the `_` wildcards?**\n",
        "<details>\n",
        "    <summary>Click here to reveal the answer</summary>\n",
        "    <p>The <em>%</em> wildcard matches zero or more characters in a text string, and the <em>_</em> wildcard matches only one character in a text string.</p>\n",
        "</details>\n",
        "\n",
        "**5. In the cell below, write a query that finds any dishes that have cheese in them and cost between $7 and $10. Your query should return the name of the dish, the price, and the description.**\n",
        "<details>\n",
        "    <summary>Click here to reveal the answer</summary>\n",
        "\n",
        "    ```sql\n",
        "    SELECT Name, Price, Description\n",
        "    FROM Dishes\n",
        "    WHERE Description LIKE '%cheese%' AND Price BETWEEN 7.0 AND 10.0\n",
        "    ```\n",
        "\n",
        "</details>"
      ]
    },
    {
      "cell_type": "code",
      "execution_count": null,
      "metadata": {
        "id": "0GJ9TcK6usiD"
      },
      "outputs": [],
      "source": [
        "%%sql\n"
      ]
    },
    {
      "cell_type": "markdown",
      "metadata": {
        "id": "H1NPN6e5fiHr"
      },
      "source": [
        "## Data Aggregation and Ordering Basics\n",
        "\n",
        "**Key Skills/Concepts**\n",
        "- Aggregate data to derive analytical insights.\n",
        "- Sort query results."
      ]
    },
    {
      "cell_type": "markdown",
      "metadata": {
        "id": "FR4a1bqTusiD"
      },
      "source": [
        "### **`COUNT`, `SUM`, `AVG`, `MIN`, `MAX` - Basic Aggregate Functions**\n",
        "\n",
        "So far, you have learned how to write queries for basic data retrieval and how to filter your queries to get targeted results. You have a developed foundation in querying data and getting the results you want from a single table. But, more often than not, simply obtaining query results from a table is only the beginning of your analysis. We need a way to summarize what we are seeing in the data without examining each individual row. That is what **data aggregration is - the process of gathering and summarizing large sets of data to produce a single, consolidated result, like calculating the average grade of students in a class.**"
      ]
    },
    {
      "cell_type": "markdown",
      "metadata": {
        "id": "f7iGzx90usiE"
      },
      "source": [
        "##### **How to write a query to aggregate data across an entire table**\n",
        "\n",
        "To summarize data across the entire table, our queries use the following general form:\n",
        "\n",
        "```sql\n",
        "SELECT AGGREGATE_FUNCTION(Column1)\n",
        "FROM some_table\n",
        "```\n",
        "\n",
        "---"
      ]
    },
    {
      "cell_type": "markdown",
      "metadata": {
        "id": "Wc42iyx_S9Zm"
      },
      "source": [
        "\n",
        "\n",
        "### **Lab 2: Basic Aggregation with `COUNT`, `MIN`, `MAX`, and `AVG`**\n",
        "\n",
        "In the following lab, you will practice writing basic aggregate functions across an entire table. You will learn:\n",
        "\n",
        "- How to `COUNT` the total number of values in columns and the total number of rows in a table\n",
        "- How to apply the `MIN`, `MAX`, and `AVG` aggregate functions to a query\n",
        "\n"
      ]
    },
    {
      "cell_type": "markdown",
      "metadata": {
        "id": "XlAtnNxdusiE"
      },
      "source": [
        "#### **Using `COUNT` to find the total number of values in a column and the total number of rows in a table**"
      ]
    },
    {
      "cell_type": "markdown",
      "metadata": {
        "id": "6LMH4ijLusiE"
      },
      "source": [
        "##### **Finding the total number of values in a column:**\n",
        "\n",
        "Each aggregate function typically takes in a single column as a parameter. It then performs an aggregate operation over the values in that column. For a more realistic example, let's simply count the number of dishes on the menu using the `COUNT` function:\n",
        "\n",
        "```sql\n",
        "SELECT COUNT(Name)\n",
        "FROM Dishes\n",
        "```\n",
        "\n",
        "`Result:`\n",
        "\n",
        "| COUNT |\n",
        "|-------|\n",
        "| 22    |"
      ]
    },
    {
      "cell_type": "markdown",
      "metadata": {
        "id": "Y9TPlb7TusiE"
      },
      "source": [
        "##### **Breakdown - Total number of values in a column**\n",
        "\n",
        "The query here is asking the database to \"Count the total number of dishes in the `Dishes` table and give us the result.\" When we pass a column name to the `COUNT` function, SQL will then count each **<em>non-null</em>** value in that column.\n",
        "\n",
        ">**Extra Context: <em>NULL values</em>**\n",
        ">\n",
        "> `NULL` values in data indicate either a missing or undefined value. This can be caused by data entry errors or can even be intentional. In discussion, you may hear people say \"non-null\" value, which simply means that a value is present and not `NULL`. You should be aware of `NULL` values that may appear in your data set."
      ]
    },
    {
      "cell_type": "markdown",
      "metadata": {
        "id": "HEraLPo9usiF"
      },
      "source": [
        "##### **Finding the total number of rows in a table**\n",
        "\n",
        "The query to find the total number of rows in any table takes the following general form:\n",
        "\n",
        "```sql\n",
        "SELECT COUNT(*)\n",
        "FROM table_name\n",
        "```\n",
        "\n",
        "By using the `*` wildcard as a parameter to the `COUNT` function, we are saying, **<em>\"count ALL of the rows in the table whether or not there are null values.\"</em>** To demonstrate the difference between `COUNT(*)` and `COUNT(Name)`, we will insert a null record into the `Dishes` table and take both counts.\n",
        "\n",
        "Run the query in the cell below:  "
      ]
    },
    {
      "cell_type": "code",
      "execution_count": null,
      "metadata": {
        "id": "eyHgETdicqNu"
      },
      "outputs": [],
      "source": [
        "%%sql\n",
        "INSERT INTO Dishes (DishID, Name, Description, Price, Type) VALUES (NULL, NULL, NULL, NULL, NULL);\n",
        "\n",
        "SELECT COUNT(*) AS total_rows, COUNT(Name) AS total_dishes\n",
        "FROM Dishes;"
      ]
    },
    {
      "cell_type": "markdown",
      "metadata": {
        "id": "J0s8uK2gusiF"
      },
      "source": [
        "As you can see, `COUNT(*)` counted all of the rows in the table, while `COUNT(Name)` only counted the rows where there is a dish, skipping the one(s) that have a null value. This is a common pattern to use when exploring data with SQL, as you can now get a sense of which columns in your data have null values as well as how many rows are in a table.\n",
        "\n",
        "> **Pro-Tip: It is worth memorizing this pattern as you will use it quite often when doing exploratory analysis in SQL. Understanding the counts of things in your data is a crucial part of understanding your data in general.**\n",
        "\n",
        "Now let's run the cell below to clean up any `NULL` rows generated from the previous example:"
      ]
    },
    {
      "cell_type": "code",
      "execution_count": null,
      "metadata": {
        "id": "wz1iepJTusiF"
      },
      "outputs": [],
      "source": [
        "%%sql\n",
        "\n",
        "DELETE FROM Dishes WHERE DishID IS NULL;"
      ]
    },
    {
      "cell_type": "markdown",
      "metadata": {
        "id": "TnKmcyoOusiF"
      },
      "source": [
        "##### **Action Item - Using `COUNT`**\n",
        "\n",
        "Write a query that counts the total number of rows in the `Customers` table. Use `total_rows` as an alias for the result column.\n",
        "\n",
        "*Note: There are no null values in this table, so the total number of rows is also the total number of customers.*\n",
        "\n",
        "How many customers are in the `Customers` table?\n",
        "\n",
        "<details>\n",
        "    <summary>Click here to reveal the answer</summary>\n",
        "\n",
        "    Here is the query:\n",
        "\n",
        "```sql\n",
        "SELECT COUNT(*) AS total_rows\n",
        "FROM Customers\n",
        "```\n",
        "\n",
        "    The results should show that we have 100 customers.\n",
        "</details>"
      ]
    },
    {
      "cell_type": "code",
      "execution_count": null,
      "metadata": {
        "id": "r68MpzCrusiF"
      },
      "outputs": [],
      "source": [
        "%%sql\n"
      ]
    },
    {
      "cell_type": "markdown",
      "metadata": {
        "id": "jgXLq5qggH_w"
      },
      "source": [
        "#### **Using `MIN`, `MAX`, `AVG`, and `SUM` to summarize data in a table**\n",
        "\n",
        "Recall the general form for using an aggregate function across all values in a table is:\n",
        "\n",
        "```sql\n",
        "SELECT AGGREGATE_FUNCTION(Column1)\n",
        "FROM some_table\n",
        "```\n",
        "\n",
        "We can simply swap `AGGREGATE_FUNCTION` for any one of the following aggregate functions `MIN`, `MAX`, `AVG`, and `SUM` to summarize data based on what we are looking for.\n",
        "\n",
        "For example, **let's find the lowest priced dish on the menu**:\n",
        "```sql\n",
        "SELECT MIN(Price) AS LowPrice\n",
        "FROM Dishes\n",
        "```\n",
        "`Returns:`\n",
        "\n",
        "| LowPrice |\n",
        "|----------|\n",
        "| 4.0      |"
      ]
    },
    {
      "cell_type": "markdown",
      "metadata": {
        "id": "QY5yPghlusiF"
      },
      "source": [
        "##### **Action Item 1 - Using `MIN`, `MAX`, and `AVG` on a table**\n",
        "\n",
        "Write a query to find the highest priced dish on the menu using `MAX`. Name the result column `HighestPrice`.\n",
        "\n",
        "<details>\n",
        "<summary>Click here to reveal answer</summary>\n",
        "\n",
        "```sql\n",
        "SELECT MAX(Price) AS HighestPrice\n",
        "FROM Dishes\n",
        "```\n",
        "\n",
        "</details>"
      ]
    },
    {
      "cell_type": "code",
      "execution_count": null,
      "metadata": {
        "id": "mbnfv6UoaVLa"
      },
      "outputs": [],
      "source": [
        "%%sql\n",
        "\n"
      ]
    },
    {
      "cell_type": "markdown",
      "metadata": {
        "id": "JCivV2MfusiG"
      },
      "source": [
        "##### **Action Item 2 - Using `MIN`, `MAX`, and `AVG` on a table**\n",
        "\n",
        "Write a query to find the average price of a dish on the menu using `AVG`. Name the result column `MeanPrice`.\n",
        "\n",
        "<details>\n",
        "<summary>Click here to reveal answer</summary>\n",
        "\n",
        "```sql\n",
        "SELECT AVG(Price) AS MeanPrice\n",
        "FROM Dishes\n",
        "```\n",
        "\n",
        "</details>"
      ]
    },
    {
      "cell_type": "code",
      "execution_count": null,
      "metadata": {
        "id": "RsyZ5n3EusiG"
      },
      "outputs": [],
      "source": [
        "%%sql\n",
        "\n"
      ]
    },
    {
      "cell_type": "markdown",
      "metadata": {
        "id": "VxDec61wTksJ"
      },
      "source": [
        "**You've reached the end of Lab 2! Great work!**\n",
        "\n",
        "---"
      ]
    },
    {
      "cell_type": "markdown",
      "metadata": {
        "id": "7IdFi2Yfhtye"
      },
      "source": [
        "### **`GROUP BY` - Aggregating data by categories in a table**\n",
        "\n",
        "Up to this point, we have been summarizing our data across all of the values in the entire table. These kinds of metrics are useful, but they only tell part of the picture. What if we want to drill even deeper into the data and understand the patterns that are happening within a table?"
      ]
    },
    {
      "cell_type": "markdown",
      "metadata": {
        "id": "sbaZZDsMusiG"
      },
      "source": [
        "#### How does `GROUP BY` work?\n",
        "\n",
        "`GROUP BY` lets us aggregate our data by categories that already exist in a table. Another way to think about `GROUP BY` is to view it as saying, **<em>\"Summarize my data by the categories I specify.\"</em>** In the `Dishes` table, we have a column called `Type` that tells us the category of a dish (`Appetizer`, `Main`, `Dessert`, `Beverage`). Using `GROUP BY` will allow us to answer questions about each of these categories, like **<em>\"How many beverages are offered on the menu?\"</em>** or **<em>\"What's the average price of a main course?\"</em>**"
      ]
    },
    {
      "cell_type": "markdown",
      "metadata": {
        "id": "qfeIfrIvusiG"
      },
      "source": [
        "#### **An example using `GROUP BY`**\n",
        "\n",
        "We'll write a query to answer the question, **<em>\"How many dishes are there in each category (Appetizers, Main Courses, Desserts, and Beverages)?\"**:</em>\n",
        "\n",
        "```sql\n",
        "SELECT Type, COUNT(Type) AS total_dishes\n",
        "FROM Dishes\n",
        "GROUP BY Type\n",
        "```\n",
        "`Results:`\n",
        "\n",
        "| Type      | TotalDishes |\n",
        "|-----------|-------------|\n",
        "| Appetizer | 4           |\n",
        "| Main      | 10          |\n",
        "| Dessert   | 5           |\n",
        "| Beverage  | 3           |"
      ]
    },
    {
      "cell_type": "markdown",
      "metadata": {
        "id": "-qNB9iDIusiH"
      },
      "source": [
        "##### **Action Item 1 - Using `GROUP BY`**\n",
        "\n",
        "Write a query to find the highest price for dish in each `Type` from the `Dishes` table. Your result should match the following output:\n",
        "\n",
        "`Expected Output:`\n",
        "\n",
        "| Type      | MaxPrice |\n",
        "|-----------|----------|\n",
        "| Appetizer | 9.99     |\n",
        "| Main      | 9.99     |\n",
        "| Dessert   | 9.00     |\n",
        "| Beverage  | 6.00     |\n",
        "\n",
        "<details>\n",
        "<summary>Click here to reveal answer</summary>\n",
        "\n",
        "```sql\n",
        "SELECT Type, MAX(Price) AS MaxPrice\n",
        "FROM Dishes\n",
        "GROUP BY Type\n",
        "```\n",
        "\n",
        "</details>"
      ]
    },
    {
      "cell_type": "code",
      "execution_count": null,
      "metadata": {
        "id": "oWHJm1xwmb2z"
      },
      "outputs": [],
      "source": [
        "%%sql\n",
        "\n"
      ]
    },
    {
      "cell_type": "markdown",
      "metadata": {
        "id": "0vkCDKK2usiH"
      },
      "source": [
        "##### **Action Item 2 - Using `GROUP BY`**\n",
        "\n",
        "Write a query to find the average price for a dish in each `Type` from the `Dishes` table. Your result should match the following output:\n",
        "\n",
        "`Expected Output:`\n",
        "\n",
        "| Type      | MeanPrice |\n",
        "|-----------|-----------|\n",
        "| Appetizer | 8.497500  |\n",
        "| Main      | 9.094000  |\n",
        "| Dessert   | 7.200000  |\n",
        "| Beverage  | 5.333333  |\n",
        "\n",
        "<details>\n",
        "<summary>Click here to reveal answer</summary>\n",
        "\n",
        "```sql\n",
        "SELECT Type, AVG(Price) AS MeanPrice\n",
        "FROM Dishes\n",
        "GROUP BY Type\n",
        "```\n",
        "\n",
        "</details>\n"
      ]
    },
    {
      "cell_type": "code",
      "execution_count": null,
      "metadata": {
        "id": "ra1BAKeBusiH"
      },
      "outputs": [],
      "source": [
        "%%sql\n",
        "\n"
      ]
    },
    {
      "cell_type": "markdown",
      "metadata": {
        "id": "Rro38xocusiH"
      },
      "source": [
        "##### **Action Item 3 - Using `GROUP BY`**\n",
        "\n",
        "Write a single query that returns the following information for each `Type` from the `Dishes` table:\n",
        "- The average price of a dish\n",
        "- The minimum price of a dish\n",
        "- The maximum price of a dish\n",
        "\n",
        "Your result should match the following output:\n",
        "\n",
        "`Expected Output:`\n",
        "\n",
        "| Type      | MeanPrice | MinPrice | MaxPrice |\n",
        "|-----------|-----------|----------|----------|\n",
        "| Appetizer | 8.497500  | 7.00     | 9.99     |\n",
        "| Main      | 9.094000  | 7.00     | 9.99     |\n",
        "| Dessert   | 7.200000  | 5.00     | 9.00     |\n",
        "| Beverage  | 5.333333  | 4.00     | 6.00     |\n",
        "\n",
        "<br/>\n",
        "<details>\n",
        "<summary>Click here to reveal answer</summary>\n",
        "\n",
        "```sql\n",
        "SELECT Type, AVG(Price) AS MeanPrice, MIN(Price) AS MinPrice, MAX(Price) AS MaxPrice\n",
        "FROM Dishes\n",
        "GROUP BY Type\n",
        "```\n",
        "\n",
        "</details>"
      ]
    },
    {
      "cell_type": "code",
      "execution_count": null,
      "metadata": {
        "id": "WJ6NwIzcusiH"
      },
      "outputs": [],
      "source": [
        "%%sql\n",
        "\n"
      ]
    },
    {
      "cell_type": "markdown",
      "metadata": {
        "id": "SFn16mWousiI"
      },
      "source": [
        "### **`HAVING` - Filtering data using the result of aggregate functions**\n",
        "\n",
        "Earlier in the class, we mentioned the `HAVING` filter was used for filtering our data using the result of aggregate functions. Now that you know more about how aggregate functions work, we'll show you how to apply filters using their results."
      ]
    },
    {
      "cell_type": "markdown",
      "metadata": {
        "id": "mgN8LjWNusiI"
      },
      "source": [
        "##### **Example - Using the `HAVING` filter**\n",
        "\n",
        "Here's how to find only the states where 5 or more customers come from using the `Customers` table:\n",
        "\n",
        "```sql\n",
        "SELECT State, COUNT(State) AS TotalCustomers\n",
        "FROM Customers\n",
        "GROUP BY State\n",
        "HAVING COUNT(State) >= 5\n",
        "```\n",
        "\n",
        "`Result:`\n",
        "\n",
        "| State | TotalCustomers |\n",
        "|-------|----------------|\n",
        "| CA    | 16             |\n",
        "| FL    | 7              |\n",
        "| DC    | 7              |\n",
        "| VA    | 8              |\n",
        "| TX    | 9              |\n",
        "| NY    | 7              |"
      ]
    },
    {
      "cell_type": "markdown",
      "metadata": {
        "id": "90JLc984usiI"
      },
      "source": [
        "##### **Action Item - Using the `HAVING` filter**\n",
        "\n",
        "Write a query that finds all the cities in the `Customers` table that have more than 2 customers.\n",
        "\n",
        "`Expected Output:`\n",
        "\n",
        "| City          | TotalCustomers |\n",
        "|---------------|----------------|\n",
        "| Washington    | 7              |\n",
        "| New York City | 4              |\n",
        "| El Paso       | 3              |\n",
        "| Oklahoma City | 3              |\n",
        "\n",
        "<br/>\n",
        "<details>\n",
        "<summary>Click here to reveal answer</summary>\n",
        "\n",
        "```sql\n",
        "SELECT City, COUNT(City) AS TotalCustomers\n",
        "FROM Customers\n",
        "GROUP BY City\n",
        "HAVING COUNT(City) > 2\n",
        "```\n",
        "\n",
        "</details>\n"
      ]
    },
    {
      "cell_type": "code",
      "execution_count": null,
      "metadata": {
        "id": "CtMzfn51usiI"
      },
      "outputs": [],
      "source": [
        "%%sql\n",
        "\n"
      ]
    },
    {
      "cell_type": "markdown",
      "metadata": {
        "id": "vMfRYLeYusiI"
      },
      "source": [
        "### **`ORDER BY`, `LIMIT`, and `OFFSET` - Ordering query results**\n",
        "\n",
        "So far, you have learned how to select, filter, and aggregate data in a single table using SQL. To round out the basics, we will teach you how to order and limit your query results.\n",
        "\n",
        "---"
      ]
    },
    {
      "cell_type": "markdown",
      "metadata": {
        "id": "uR4_nHLTVxGO"
      },
      "source": [
        "### **Lab 3 - Using `ORDER BY`, `LIMIT`, and `OFFSET`**\n",
        "\n",
        "In this final lab, you will work on another fundamental SQL skill: sorting and limiting your data.\n",
        "\n",
        "After completing this lab, you will:\n",
        "\n",
        "- Know how to use `ORDER BY` to sort your data in ascending or descending order\n",
        "- Understand how to use `LIMIT` and `OFFSET` to choose how much data your query returns and from what rows"
      ]
    },
    {
      "cell_type": "markdown",
      "metadata": {
        "id": "upnvd2NSusiI"
      },
      "source": [
        "#### **`ORDER BY` - Ordering query results in ascending or descending order**\n",
        "\n",
        "When writing our queries earlier, we didn't consider how we might want to order our output. Let's take the example of finding the number of dishes in each type. Here's the query and the results:\n",
        "\n",
        "```sql\n",
        "SELECT Type, COUNT(Type) AS TotalDishes\n",
        "FROM Dishes\n",
        "GROUP BY Type\n",
        "```\n",
        "`Returns:`\n",
        "\n",
        "| Type      | TotalDishes |\n",
        "|-----------|-------------|\n",
        "| Appetizer | 4           |\n",
        "| Main      | 10          |\n",
        "| Dessert   | 5           |\n",
        "| Beverage  | 3           |"
      ]
    },
    {
      "cell_type": "markdown",
      "metadata": {
        "id": "KK12menWusiI"
      },
      "source": [
        "##### **Ordering data in ascending order - least to greatest**\n",
        "\n",
        "Now this query gets us the results we asked for. But what if we want to see the `Type` with the most dishes, or show the `Type` of dish in order from least dishes to most? To do that, SQL provides us with the `ORDER BY` clause.\n",
        "\n",
        "`ORDER BY` will sort your data by one or more columns that you specify."
      ]
    },
    {
      "cell_type": "markdown",
      "metadata": {
        "id": "TSWnszy9usiI"
      },
      "source": [
        "##### **Example - Using `ORDER BY` to sort data in ascending order**\n",
        "\n",
        "Let's order the dishes by their total count from least to greatest:\n",
        "```sql\n",
        "SELECT Type, COUNT(Type) AS TotalDishes\n",
        "FROM Dishes\n",
        "GROUP BY Type\n",
        "ORDER BY TotalDishes\n",
        "```\n",
        "`Returns:`\n",
        "\n",
        "| Type      | TotalDishes |\n",
        "|-----------|-------------|\n",
        "| Beverage  | 3           |\n",
        "| Appetizer | 4           |\n",
        "| Dessert   | 5           |\n",
        "| Main      | 10          |"
      ]
    },
    {
      "cell_type": "markdown",
      "metadata": {
        "id": "EPdjNWfKusiI"
      },
      "source": [
        "##### **Breakdown - Ordering data in ascending or descending order**\n",
        "\n",
        "We've already seen most of the query already, so we're only going to focus on the last line - `ORDER BY TotalDishes`. This line is saying, **<em>\"Take my query results and order them, from least to greatest, based on the values in `TotalDishes`.\"</em>** By default, `ORDER BY` assumes you mean that you want to order your results in ascending order (least to greatest.)\n",
        "\n",
        "However, you can also specify that you want your results ordered in descending order (greatest to least.) To specify your sort order, you can add the `DESC` keyword after a column in `ORDER BY` to tell SQL, **<em>\"Order my results based on the values in this column in descending order.\"</em>** While ascending is the default order, you can explicitly specify it as the sort order using the `ASC` keyword."
      ]
    },
    {
      "cell_type": "markdown",
      "metadata": {
        "id": "oi6yIz6xusiI"
      },
      "source": [
        "##### **Ordering data in descending order - greatest to least**\n",
        "\n",
        "Let's use the same query, except we'll change the sort order from ascending to descending:\n",
        "\n",
        "```sql\n",
        "SELECT Type, COUNT(Type) AS TotalDishes\n",
        "FROM Dishes\n",
        "GROUP BY Type\n",
        "ORDER BY TotalDishes DESC\n",
        "```\n",
        "`Returns:`\n",
        "\n",
        "| Type      | TotalDishes |\n",
        "|-----------|-------------|\n",
        "| Main      | 10          |\n",
        "| Dessert   | 5           |\n",
        "| Appetizer | 4           |\n",
        "| Beverage  | 3           |"
      ]
    },
    {
      "cell_type": "markdown",
      "metadata": {
        "id": "zgMrHLwLusiJ"
      },
      "source": [
        "##### **Action Item - Using `ORDER BY`**\n",
        "\n",
        "Write a query to find the average price for dish in each `Type` from the `Dishes` table. Order your results by the `MeanPrice` from greatest price to the least. Your result should match the following output:\n",
        "\n",
        "| Type      | MeanPrice |\n",
        "|-----------|-----------|\n",
        "| Main      | 9.094000  |\n",
        "| Dessert   | 7.200000  |\n",
        "| Beverage  | 5.333333  |\n",
        "| Appetizer | 8.497500  |\n",
        "\n",
        "<br/>\n",
        "<details>\n",
        "<summary>Click here to reveal answer</summary>\n",
        "\n",
        "```sql\n",
        "SELECT Type, AVG(Price) AS MeanPrice\n",
        "FROM Dishes\n",
        "GROUP BY Type\n",
        "ORDER BY Type DESC\n",
        "```\n",
        "\n",
        "</details>"
      ]
    },
    {
      "cell_type": "code",
      "execution_count": null,
      "metadata": {
        "id": "Gqjje1oeusiJ"
      },
      "outputs": [],
      "source": [
        "%%sql\n",
        "\n"
      ]
    },
    {
      "cell_type": "markdown",
      "metadata": {
        "id": "SHpXA7d8usiJ"
      },
      "source": [
        "#### **`LIMIT` and `OFFSET` - Limiting your query results**\n",
        "\n",
        "Very often, when we're doing exploratory work in a database, we want to see what the data in a table looks like, but we don't need to see all of it. It's more useful and efficient to only look at a small portion of it to get a general idea of what it contains before writing more complex queries."
      ]
    },
    {
      "cell_type": "markdown",
      "metadata": {
        "id": "P9i02U-EusiJ"
      },
      "source": [
        "##### **`LIMIT`**\n",
        "\n",
        "If you recall earlier, we counted 100 customers in the `Customers` table. That's a lot of rows to show all at once in this notebook. Instead, let's only take a look at the first five rows of the data - that's enough for us to get an idea of what kind of data is in there. Here's how we'll do that:\n",
        "\n",
        "```\n",
        "SELECT *\n",
        "FROM Customers\n",
        "LIMIT 5\n",
        "```\n",
        "\n",
        "**Breakdown**\n",
        "\n",
        "The only new part that we added in this query is the `LIMIT` clause at the end, followed by the number `5`. `LIMIT 5` says, **<em>\"Only return the first five results from the query.\"</em>** The `LIMIT` clause accepts an integer number that specifies how many rows from the query results you want back. So if we instead wrote `LIMIT 10`, we would see the first 10 rows from the results."
      ]
    },
    {
      "cell_type": "markdown",
      "metadata": {
        "id": "AMpLu6y1usiJ"
      },
      "source": [
        "##### **`OFFSET`**\n",
        "\n",
        "Great! We can look at the first five customers. But what if we wanted to see the next five customers? What about the five after those? How can we specify that subset of rows in our query? That's where `OFFSET` comes into play.\n",
        "\n",
        "Let's write a query using `OFFSET` to see the next five customers in our table:\n",
        "\n",
        "```sql\n",
        "SELECT *\n",
        "FROM Customers\n",
        "LIMIT 5 OFFSET 5\n",
        "```\n",
        "\n",
        "**Breakdown**\n",
        "\n",
        "This query only adds one new part - the `OFFSET 5` after `LIMIT 5`. Here, `OFFSET 5` says, \"Skip the first 5 rows and give me every row after that.\" Since we also have the `LIMIT 5` clause, the combination of the two says, \"Skip the first 5 rows and give me the next 5 after.\" Like `ORDER BY`, the number your specify to `OFFSET` controls how many rows you skip.\n",
        "\n",
        "Both `LIMIT` and `OFFSET` are typically come as the final part of your query, with `LIMIT` always coming before `OFFSET`."
      ]
    },
    {
      "cell_type": "markdown",
      "metadata": {
        "id": "H-W1fJc6usiJ"
      },
      "source": [
        "##### **Action Item 1 - Using `LIMIT` and `OFFSET`**\n",
        "\n",
        "Write a query that shows just the first five rows from the `Reservations` table. Include all of the columns.\n",
        "\n",
        "<details>\n",
        "<summary>Click here to reveal answer</summary>\n",
        "\n",
        "```sql\n",
        "SELECT *\n",
        "FROM Reservations\n",
        "LIMIT 5\n",
        "```\n",
        "\n",
        "</details>"
      ]
    },
    {
      "cell_type": "code",
      "execution_count": null,
      "metadata": {
        "id": "htc6Fh1CusiJ"
      },
      "outputs": [],
      "source": [
        "%%sql\n",
        "\n"
      ]
    },
    {
      "cell_type": "markdown",
      "metadata": {
        "id": "UHpCtg7UusiJ"
      },
      "source": [
        "##### **Action Item 2 - Using `LIMIT` and `OFFSET`**\n",
        "\n",
        "Write a query that shows just the next five rows from the `Reservations` table. Include all of the columns. Order the results by `PartySize` in ascending order.\n",
        "\n",
        "<details>\n",
        "<summary>Click here to reveal answer</summary>\n",
        "\n",
        "```sql\n",
        "SELECT *\n",
        "FROM Reservations\n",
        "ORDER BY PartySize\n",
        "LIMIT 5 OFFSET 5\n",
        "```\n",
        "\n",
        "</details>"
      ]
    },
    {
      "cell_type": "code",
      "execution_count": null,
      "metadata": {
        "id": "KAWhDZppusiJ"
      },
      "outputs": [],
      "source": [
        "%%sql\n",
        "\n"
      ]
    },
    {
      "cell_type": "markdown",
      "metadata": {
        "id": "NAF-1E6nXybN"
      },
      "source": [
        "**Great work! You have completed Lab 3!**\n",
        "\n",
        "---"
      ]
    },
    {
      "cell_type": "markdown",
      "metadata": {
        "id": "7DoCWGFSusiK"
      },
      "source": [
        "### **Data Aggregation and Ordering Basics - Comprehension Check**\n",
        "\n",
        "Amazing job! You made it to the end of SQL 101. We have covered a lot of ground, from database theory to simple select queries, filtering your data, and summarizing it. You are ready to start analyzing data using SQL to generate insights! Let's do some review over what we've learned so far:\n",
        "\n",
        "**1. What do we mean by aggregating data?**\n",
        "<details>\n",
        "    <summary>Click here to reveal the answer</summary>\n",
        "    <p>Aggregating data is the process of gathering and summarizing large sets of data to produce a single, consolidated result.</p>\n",
        "</details>\n",
        "\n",
        "**2. What do aggregate functions do?**\n",
        "<details>\n",
        "    <summary>Click here to reveal the answer</summary>\n",
        "    <p>Aggregate functions take in a column of values and performs a calculation on all of them, returning a single result.</p>\n",
        "</details>\n",
        "\n",
        "**3. When do we use the `GROUP BY` clause?**\n",
        "<details>\n",
        "    <summary>Click here to reveal the answer</summary>\n",
        "    <p>We need to use <b>GROUP BY</b> when we want to aggregate (or summarize) our data by one or more categories that we specify.</p>\n",
        "</details>\n",
        "\n",
        "**4. What is the default sort order for the `ORDER BY` clause? Do we need to specify it in our queries?**\n",
        "<details>\n",
        "    <summary>Click here to reveal the answer</summary>\n",
        "    <p>The default sort order in the <b>ORDER BY</b> clause is ascending order, or least to greatest. You do not need to specify the <b>ASC</b> keyword in your queries - it is optional.</p>\n",
        "</details>\n",
        "\n",
        "**5. Where in a query do we place the `LIMIT` and `OFFSET` clauses (when we use them)?**\n",
        "<details>\n",
        "    <summary>Click here to reveal the answer</summary>\n",
        "    <p>The <b>LIMIT</b> and <b>OFFSET</b> clauses are both generally placed at the end of your queries.</p>\n",
        "</details>\n",
        "\n",
        "**6. What does it mean when we have a `NULL` value in our data?**\n",
        "<details>\n",
        "    <summary>Click here to reveal the answer</summary>\n",
        "    <p>It means that the value at a particular point does not exist in the data set. It could be due to an error or it could be intentional, but that depends often on how the data was collected.</p>\n",
        "</details>\n"
      ]
    },
    {
      "cell_type": "markdown",
      "metadata": {
        "id": "psTA7K5XusiK"
      },
      "source": [
        "## **Conclusion**\n",
        "\n",
        "Well done! You have officially finished **SQL 101 - Intro to Databases and Querying**. You started off learning some of the theoretical background of databases, relational databases and SQL. Then you dove into the basics of querying, from selecting your data, to filtering and summarizing it. Finally, you learned how to sort your results based on your needs.\n",
        "\n",
        "With the skills you have developed in this course, you can now start answering interesting and non-trivial questions about data in a single table. In the next course, **SQL 102 - Intermediate SQL Queries**, you will develop these skills even further and learn how to combine two or more tables to perform even more complex analyses.\n",
        "\n",
        "If you like, there is an additional **Challenge** section at the end of this notebook that has some more complex/difficult queries for you to tackle. They are optional, but if you are wanting to test your skills, they are there. Good luck!"
      ]
    },
    {
      "cell_type": "markdown",
      "metadata": {
        "id": "JAiW8CNnqb1z"
      },
      "source": [
        "## More resources for further practice\n",
        "\n",
        "- [SQL Bolt](https://sqlbolt.com/): The lessons here are a great introduction to SQL!\n",
        "- [Mode](https://mode.com/sql-tutorial/): A comprehensive SQL tutorial from beginner all the way to advanced SQL. There's even a data analytics with SQL tutorial. This is a great resource to learn about SQL in depth and practice what you learn in their online database.\n",
        "- [StrataScratch](https://platform.stratascratch.com/coding): Practice coding questions geared toward data analysts and data scientists. You can solve coding problems used by real companies for technical interviews using PostgresSQL, Python, R, or MySQL. It's free to sign up!\n",
        "- [Codecademy - Free Learn SQL Course](https://www.codecademy.com/learn/learn-sql): Codecademy is another great resource to learn SQL as well as most other languages. There are a lot of free resources here that can help you learn SQL, Python, R, and many other languages.\n",
        "- [Socratica SQL (YouTube)](https://www.youtube.com/watch?v=nWyyDHhTxYU&list=PLih4ch-U2DiBbMoFK4ML9faT3k3MM2UQY): This is a great playlist that will get you started learning SQL with one of the most popular relational databases - Postgres.\n",
        "- [DB Fiddle](https://dbfiddle.uk/): This site is like a SQL scratch pad. You can use it to practice doing stuff like creating tables and inserting data into them, and all sorts of other stuff that you might not be able to do so freely in a live database. It's a sandbox, basically. Here are a couple of links to fiddles with some data in them to play with: [fiddle 1](https://dbfiddle.uk/?rdbms=postgres_13&fiddle=366b683701596d3f7459b0411c15acd1) and [fiddle 2](https://dbfiddle.uk/?rdbms=postgres_13&fiddle=dfffc1939f629d9286c55d732fb656c5).\n",
        "\n",
        "\n",
        "And don't forget to keep your [SQL Cheatsheet](https://martinmarroyo.github.io/sqlcheatsheetandresources-coop/) handy!"
      ]
    },
    {
      "cell_type": "markdown",
      "metadata": {
        "id": "wUumPFiausiK"
      },
      "source": [
        "## Challenge Section\n",
        "\n",
        "This is an optional challenge section where you will write some more complicated queries to answer more nuanced questions based on the skills taught in this course."
      ]
    },
    {
      "cell_type": "markdown",
      "metadata": {
        "id": "xbrKyjFgusiK"
      },
      "source": [
        "### Challenge 1\n",
        "\n",
        "**Difficulty Level: Easy-ish**\n",
        "\n",
        "Write a query that shows the average price of all dishes that have cheese in them.\n",
        "\n",
        "`Expected Output:`\n",
        "\n",
        "| MeanPrice |\n",
        "|-----------|\n",
        "| 8.87      |\n",
        "\n",
        "<br/>\n",
        "<details>\n",
        "<summary>Click here to reveal answer</summary>\n",
        "\n",
        "```sql\n",
        "SELECT AVG(Price) AS MeanPrice\n",
        "FROM Dishes\n",
        "WHERE Description LIKE '%cheese%'\n",
        "```\n",
        "\n",
        "</details>"
      ]
    },
    {
      "cell_type": "code",
      "execution_count": null,
      "metadata": {
        "id": "CltDSvYIqsg3"
      },
      "outputs": [],
      "source": [
        "%%sql\n"
      ]
    },
    {
      "cell_type": "markdown",
      "metadata": {
        "id": "efreQOHxusiK"
      },
      "source": [
        "### Challenge 2\n",
        "\n",
        "**Difficulty Level: Medium**\n",
        "\n",
        "Write a query that finds the top 5 states with the most customers who use a `.org` `Email` address.\n",
        "\n",
        "`Expected Output:`\n",
        "\n",
        "| State | TotalCustomers |\n",
        "|-------|----------------|\n",
        "| VA    | 5              |\n",
        "| CA    | 5              |\n",
        "| DC    | 3              |\n",
        "| TX    | 3              |\n",
        "| OH    | 2              |\n",
        "\n",
        "<br/>\n",
        "<details>\n",
        "<summary>Click here to reveal answer</summary>\n",
        "\n",
        "```sql\n",
        "SELECT State, COUNT(CustomerID) AS TotalCustomers\n",
        "FROM Customers\n",
        "WHERE Email LIKE '%.org'\n",
        "GROUP BY State\n",
        "ORDER BY TotalCustomers DESC\n",
        "LIMIT 5\n",
        "\n",
        "```\n",
        "\n",
        "</details>\n"
      ]
    },
    {
      "cell_type": "code",
      "execution_count": null,
      "metadata": {
        "id": "se8fe-J8usiK"
      },
      "outputs": [],
      "source": [
        "%%sql\n",
        "\n"
      ]
    },
    {
      "cell_type": "markdown",
      "metadata": {
        "id": "xaJlCLaausiL"
      },
      "source": [
        "### Challenge 3\n",
        "\n",
        "**Difficulty Level: Tricky**\n",
        "\n",
        "Write a query that finds the total number of dishes as well as the average, minimum, and maximum price of a dish that has either `cheese` or `onion` in it. The query should show these metrics for each `Type` in the `Dishes` table. Order the output by the total number of dishes in descending order.\n",
        "\n",
        "`Expected Output:`\n",
        "\n",
        "| Type      | TotalDishes | LowestPrice | HighestPrice | MeanPrice |\n",
        "|-----------|-------------|-------------|--------------|-----------|\n",
        "| Main      | 8           | 7.00        | 9.99         | 8.87      |\n",
        "| Appetizer | 1           | 7.00        | 7.00         | 7.00      |\n",
        "\n",
        "<br/>\n",
        "<details>\n",
        "<summary>Click here to reveal answer</summary>\n",
        "\n",
        "```sql\n",
        "SELECT Type, COUNT(Type) AS TotalDishes, MIN(Price) AS LowestPrice, MAX(Price) AS HighestPrice, AVG(Price) AS MeanPrice\n",
        "FROM Dishes\n",
        "WHERE Description LIKE '%cheese%' OR Description LIKE '%onion%'\n",
        "GROUP BY Type\n",
        "ORDER BY TotalDishes DESC\n",
        "\n",
        "```\n",
        "\n",
        "</details>"
      ]
    },
    {
      "cell_type": "code",
      "execution_count": null,
      "metadata": {
        "id": "PF4Ww4IousiL"
      },
      "outputs": [],
      "source": [
        "%%sql\n",
        "\n"
      ]
    }
  ],
  "metadata": {
    "colab": {
      "provenance": [],
      "toc_visible": true
    },
    "kernelspec": {
      "display_name": "Python 3 (ipykernel)",
      "language": "python",
      "name": "python3"
    }
  },
  "nbformat": 4,
  "nbformat_minor": 0
}

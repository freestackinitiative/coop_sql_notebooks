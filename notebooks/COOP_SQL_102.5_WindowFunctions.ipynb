{
 "cells": [
  {
   "cell_type": "markdown",
   "metadata": {},
   "source": [
    "## **COOP SQL 102.5: Window Functions - Advanced Data Manipulation**\n",
    "\n",
    "Author: Martin Arroyo\n",
    "\n",
    "You're making great strides in your SQL journey! Now that you’ve mastered the basics like `SELECT`, `WHERE`, and `GROUP BY`, and even delved into subqueries, it’s time to explore window functions. These powerful tools will allow you to perform advanced calculations across your data.\n",
    "\n",
    "By the end of this section, you'll understand:\n",
    "\n",
    "- What window functions are\n",
    "- Why you'd use them\n",
    "- How to incorporate them into your SQL queries"
   ]
  },
  {
   "cell_type": "markdown",
   "metadata": {},
   "source": [
    "### **About this notebook**\n",
    "\n",
    "All of your queries will be written using preloaded databases that are available only in this notebook. Our \"RDBMS\" and SQL dialect is called `duckdb`, a new and popular Python library that provides the framework to make our queries possible. You can find [the documentation for `duckdb` here](https://duckdb.org/docs/sql/introduction) - you will want to keep the documentation handy.\n",
    "\n",
    "`teachdb`, which provides the data that you will be working with, is a Python library written by The Freestack Initiative, a group of COOP alumni who want to empower the community to learn and improve their technical skills by providing materials and resources at low (or no) cost."
   ]
  },
  {
   "cell_type": "markdown",
   "metadata": {},
   "source": [
    "## **How to use this notebook**\n",
    "\n",
    "First, we'll do a quick tutorial on how to use the notebook with these tools, then we'll dive into more SQL!"
   ]
  },
  {
   "cell_type": "markdown",
   "metadata": {},
   "source": [
    "### **Step 1: Press the play button below to set up the database and notebook**\n",
    "\n",
    "You will see a checkmark appear when the database is finished setting up."
   ]
  },
  {
   "cell_type": "code",
   "execution_count": null,
   "metadata": {},
   "outputs": [],
   "source": [
    "%%capture --no-stderr\n",
    "# @title Press Play { display-mode: \"form\" }\n",
    "\n",
    "# This code is used to set up the notebook by installing the libraries we need, configuring extensions to\n",
    "# make displays for our queries look nice, and connecting to our relational database so that you can write\n",
    "# queries in code cells using the %%sql magic tag.\n",
    "\n",
    "# Install `teachdb` if it's not in the system already\n",
    "%pip install --quiet --upgrade git+https://github.com/freestackinitiative/teachingdb.git\n",
    "from teachdb import TeachDB\n",
    "# Set configurations for notebook & load data\n",
    "db = TeachDB(database=[\"sales_cogs_opex\", \"restaurant\"])\n",
    "db.setup_notebook()\n",
    "con = db.connection\n",
    "%sql con\n",
    "\n",
    "# Check out the Freestack Initiative @https://github.com/freestackinitiative"
   ]
  },
  {
   "cell_type": "markdown",
   "metadata": {},
   "source": [
    "### **What is a Window Function?**\n",
    "Imagine you're a chef in a busy restaurant. You have a list of all orders for the night, and you want to calculate the total bill for each table while still seeing the breakdown of each individual dish. Window functions let you do this by performing calculations across sets of table rows that are related to the current row.\n",
    "\n",
    "In SQL, window functions perform calculations similar to aggregate functions but without collapsing the result set. They allow you to calculate running totals, moving averages, and rankings."
   ]
  },
  {
   "cell_type": "markdown",
   "metadata": {},
   "source": [
    "### **Why Use Window Functions?**\n",
    "Window functions are incredibly useful when:\n",
    "\n",
    "- You need to perform calculations across a set of rows that are related to the current row.\n",
    "- You want to calculate cumulative statistics like running totals, moving averages, or rankings."
   ]
  },
  {
   "cell_type": "markdown",
   "metadata": {},
   "source": [
    "### **Example - Using ROW_NUMBER()**\n",
    "\n",
    "The first window function we'll use is `ROW_NUMBER`. This is a handy function to know, since it allows us to assign unique numbers to our rows based on some kind of order we assign. This is useful in scenarios where you need to assign a unique ID to rows in your query or want to be able to select from the top *N* number of results.\n",
    "\n",
    "**Scenario:**\n",
    "\n",
    "The restaurant has asked us to assign a unique number to each dish in the Dishes table based on their price, ordered from the most expensive to the least expensive. The dishes must also be sorted in alphabetical order.\n",
    "\n",
    "Here's how we can do that:\n",
    "```sql\n",
    "SELECT \n",
    "       Name, \n",
    "       Price, \n",
    "       ROW_NUMBER() OVER (ORDER BY Price DESC, Name ASC) AS RowNum\n",
    "FROM \n",
    "       Dishes;\n",
    "```\n",
    "\n",
    "And here is what the results look like (showing only the first five rows):\n",
    "\n",
    "| Name                     | Price | RowNum |\n",
    "|--------------------------|-------|--------|\n",
    "| Barbecued Tofu Skewers   | 9.99  | 1      |\n",
    "| Classic Burger           | 9.99  | 2      |\n",
    "| Fiesta Family Platter    | 9.99  | 3      |\n",
    "| Garden Buffet            | 9.99  | 4      |\n",
    "| Handcrafted Pizza        | 9.99  | 5      |\n"
   ]
  },
  {
   "cell_type": "markdown",
   "metadata": {},
   "source": [
    "### **Breakdown**\n",
    "\n",
    "This is a straightforward `SELECT` query except for the 3rd line where we start the `ROW_NUMBER`. The `ROW_NUMBER()` function assigns a unique number to each row within the result set. The `OVER` clause, which is **always needed in a window function**, specifies how the rows should be ordered. In this case, we order the rows by `Price` in descending order and by `Name` in ascending order. This will give the highest priced dishes a lower number and the lowest priced dishes a higher one, and all of them will be unique (from 1 to *N*)."
   ]
  },
  {
   "cell_type": "markdown",
   "metadata": {},
   "source": [
    "### **Example - Calculating Running Total with SUM()**\n",
    "\n",
    "**Scenario:**\n",
    "\n",
    "Now the restaurant wants to know a running total of the prices of dishes in the `Dishes` table to understand the cumulative revenue from the dishes ordered. They want the running totals by each \n",
    "\n",
    "Breakdown:\n",
    "\n",
    "We can use the SUM() function in conjunction with the OVER clause to achieve this.\n",
    "\n",
    "sql\n"
   ]
  }
 ],
 "metadata": {
  "kernelspec": {
   "display_name": "Python 3 (ipykernel)",
   "language": "python",
   "name": "python3"
  },
  "language_info": {
   "codemirror_mode": {
    "name": "ipython",
    "version": 3
   },
   "file_extension": ".py",
   "mimetype": "text/x-python",
   "name": "python",
   "nbconvert_exporter": "python",
   "pygments_lexer": "ipython3",
   "version": "3.12.4"
  }
 },
 "nbformat": 4,
 "nbformat_minor": 2
}

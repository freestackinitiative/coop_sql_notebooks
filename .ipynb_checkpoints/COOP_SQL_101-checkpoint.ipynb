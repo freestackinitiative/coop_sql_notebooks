{
 "cells": [
  {
   "cell_type": "markdown",
   "metadata": {
    "id": "Cp08s6IWsBlJ"
   },
   "source": [
    "# SQL 101 - The (unofficial) Workbook\n",
    "\n",
    "## How to use this notebook\n",
    "\n",
    "**Step 1: Run the cell below to connect to set up the database and notebook**\n",
    "\n",
    "Don't worry about what the code below does exactly. It is simply used to setup this notebook for the lesson:"
   ]
  },
  {
   "cell_type": "code",
   "execution_count": 1,
   "metadata": {
    "colab": {
     "base_uri": "https://localhost:8080/"
    },
    "id": "zZ9ruuMrSn64",
    "outputId": "e72812d3-6b75-48dd-a868-f1bb240f653d"
   },
   "outputs": [
    {
     "name": "stdout",
     "output_type": "stream",
     "text": [
      "Connected to `teachdb` from the Freestack Initiative\n"
     ]
    }
   ],
   "source": [
    "# Install `teachdb` if it's not in the system already\n",
    "from importlib.util import find_spec\n",
    "if not find_spec('teachdb'):\n",
    "    print(\"Installing `teachdb` and its dependencies...\")\n",
    "    !pip install --quiet --upgrade git+https://github.com/freestackinitiative/teachingdb.git\n",
    "    print(\"Successfully installed `teachdb`\")\n",
    "\n",
    "import duckdb\n",
    "from teachdb.teachdb import connect_teachdb\n",
    "\n",
    "# Set configurations for notebook\n",
    "%load_ext sql\n",
    "%config SqlMagic.autopandas = True\n",
    "%config SqlMagic.feedback = False\n",
    "%config SqlMagic.displaycon = False\n",
    "\n",
    "# Load data\n",
    "con = duckdb.connect(\":memory:\")\n",
    "connect_teachdb(con)\n",
    "\n",
    "%sql con"
   ]
  },
  {
   "cell_type": "markdown",
   "metadata": {
    "id": "anWo_Iy20gRL"
   },
   "source": [
    "**Step 2: Run a query**\n",
    "\n",
    "To run SQL queries against the database, make sure that the cell you are writing in has `%%sql` written at the top. You can write your queries underneath that and run the cell to execute them. \n",
    "\n",
    "Go ahead and try it by executing the query in the cell below:"
   ]
  },
  {
   "cell_type": "code",
   "execution_count": 2,
   "metadata": {
    "id": "khdlRYapr0h-"
   },
   "outputs": [
    {
     "data": {
      "text/html": [
       "<div>\n",
       "<style scoped>\n",
       "    .dataframe tbody tr th:only-of-type {\n",
       "        vertical-align: middle;\n",
       "    }\n",
       "\n",
       "    .dataframe tbody tr th {\n",
       "        vertical-align: top;\n",
       "    }\n",
       "\n",
       "    .dataframe thead th {\n",
       "        text-align: right;\n",
       "    }\n",
       "</style>\n",
       "<table border=\"1\" class=\"dataframe\">\n",
       "  <thead>\n",
       "    <tr style=\"text-align: right;\">\n",
       "      <th></th>\n",
       "      <th>customer_id</th>\n",
       "      <th>cust_name</th>\n",
       "      <th>city</th>\n",
       "      <th>grade</th>\n",
       "      <th>salesman_id</th>\n",
       "    </tr>\n",
       "  </thead>\n",
       "  <tbody>\n",
       "    <tr>\n",
       "      <th>0</th>\n",
       "      <td>3002</td>\n",
       "      <td>Nick Rimando</td>\n",
       "      <td>New York</td>\n",
       "      <td>100.0</td>\n",
       "      <td>5001</td>\n",
       "    </tr>\n",
       "    <tr>\n",
       "      <th>1</th>\n",
       "      <td>3005</td>\n",
       "      <td>Graham Zusi</td>\n",
       "      <td>California</td>\n",
       "      <td>200.0</td>\n",
       "      <td>5002</td>\n",
       "    </tr>\n",
       "    <tr>\n",
       "      <th>2</th>\n",
       "      <td>3001</td>\n",
       "      <td>Brad Guzan</td>\n",
       "      <td>London</td>\n",
       "      <td>NaN</td>\n",
       "      <td>5005</td>\n",
       "    </tr>\n",
       "    <tr>\n",
       "      <th>3</th>\n",
       "      <td>3004</td>\n",
       "      <td>Fabian Johns</td>\n",
       "      <td>Paris</td>\n",
       "      <td>300.0</td>\n",
       "      <td>5006</td>\n",
       "    </tr>\n",
       "    <tr>\n",
       "      <th>4</th>\n",
       "      <td>3007</td>\n",
       "      <td>Brad Davis</td>\n",
       "      <td>New York</td>\n",
       "      <td>200.0</td>\n",
       "      <td>5001</td>\n",
       "    </tr>\n",
       "    <tr>\n",
       "      <th>5</th>\n",
       "      <td>3009</td>\n",
       "      <td>Geoff Camero</td>\n",
       "      <td>Berlin</td>\n",
       "      <td>100.0</td>\n",
       "      <td>5003</td>\n",
       "    </tr>\n",
       "    <tr>\n",
       "      <th>6</th>\n",
       "      <td>3008</td>\n",
       "      <td>Julian Green</td>\n",
       "      <td>London</td>\n",
       "      <td>300.0</td>\n",
       "      <td>5002</td>\n",
       "    </tr>\n",
       "    <tr>\n",
       "      <th>7</th>\n",
       "      <td>3003</td>\n",
       "      <td>Jozy Altidor</td>\n",
       "      <td>Moscow</td>\n",
       "      <td>200.0</td>\n",
       "      <td>5007</td>\n",
       "    </tr>\n",
       "    <tr>\n",
       "      <th>8</th>\n",
       "      <td>1</td>\n",
       "      <td>Thomas A. Anderson</td>\n",
       "      <td>Neo York</td>\n",
       "      <td>10110101.0</td>\n",
       "      <td>5008</td>\n",
       "    </tr>\n",
       "  </tbody>\n",
       "</table>\n",
       "</div>"
      ],
      "text/plain": [
       "   customer_id           cust_name        city       grade  salesman_id\n",
       "0         3002        Nick Rimando    New York       100.0         5001\n",
       "1         3005         Graham Zusi  California       200.0         5002\n",
       "2         3001          Brad Guzan      London         NaN         5005\n",
       "3         3004        Fabian Johns       Paris       300.0         5006\n",
       "4         3007          Brad Davis    New York       200.0         5001\n",
       "5         3009        Geoff Camero      Berlin       100.0         5003\n",
       "6         3008        Julian Green      London       300.0         5002\n",
       "7         3003        Jozy Altidor      Moscow       200.0         5007\n",
       "8            1  Thomas A. Anderson    Neo York  10110101.0         5008"
      ]
     },
     "execution_count": 2,
     "metadata": {},
     "output_type": "execute_result"
    }
   ],
   "source": [
    "%%sql\n",
    "\n",
    "SELECT *\n",
    "FROM customer"
   ]
  },
  {
   "cell_type": "markdown",
   "metadata": {
    "id": "EgIfRtZAyWQg"
   },
   "source": [
    "## Practice: Writing a SQL Query\n",
    "\n",
    "Write a SQL statement to display all the information of all salesmen.\n",
    "\n",
    "Table: `salesman`"
   ]
  },
  {
   "cell_type": "code",
   "execution_count": 3,
   "metadata": {
    "id": "k8mZ8GPgyfyW"
   },
   "outputs": [
    {
     "data": {
      "text/html": [
       "<div>\n",
       "<style scoped>\n",
       "    .dataframe tbody tr th:only-of-type {\n",
       "        vertical-align: middle;\n",
       "    }\n",
       "\n",
       "    .dataframe tbody tr th {\n",
       "        vertical-align: top;\n",
       "    }\n",
       "\n",
       "    .dataframe thead th {\n",
       "        text-align: right;\n",
       "    }\n",
       "</style>\n",
       "<table border=\"1\" class=\"dataframe\">\n",
       "  <thead>\n",
       "    <tr style=\"text-align: right;\">\n",
       "      <th></th>\n",
       "      <th>salesman_id</th>\n",
       "      <th>name</th>\n",
       "      <th>city</th>\n",
       "      <th>commission</th>\n",
       "      <th>company_id</th>\n",
       "    </tr>\n",
       "  </thead>\n",
       "  <tbody>\n",
       "    <tr>\n",
       "      <th>0</th>\n",
       "      <td>5001</td>\n",
       "      <td>James Hoog</td>\n",
       "      <td>New York</td>\n",
       "      <td>0.15</td>\n",
       "      <td>18</td>\n",
       "    </tr>\n",
       "    <tr>\n",
       "      <th>1</th>\n",
       "      <td>5002</td>\n",
       "      <td>Nail Knite</td>\n",
       "      <td>Paris</td>\n",
       "      <td>0.13</td>\n",
       "      <td>15</td>\n",
       "    </tr>\n",
       "    <tr>\n",
       "      <th>2</th>\n",
       "      <td>5005</td>\n",
       "      <td>Pit Alex</td>\n",
       "      <td>London</td>\n",
       "      <td>0.11</td>\n",
       "      <td>16</td>\n",
       "    </tr>\n",
       "    <tr>\n",
       "      <th>3</th>\n",
       "      <td>5006</td>\n",
       "      <td>Mc Lyon</td>\n",
       "      <td>Paris</td>\n",
       "      <td>0.14</td>\n",
       "      <td>17</td>\n",
       "    </tr>\n",
       "    <tr>\n",
       "      <th>4</th>\n",
       "      <td>5003</td>\n",
       "      <td>Lauson Hen</td>\n",
       "      <td>None</td>\n",
       "      <td>0.12</td>\n",
       "      <td>17</td>\n",
       "    </tr>\n",
       "    <tr>\n",
       "      <th>5</th>\n",
       "      <td>5007</td>\n",
       "      <td>Paul Adam</td>\n",
       "      <td>Rome</td>\n",
       "      <td>0.13</td>\n",
       "      <td>16</td>\n",
       "    </tr>\n",
       "    <tr>\n",
       "      <th>6</th>\n",
       "      <td>5008</td>\n",
       "      <td>A. Smith</td>\n",
       "      <td>Mega City</td>\n",
       "      <td>1.00</td>\n",
       "      <td>19</td>\n",
       "    </tr>\n",
       "  </tbody>\n",
       "</table>\n",
       "</div>"
      ],
      "text/plain": [
       "   salesman_id        name       city  commission  company_id\n",
       "0         5001  James Hoog   New York        0.15          18\n",
       "1         5002  Nail Knite      Paris        0.13          15\n",
       "2         5005    Pit Alex     London        0.11          16\n",
       "3         5006     Mc Lyon      Paris        0.14          17\n",
       "4         5003  Lauson Hen       None        0.12          17\n",
       "5         5007   Paul Adam       Rome        0.13          16\n",
       "6         5008    A. Smith  Mega City        1.00          19"
      ]
     },
     "execution_count": 3,
     "metadata": {},
     "output_type": "execute_result"
    }
   ],
   "source": [
    "%%sql\n",
    "\n",
    "-- Write your query under this line---\n",
    "SELECT *\n",
    "FROM salesman\n"
   ]
  },
  {
   "cell_type": "markdown",
   "metadata": {
    "id": "2uUhhGatzB5S"
   },
   "source": [
    "## Practice: Queries with constraints\n",
    "\n",
    "Write a SQL statement to display the name and city of all salesmen who are based in Paris."
   ]
  },
  {
   "cell_type": "code",
   "execution_count": 5,
   "metadata": {
    "id": "TnZWbct3zPQI"
   },
   "outputs": [
    {
     "data": {
      "text/html": [
       "<div>\n",
       "<style scoped>\n",
       "    .dataframe tbody tr th:only-of-type {\n",
       "        vertical-align: middle;\n",
       "    }\n",
       "\n",
       "    .dataframe tbody tr th {\n",
       "        vertical-align: top;\n",
       "    }\n",
       "\n",
       "    .dataframe thead th {\n",
       "        text-align: right;\n",
       "    }\n",
       "</style>\n",
       "<table border=\"1\" class=\"dataframe\">\n",
       "  <thead>\n",
       "    <tr style=\"text-align: right;\">\n",
       "      <th></th>\n",
       "      <th>name</th>\n",
       "      <th>city</th>\n",
       "    </tr>\n",
       "  </thead>\n",
       "  <tbody>\n",
       "    <tr>\n",
       "      <th>0</th>\n",
       "      <td>Nail Knite</td>\n",
       "      <td>Paris</td>\n",
       "    </tr>\n",
       "    <tr>\n",
       "      <th>1</th>\n",
       "      <td>Mc Lyon</td>\n",
       "      <td>Paris</td>\n",
       "    </tr>\n",
       "  </tbody>\n",
       "</table>\n",
       "</div>"
      ],
      "text/plain": [
       "         name   city\n",
       "0  Nail Knite  Paris\n",
       "1     Mc Lyon  Paris"
      ]
     },
     "execution_count": 5,
     "metadata": {},
     "output_type": "execute_result"
    }
   ],
   "source": [
    "%%sql\n",
    "\n",
    "-- Write your query under this line---\n",
    "SELECT name, city\n",
    "FROM salesman\n",
    "WHERE city='Paris'\n",
    "\n"
   ]
  },
  {
   "cell_type": "markdown",
   "metadata": {
    "id": "3YKTOaXJzm0-"
   },
   "source": [
    "## Practice: More queries with constraints\n",
    "\n",
    "Write a SQL statement to display all the information for those customers with a grade of 200.\n",
    "\n",
    "Table: `customer`"
   ]
  },
  {
   "cell_type": "code",
   "execution_count": 6,
   "metadata": {
    "id": "PpABNXoBzv7Z"
   },
   "outputs": [
    {
     "data": {
      "text/html": [
       "<div>\n",
       "<style scoped>\n",
       "    .dataframe tbody tr th:only-of-type {\n",
       "        vertical-align: middle;\n",
       "    }\n",
       "\n",
       "    .dataframe tbody tr th {\n",
       "        vertical-align: top;\n",
       "    }\n",
       "\n",
       "    .dataframe thead th {\n",
       "        text-align: right;\n",
       "    }\n",
       "</style>\n",
       "<table border=\"1\" class=\"dataframe\">\n",
       "  <thead>\n",
       "    <tr style=\"text-align: right;\">\n",
       "      <th></th>\n",
       "      <th>customer_id</th>\n",
       "      <th>cust_name</th>\n",
       "      <th>city</th>\n",
       "      <th>grade</th>\n",
       "      <th>salesman_id</th>\n",
       "    </tr>\n",
       "  </thead>\n",
       "  <tbody>\n",
       "    <tr>\n",
       "      <th>0</th>\n",
       "      <td>3005</td>\n",
       "      <td>Graham Zusi</td>\n",
       "      <td>California</td>\n",
       "      <td>200.0</td>\n",
       "      <td>5002</td>\n",
       "    </tr>\n",
       "    <tr>\n",
       "      <th>1</th>\n",
       "      <td>3007</td>\n",
       "      <td>Brad Davis</td>\n",
       "      <td>New York</td>\n",
       "      <td>200.0</td>\n",
       "      <td>5001</td>\n",
       "    </tr>\n",
       "    <tr>\n",
       "      <th>2</th>\n",
       "      <td>3003</td>\n",
       "      <td>Jozy Altidor</td>\n",
       "      <td>Moscow</td>\n",
       "      <td>200.0</td>\n",
       "      <td>5007</td>\n",
       "    </tr>\n",
       "  </tbody>\n",
       "</table>\n",
       "</div>"
      ],
      "text/plain": [
       "   customer_id     cust_name        city  grade  salesman_id\n",
       "0         3005   Graham Zusi  California  200.0         5002\n",
       "1         3007    Brad Davis    New York  200.0         5001\n",
       "2         3003  Jozy Altidor      Moscow  200.0         5007"
      ]
     },
     "execution_count": 6,
     "metadata": {},
     "output_type": "execute_result"
    }
   ],
   "source": [
    "%%sql\n",
    "\n",
    "-- Write your query under this line---\n",
    "SELECT *\n",
    "FROM customer\n",
    "WHERE grade=200;\n"
   ]
  },
  {
   "cell_type": "markdown",
   "metadata": {
    "id": "oJV417VAa9rj"
   },
   "source": [
    "## Basic Pattern Matching\n",
    "\n",
    "Pattern matching is a powerful feature in SQL that allows you to search for patterns within text data. The `LIKE` operator is used in SQL to perform pattern matching. Here are some of the basics of pattern matching using the `LIKE`, `%`, and `_` operators:\n",
    "\n",
    "#### `LIKE` with the `%` Operator\n",
    "The `%` is known as a wildcard operator. This means that it can be used to match zero (think blank spaces) to many characters in a given string. Here are some examples of how we can use it to filter for text patterns in our data.\n",
    "\n",
    "The following code:\n",
    "\n",
    "```sql\n",
    "SELECT *\n",
    "FROM table\n",
    "WHERE column LIKE 'COOP%';\n",
    "```\n",
    "\n",
    "will filter for and match any strings that are like the following:\n",
    "```\n",
    "“COOP”\n",
    "“COOP Careers”\n",
    "“COOP Careers: Overcoming Underemployment”\n",
    "```\n",
    "\n",
    "Essentially, this *filters for any text string that starts with* the word “COOP”. We can also use the `%` operator to *filter for words within a given text string.*\n",
    "\n",
    "The following code:\n",
    "\n",
    "```sql\n",
    "SELECT *\n",
    "FROM table\n",
    "WHERE column LIKE '%COOP%';\n",
    "```\n",
    "\n",
    "will filter for and match any strings that are like the following:\n",
    "```\n",
    "“COOP Careers”\n",
    "“COOP”\n",
    "“It’s pronounced ‘COOP’ not ‘COOP’”\n",
    "```\n",
    "#### `LIKE` with the `_` Operator\n",
    "\n",
    "The `_` operator is also a wildcard operator, just like `%`. The only difference is that `_` only matches any single character.\n",
    "\n",
    "The following code:\n",
    "\n",
    "```sql\n",
    "SELECT *\n",
    "FROM table\n",
    "WHERE column LIKE 'COOP_';\n",
    "```\n",
    "\n",
    "will filter for and match any strings that are like the following:\n",
    "\n",
    "```\n",
    "“COOP”\n",
    "“COOP “\n",
    "“COOP1”\n",
    "```\n",
    "\n",
    "but it will not match strings like **“COOP12”** or **“COOP12345*”**.\n"
   ]
  },
  {
   "cell_type": "markdown",
   "metadata": {
    "id": "H1NPN6e5fiHr"
   },
   "source": [
    "-------------------------------------------------------------------------------\n",
    "\n",
    "## Practice: Pattern Matching Queries\n",
    "\n",
    "table: `customer`\n",
    "\n",
    "1. Using the `customer` table, write a query that displays all the customers with the first name **Brad**:"
   ]
  },
  {
   "cell_type": "code",
   "execution_count": 7,
   "metadata": {
    "id": "eyHgETdicqNu"
   },
   "outputs": [
    {
     "data": {
      "text/html": [
       "<div>\n",
       "<style scoped>\n",
       "    .dataframe tbody tr th:only-of-type {\n",
       "        vertical-align: middle;\n",
       "    }\n",
       "\n",
       "    .dataframe tbody tr th {\n",
       "        vertical-align: top;\n",
       "    }\n",
       "\n",
       "    .dataframe thead th {\n",
       "        text-align: right;\n",
       "    }\n",
       "</style>\n",
       "<table border=\"1\" class=\"dataframe\">\n",
       "  <thead>\n",
       "    <tr style=\"text-align: right;\">\n",
       "      <th></th>\n",
       "      <th>customer_id</th>\n",
       "      <th>cust_name</th>\n",
       "      <th>city</th>\n",
       "      <th>grade</th>\n",
       "      <th>salesman_id</th>\n",
       "    </tr>\n",
       "  </thead>\n",
       "  <tbody>\n",
       "    <tr>\n",
       "      <th>0</th>\n",
       "      <td>3001</td>\n",
       "      <td>Brad Guzan</td>\n",
       "      <td>London</td>\n",
       "      <td>NaN</td>\n",
       "      <td>5005</td>\n",
       "    </tr>\n",
       "    <tr>\n",
       "      <th>1</th>\n",
       "      <td>3007</td>\n",
       "      <td>Brad Davis</td>\n",
       "      <td>New York</td>\n",
       "      <td>200.0</td>\n",
       "      <td>5001</td>\n",
       "    </tr>\n",
       "  </tbody>\n",
       "</table>\n",
       "</div>"
      ],
      "text/plain": [
       "   customer_id   cust_name      city  grade  salesman_id\n",
       "0         3001  Brad Guzan    London    NaN         5005\n",
       "1         3007  Brad Davis  New York  200.0         5001"
      ]
     },
     "execution_count": 7,
     "metadata": {},
     "output_type": "execute_result"
    }
   ],
   "source": [
    "%%sql\n",
    "\n",
    "-- Write your query under this line---\n",
    "SELECT *\n",
    "FROM customer\n",
    "WHERE cust_name LIKE 'Brad%'"
   ]
  },
  {
   "cell_type": "markdown",
   "metadata": {
    "id": "jgXLq5qggH_w"
   },
   "source": [
    "2. Write a query that displays all cities that have the letter \"i\" in their name \n",
    "\n",
    "*e.g. Paris -- there is an \"i\" in Paris, so it is in the results)*"
   ]
  },
  {
   "cell_type": "code",
   "execution_count": 8,
   "metadata": {
    "id": "mbnfv6UoaVLa"
   },
   "outputs": [
    {
     "data": {
      "text/html": [
       "<div>\n",
       "<style scoped>\n",
       "    .dataframe tbody tr th:only-of-type {\n",
       "        vertical-align: middle;\n",
       "    }\n",
       "\n",
       "    .dataframe tbody tr th {\n",
       "        vertical-align: top;\n",
       "    }\n",
       "\n",
       "    .dataframe thead th {\n",
       "        text-align: right;\n",
       "    }\n",
       "</style>\n",
       "<table border=\"1\" class=\"dataframe\">\n",
       "  <thead>\n",
       "    <tr style=\"text-align: right;\">\n",
       "      <th></th>\n",
       "      <th>city</th>\n",
       "    </tr>\n",
       "  </thead>\n",
       "  <tbody>\n",
       "    <tr>\n",
       "      <th>0</th>\n",
       "      <td>California</td>\n",
       "    </tr>\n",
       "    <tr>\n",
       "      <th>1</th>\n",
       "      <td>Paris</td>\n",
       "    </tr>\n",
       "    <tr>\n",
       "      <th>2</th>\n",
       "      <td>Berlin</td>\n",
       "    </tr>\n",
       "  </tbody>\n",
       "</table>\n",
       "</div>"
      ],
      "text/plain": [
       "         city\n",
       "0  California\n",
       "1       Paris\n",
       "2      Berlin"
      ]
     },
     "execution_count": 8,
     "metadata": {},
     "output_type": "execute_result"
    }
   ],
   "source": [
    "%%sql\n",
    "\n",
    "-- Write your query under this line---\n",
    "SELECT city\n",
    "FROM customer\n",
    "WHERE city LIKE '%i%'"
   ]
  },
  {
   "cell_type": "markdown",
   "metadata": {
    "id": "7IdFi2Yfhtye"
   },
   "source": [
    "3. Write a query that filters for rows that match this pattern: `Ne* York`\n",
    "\n",
    "The asterisk(*) here means that it can match any **single** letter or number."
   ]
  },
  {
   "cell_type": "code",
   "execution_count": 9,
   "metadata": {
    "id": "oWHJm1xwmb2z"
   },
   "outputs": [
    {
     "data": {
      "text/html": [
       "<div>\n",
       "<style scoped>\n",
       "    .dataframe tbody tr th:only-of-type {\n",
       "        vertical-align: middle;\n",
       "    }\n",
       "\n",
       "    .dataframe tbody tr th {\n",
       "        vertical-align: top;\n",
       "    }\n",
       "\n",
       "    .dataframe thead th {\n",
       "        text-align: right;\n",
       "    }\n",
       "</style>\n",
       "<table border=\"1\" class=\"dataframe\">\n",
       "  <thead>\n",
       "    <tr style=\"text-align: right;\">\n",
       "      <th></th>\n",
       "      <th>customer_id</th>\n",
       "      <th>cust_name</th>\n",
       "      <th>city</th>\n",
       "      <th>grade</th>\n",
       "      <th>salesman_id</th>\n",
       "    </tr>\n",
       "  </thead>\n",
       "  <tbody>\n",
       "    <tr>\n",
       "      <th>0</th>\n",
       "      <td>3002</td>\n",
       "      <td>Nick Rimando</td>\n",
       "      <td>New York</td>\n",
       "      <td>100.0</td>\n",
       "      <td>5001</td>\n",
       "    </tr>\n",
       "    <tr>\n",
       "      <th>1</th>\n",
       "      <td>3007</td>\n",
       "      <td>Brad Davis</td>\n",
       "      <td>New York</td>\n",
       "      <td>200.0</td>\n",
       "      <td>5001</td>\n",
       "    </tr>\n",
       "    <tr>\n",
       "      <th>2</th>\n",
       "      <td>1</td>\n",
       "      <td>Thomas A. Anderson</td>\n",
       "      <td>Neo York</td>\n",
       "      <td>10110101.0</td>\n",
       "      <td>5008</td>\n",
       "    </tr>\n",
       "  </tbody>\n",
       "</table>\n",
       "</div>"
      ],
      "text/plain": [
       "   customer_id           cust_name      city       grade  salesman_id\n",
       "0         3002        Nick Rimando  New York       100.0         5001\n",
       "1         3007          Brad Davis  New York       200.0         5001\n",
       "2            1  Thomas A. Anderson  Neo York  10110101.0         5008"
      ]
     },
     "execution_count": 9,
     "metadata": {},
     "output_type": "execute_result"
    }
   ],
   "source": [
    "%%sql\n",
    "\n",
    "-- Write your query under this line---\n",
    "SELECT *\n",
    "FROM customer\n",
    "WHERE city LIKE 'Ne_ York'"
   ]
  },
  {
   "cell_type": "markdown",
   "metadata": {
    "id": "JAiW8CNnqb1z"
   },
   "source": [
    "## More resources for further practice\n",
    "\n",
    "- [SQL Bolt](https://sqlbolt.com/): The lessons here are a great introduction to SQL and you know the platform already!\n",
    "- [Mode](https://mode.com/sql-tutorial/): A comprehensive SQL tutorial from beginner all the way to advanced SQL. There's even a data analytics with SQL tutorial. This is a great resource to learn about SQL in depth and practice what you learn in their online database.\n",
    "- [StrataScratch](https://platform.stratascratch.com/coding): Practice coding questions geared toward data analysts and data scientists. You can solve coding problems used by real companies for technical interviews using PostgresSQL, Python, R, or MySQL. It's free to sign up!\n",
    "- [Codecademy - Free Learn SQL Course](https://www.codecademy.com/learn/learn-sql): Codecademy is another great resource to learn SQL as well as most other languages. There are a lot of free resources here that can help you learn SQL, Python, R, and many other languages.\n",
    "- [Socratica SQL (YouTube)](https://www.youtube.com/watch?v=nWyyDHhTxYU&list=PLih4ch-U2DiBbMoFK4ML9faT3k3MM2UQY): This is a great playlist that will get you started learning SQL with one of the most popular relational databases - Postgres.\n",
    "- [DB Fiddle](https://dbfiddle.uk/): This site is like a SQL scratch pad. You can use it to practice doing stuff like creating tables and inserting data into them, and all sorts of other stuff that you might not be able to do so freely in a live database. It's a sandbox, basically. Here are a couple of links to fiddles with some data in them to play with: [fiddle 1](https://dbfiddle.uk/?rdbms=postgres_13&fiddle=366b683701596d3f7459b0411c15acd1) and [fiddle 2](https://dbfiddle.uk/?rdbms=postgres_13&fiddle=dfffc1939f629d9286c55d732fb656c5).\n",
    "\n",
    "\n",
    "And don't forget to keep your [SQL Cheatsheet](https://martinmarroyo.github.io/sqlcheatsheetandresources-coop/) handy!"
   ]
  },
  {
   "cell_type": "code",
   "execution_count": null,
   "metadata": {
    "id": "CltDSvYIqsg3"
   },
   "outputs": [],
   "source": []
  }
 ],
 "metadata": {
  "colab": {
   "provenance": []
  },
  "kernelspec": {
   "display_name": "Python 3 (ipykernel)",
   "language": "python",
   "name": "python3"
  },
  "language_info": {
   "codemirror_mode": {
    "name": "ipython",
    "version": 3
   },
   "file_extension": ".py",
   "mimetype": "text/x-python",
   "name": "python",
   "nbconvert_exporter": "python",
   "pygments_lexer": "ipython3",
   "version": "3.11.4"
  }
 },
 "nbformat": 4,
 "nbformat_minor": 1
}

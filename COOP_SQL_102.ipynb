{
 "cells": [
  {
   "cell_type": "markdown",
   "metadata": {
    "id": "Cp08s6IWsBlJ"
   },
   "source": [
    "# **SQL 102 - Intermediate Queries and Combining Data**\n",
    "Author: Martin Arroyo"
   ]
  },
  {
   "cell_type": "markdown",
   "metadata": {},
   "source": [
    "### **About this notebook**\n",
    "\n",
    "All of your queries will be written using preloaded databases that are available only in this notebook. Our \"RDBMS\" and SQL dialect is called `duckdb`, a new and popular Python library that provides the framework to make our queries possible. You can find [the documentation for `duckdb` here](https://duckdb.org/docs/sql/introduction) - you will want to keep the documentation handy.\n",
    "\n",
    "`teachdb`, which provides the data that you will be working with, is a Python library written by The Freestack Initiative, a group of COOP alumni who want to empower the community to learn and improve their technical skills by providing materials and resources at low (or no) cost."
   ]
  },
  {
   "cell_type": "markdown",
   "metadata": {},
   "source": [
    "## **How to use this notebook**\n",
    "\n",
    "First, we'll do a quick tutorial on how to use the notebook with these tools, then we'll dive into more SQL!"
   ]
  },
  {
   "cell_type": "markdown",
   "metadata": {},
   "source": [
    "### **Step 1: Press the play button below to set up the database and notebook**\n",
    "\n",
    "You will see a checkmark appear when the database is finished setting up."
   ]
  },
  {
   "cell_type": "code",
   "execution_count": null,
   "metadata": {
    "author": "Martin Arroyo",
    "colab": {
     "base_uri": "https://localhost:8080/"
    },
    "date": "Saturday, September 2, 2023",
    "email": "martinm.arroyo7@gmail.com",
    "id": "zZ9ruuMrSn64",
    "outputId": "e72812d3-6b75-48dd-a868-f1bb240f653d",
    "reason": "Proof of work - made by Martin Arroyo",
    "tags": [
     "hide-input"
    ]
   },
   "outputs": [],
   "source": [
    "%%capture\n",
    "# @title Press Play { display-mode: \"form\" }\n",
    "\n",
    "# This code is used to set up the notebook by installing the libraries we need, configuring extensions to\n",
    "# make displays for our queries look nice, and connecting to our relational database so that you can write\n",
    "# queries in code cells using the %%sql magic tag. \n",
    "\n",
    "# Install `teachdb` if it's not in the system already\n",
    "!pip install --quiet --upgrade git+https://github.com/freestackinitiative/teachingdb.git\n",
    "import pandas as pd\n",
    "from teachdb.teachdb import connect_teachdb\n",
    "# Set configurations for notebook\n",
    "%load_ext sql\n",
    "%config SqlMagic.autopandas = True\n",
    "%config SqlMagic.feedback = False\n",
    "%config SqlMagic.displaycon = False\n",
    "pd.set_option('display.max_rows', None)\n",
    "pd.set_option('display.max_columns', None)\n",
    "pd.set_option('display.width', None)\n",
    "pd.set_option('display.max_colwidth', -1)\n",
    "# Load data\n",
    "con = connect_teachdb(databases=[\"sales_cogs_opex\", \"restaurant\"])\n",
    "%sql con\n",
    "\n",
    "# Check out the Freestack Initiative @https://github.com/freestackinitiative"
   ]
  },
  {
   "cell_type": "markdown",
   "metadata": {
    "id": "anWo_Iy20gRL"
   },
   "source": [
    "### **Step 2: Run a query**\n",
    "\n",
    "To run SQL queries against the database, create a new code cell. Then write `%%sql` at the top. This tells the notebook that this cell is being used to query the database. You can write your queries underneath the `%%sql` line by pressing the play button of the cell or selecting the cell and using `CTRL + Shift + Enter` on Windows (`CMD + Shift + Return` on Mac.)\n",
    "\n",
    "Go ahead and try it by executing the query in the cell below:"
   ]
  },
  {
   "cell_type": "code",
   "execution_count": null,
   "metadata": {
    "id": "khdlRYapr0h-"
   },
   "outputs": [],
   "source": [
    "%%sql\n",
    "\n",
    "SELECT *\n",
    "FROM Customers\n",
    "LIMIT 5"
   ]
  },
  {
   "cell_type": "markdown",
   "metadata": {},
   "source": [
    "## **Single Table Query Review and `CASE` Statements**\n",
    "\n",
    "In this section, we'll warm up with some review of the basics we learned in SQL 101. Then you'll learn a new query technique - `CASE` statements - which are a special kind of conditional statement that lets us create custom column values based on conditions we specify. "
   ]
  },
  {
   "cell_type": "markdown",
   "metadata": {},
   "source": [
    "### **Review - Single Table Queries and Aggregation**\n",
    "\n",
    "Let's get warmed up by writing a query using what we learned in SQL 101!\n",
    "\n",
    "Write a query that shows the top 5 customers in the `Reservations` table that have the most reservations. Additionally, show the average party size for each of those customers. \n",
    "\n",
    "`Expected Output:`\n",
    "\n",
    "| CustomerID | TotalReservations | AvgPartySize |\n",
    "|------------|-------------------|--------------|\n",
    "| 6          | 34                | 3.882353     |\n",
    "| 80         | 30                | 4.033333     |\n",
    "| 31         | 27                | 3.259259     |\n",
    "| 41         | 27                | 3.962963     |\n",
    "| 44         | 27                | 3.777778     |\n",
    "\n",
    "<br/>\n",
    "<details>\n",
    "<summary>Click here to reveal answer</summary>\n",
    "\n",
    "```sql\n",
    "SELECT CustomerID, COUNT(ReservationID) AS total_reservations, AVG(PartySize) AS avg_party_size\n",
    "FROM Reservations\n",
    "GROUP BY CustomerID\n",
    "ORDER BY total_reservations DESC\n",
    "LIMIT 5\n",
    "```\n",
    "\n",
    "</details>"
   ]
  },
  {
   "cell_type": "code",
   "execution_count": null,
   "metadata": {},
   "outputs": [],
   "source": [
    "%%sql\n",
    "\n",
    "SELECT CustomerID, COUNT(ReservationID) AS total_reservations, AVG(PartySize) AS avg_party_size\n",
    "FROM Reservations\n",
    "GROUP BY CustomerID\n",
    "ORDER BY total_reservations DESC\n",
    "LIMIT 5"
   ]
  },
  {
   "cell_type": "markdown",
   "metadata": {},
   "source": [
    "Great work with that first query! Now that we're warmed up, it's time to take your querying skills to the next level!"
   ]
  },
  {
   "cell_type": "markdown",
   "metadata": {},
   "source": [
    "### **`CASE` Statements**\n",
    "\n",
    "A popular restaurant reviewer is using a pricing scale that they invented to rate how affordable dishes at restaurants are. Restaurants that have too many dishes considered \"Pricey\" typically have lower ratings, while those with more dishes in the \"Average\" range do best. We don't want our restaurant to have a low rating, so we have to find out how our menu does on this scale. \n",
    "\n",
    "Here is the reviewer's pricing scale:\n",
    "\n",
    ">$4 or less - `Inexpensive`\n",
    ">\n",
    ">Between $4 and $8 - `Average`\n",
    ">\n",
    ">Above $8 - `Pricey`\n",
    "\n",
    "How can we convert the price of a dish to one of these three values based on the price? This is a perfect use for `CASE` statements!\n"
   ]
  },
  {
   "cell_type": "markdown",
   "metadata": {},
   "source": [
    "#### **How to use `CASE` statements**\n",
    "\n",
    "`CASE` statements are very similar to using `IF` function in Excel. They allow you to specify \"If/Then/Else\" logic in your queries. \n",
    "\n",
    "Here is the general form of a `CASE` statement:\n",
    "\n",
    "```sql\n",
    "CASE WHEN {`some condition to check`} THEN {`value if the condition is true`} ELSE {`value if all other conditions are false`} END\n",
    "```\n",
    "\n",
    "If you need to check more than one separate condition, you simply add another `WHEN/THEN` clause. The `ELSE` is always the final condition checked since it covers the case where all the other cases are false. \n",
    "\n",
    "To see this in action, check out the query we use to show the pricing scale for our menu."
   ]
  },
  {
   "cell_type": "markdown",
   "metadata": {},
   "source": [
    "##### **`CASE` Statement Example**\n",
    "\n",
    "Here is the query to check the pricing scale:\n",
    "```sql\n",
    "SELECT Name\n",
    "    , Price\n",
    "    , Type\n",
    "    , CASE \n",
    "        WHEN Price <= 4.0 THEN 'Inexpensive' -- Check the first condition\n",
    "        WHEN Price BETWEEN 4.0 AND 8.0 THEN 'Average' -- Check the second condition\n",
    "        ELSE 'Pricey' -- Anything over 8.0 is Pricey\n",
    "      END AS PriceRating -- We end our CASE statement and give the resulting column a name using an alias\n",
    "FROM Dishes\n",
    "```\n",
    "\n",
    "Here are the first five results:\n",
    "\n",
    "| Name                         | Price | Type      | PriceRating |\n",
    "|------------------------------|-------|-----------|-------------|\n",
    "| Parmesan Deviled Eggs        | 8.00  | Appetizer | Average     |\n",
    "| Artichokes with Garlic Aioli | 9.00  | Appetizer | Pricey      |\n",
    "| French Onion Soup            | 7.00  | Main      | Average     |\n",
    "| Mini Cheeseburgers           | 8.00  | Main      | Average     |\n",
    "| Panko Stuffed Mushrooms      | 7.00  | Appetizer | Average     |"
   ]
  },
  {
   "cell_type": "markdown",
   "metadata": {},
   "source": [
    "##### Breakdown - `CASE` Statement query\n",
    "\n",
    "Our query looks pretty simple aside from the `CASE` statement that we added. We'll focus on breaking that down line-by-line:\n",
    "\n",
    "```sql\n",
    "    CASE WHEN Price <= 4.0 THEN 'Inexpensive' \n",
    "```\n",
    "\n",
    "Every `CASE` statement begins with the word `CASE`. After that, we check conditions using the `WHEN`/`THEN` keywords. The `WHEN` looks at the condition that you specify and the `THEN` defines what happens when that condition is true. In this case, we're checking if the price is $4 or less; if it is, we're telling SQL that the value we want is \"Inexpensive\".\n",
    "\n",
    "```sql\n",
    "    WHEN Price BETWEEN 4.0 AND 8.0 THEN 'Average'\n",
    "```\n",
    "\n",
    "Since we need to check more than one condition to look at the price scale, we need to add another `WHEN`/`THEN` set of keywords to check the next condition. This one says, <em>\"Use the word `Average` here if the `Price` is between $4 and $8.\"</em>\n",
    "\n",
    "```sql\n",
    "    ELSE 'Pricey'\n",
    "```\n",
    "\n",
    "The `ELSE` portion of the `CASE` statement determines what to do if all of the conditions before it are false. This is saying, <em>\"If the price of a dish is not `Inexpensive` or `Average`, then it is `Pricey`\"</em>\n",
    "\n",
    "```sql\n",
    "    END AS PriceRating\n",
    "```\n",
    "\n",
    "We use the `END` keyword to close all `CASE` statements. This says, <em>\"We are done with our statement.\"</em> Since we are creating a column that doesn't otherwise exist in the database, the RDBMS will give it a default name. It is best practice to name our `CASE` statements using aliases. Here, we name the resulting column from our `CASE` statement `PriceRating`."
   ]
  },
  {
   "cell_type": "markdown",
   "metadata": {},
   "source": [
    "##### **Action Item - Using the `CASE` Statement**\n",
    "\n",
    "The restaurant reviewer recently published an update to their price scale! The new scale is below:\n",
    "\n",
    ">$3 or less - `Super Cheap`\n",
    ">\n",
    ">Between $4 and $5 - `Inexpensive`\n",
    ">\n",
    ">Between $5 and $8 - `Average`\n",
    ">\n",
    ">Above $8 - `Pricey`\n",
    "\n",
    "Write a query using the `Dishes` table that shows the updated price scale. Your results should include the name of the dish, the price, and it's type - along with the new `PriceRating`. Order your results by `Price` so that we see the lowest prices first and limit your results to just the first five rows. \n",
    "\n",
    "`Expected Output:`\n",
    "\n",
    "| Name                   | Price | Type     | PriceRating |\n",
    "|------------------------|-------|----------|-------------|\n",
    "| Pomegranate Iced Tea   | 4.00  | Beverage | Inexpensive |\n",
    "| Apple Pie              | 5.00  | Dessert  | Inexpensive |\n",
    "| Chocolate Chip Brownie | 6.00  | Dessert  | Average     |\n",
    "| Tropical Blue Smoothie | 6.00  | Beverage | Average     |\n",
    "| Cafe Latte             | 6.00  | Beverage | Average     |\n",
    "\n",
    "<br/>\n",
    "<details>\n",
    "    <summary>Click here to reveal the answer</summary>\n",
    "\n",
    "```sql\n",
    "SELECT Name\n",
    "    , Price\n",
    "    , Type\n",
    "    , CASE \n",
    "        WHEN Price <= 3.0 THEN 'Super Cheap'\n",
    "        WHEN Price BETWEEN 4.0 AND 5.0 THEN 'Inexpensive' \n",
    "        WHEN Price BETWEEN 5.0 AND 8.0 THEN 'Average'\n",
    "        ELSE 'Pricey' -- Anything over 8.0 is Pricey\n",
    "    END AS PriceRating\n",
    "FROM Dishes\n",
    "ORDER BY Price\n",
    "LIMIT 5\n",
    "```\n",
    "\n",
    "</details>"
   ]
  },
  {
   "cell_type": "code",
   "execution_count": 29,
   "metadata": {},
   "outputs": [
    {
     "data": {
      "text/html": [
       "<div>\n",
       "<style scoped>\n",
       "    .dataframe tbody tr th:only-of-type {\n",
       "        vertical-align: middle;\n",
       "    }\n",
       "\n",
       "    .dataframe tbody tr th {\n",
       "        vertical-align: top;\n",
       "    }\n",
       "\n",
       "    .dataframe thead th {\n",
       "        text-align: right;\n",
       "    }\n",
       "</style>\n",
       "<table border=\"1\" class=\"dataframe\">\n",
       "  <thead>\n",
       "    <tr style=\"text-align: right;\">\n",
       "      <th></th>\n",
       "      <th>Name</th>\n",
       "      <th>Price</th>\n",
       "      <th>Type</th>\n",
       "      <th>PriceRating</th>\n",
       "    </tr>\n",
       "  </thead>\n",
       "  <tbody>\n",
       "    <tr>\n",
       "      <th>0</th>\n",
       "      <td>Pomegranate Iced Tea</td>\n",
       "      <td>4.0</td>\n",
       "      <td>Beverage</td>\n",
       "      <td>Inexpensive</td>\n",
       "    </tr>\n",
       "    <tr>\n",
       "      <th>1</th>\n",
       "      <td>Apple Pie</td>\n",
       "      <td>5.0</td>\n",
       "      <td>Dessert</td>\n",
       "      <td>Inexpensive</td>\n",
       "    </tr>\n",
       "    <tr>\n",
       "      <th>2</th>\n",
       "      <td>Chocolate Chip Brownie</td>\n",
       "      <td>6.0</td>\n",
       "      <td>Dessert</td>\n",
       "      <td>Average</td>\n",
       "    </tr>\n",
       "    <tr>\n",
       "      <th>3</th>\n",
       "      <td>Tropical Blue Smoothie</td>\n",
       "      <td>6.0</td>\n",
       "      <td>Beverage</td>\n",
       "      <td>Average</td>\n",
       "    </tr>\n",
       "    <tr>\n",
       "      <th>4</th>\n",
       "      <td>Cafe Latte</td>\n",
       "      <td>6.0</td>\n",
       "      <td>Beverage</td>\n",
       "      <td>Average</td>\n",
       "    </tr>\n",
       "  </tbody>\n",
       "</table>\n",
       "</div>"
      ],
      "text/plain": [
       "                     Name  Price      Type  PriceRating\n",
       "0  Pomegranate Iced Tea    4.0    Beverage  Inexpensive\n",
       "1  Apple Pie               5.0    Dessert   Inexpensive\n",
       "2  Chocolate Chip Brownie  6.0    Dessert   Average    \n",
       "3  Tropical Blue Smoothie  6.0    Beverage  Average    \n",
       "4  Cafe Latte              6.0    Beverage  Average    "
      ]
     },
     "execution_count": 29,
     "metadata": {},
     "output_type": "execute_result"
    }
   ],
   "source": [
    "%%sql\n",
    "\n",
    "SELECT Name\n",
    "    , Price\n",
    "    , Type\n",
    "    , CASE \n",
    "        WHEN Price <= 3.0 THEN 'Super Cheap'\n",
    "        WHEN Price BETWEEN 4.0 AND 5.0 THEN 'Inexpensive' \n",
    "        WHEN Price BETWEEN 5.0 AND 8.0 THEN 'Average'\n",
    "        ELSE 'Pricey' -- Anything over 8.0 is Pricey\n",
    "      END AS PriceRating\n",
    "FROM Dishes\n",
    "ORDER BY Price\n",
    "LIMIT 5"
   ]
  },
  {
   "cell_type": "markdown",
   "metadata": {},
   "source": [
    "# Practice Section - Joins and Multiple Tables\n",
    "\n",
    "As an example, we'll join the `company` and `foods` table together. There is already a primary key/foreign key relationship between the two tables established by the `company_id` column. \n",
    "\n",
    "Both tables have the `company_id` column. The primary key in this relationship is the `company_id` column from the `company` table, since it ensures that each row of `company` is unique. And, as you probably guessed, the foreign key is the `company_id` column from the `foods` table, which establishes the relationship with the `customer` table.\n",
    "\n",
    "\n",
    "### Inner Joins\n",
    "\n",
    "An `INNER JOIN` is the most common type of join you will use. Let's apply what we just learned to the `company` and `foods` tables. Join the two tables and show all of the columns between them.\n",
    "\n",
    "As a reminder, here is a representation on how the data will be matched, record by record, between the two tables:\n",
    "\n",
    "![Inner Join](assets/inner-join-company-foods.png)\n",
    "\n",
    "\n",
    "### **Now it's your turn!**"
   ]
  },
  {
   "cell_type": "code",
   "execution_count": null,
   "metadata": {},
   "outputs": [],
   "source": [
    "%%sql\n",
    "\n",
    "SELECT C.State, COUNT(R.ReservationID) AS total_reservations, AVG(R.PartySize) AS avg_partysize\n",
    "FROM Reservations AS R\n",
    "INNER JOIN Customers AS C\n",
    "ON R.CustomerID=C.CustomerID\n",
    "GROUP BY C.State\n",
    "ORDER BY total_reservations DESC\n",
    "LIMIT 5"
   ]
  },
  {
   "cell_type": "markdown",
   "metadata": {},
   "source": [
    "### Left Joins\n",
    "\n",
    "A `LEFT JOIN` is the other most common join after `INNER JOIN`. The difference between the two is how the records are matched in the query result. While an `INNER JOIN` includes only the records that match on both sides of the join, a `LEFT JOIN` will keep all the records from the left-side of the join and only those that match from the right-side. When this happens, instead of dropping those records like the `INNER JOIN`, any values in unmatched records are set to `null`. Visually, the matched records will look like this:\n",
    "\n",
    "![Left Join](assets/left-join-company-foods.png)\n",
    "\n",
    "If you're new to `LEFT JOIN`, you're probably wondering what was meant before by \"left-side of the join.\" Visually, we can see that there is a table on the left side that has all of the records included with only the records at the intersection included from the right. But how does that translate to an actual query?\n",
    "\n",
    "```SQL\n",
    "\n",
    "SELECT *\n",
    "FROM company -- This is the table on the \"left-side\" of the join\n",
    "LEFT JOIN foods -- This table is on the \"right-side\" of the join\n",
    "ON company.company_id=foods.company_id\n",
    "```\n",
    "\n",
    "Simply put, the table on the \"left\" of a join type is the one used in the `FROM` clause and the table on the \"right\" is the one specified after the join type (`LEFT JOIN` in this case.) Columns and constraints otherwise work the same as the `INNER JOIN`. The syntax is virtually identical between the two joins, but it's important to know how they work and the caveats for all join types.\n",
    "\n",
    "Run the `LEFT JOIN` query that we wrote above in the cell below and compare the results with the query we ran earlier using an `INNER JOIN`. Can you see the difference?\n",
    "\n",
    "### **Now it's your turn!**"
   ]
  },
  {
   "cell_type": "code",
   "execution_count": null,
   "metadata": {},
   "outputs": [],
   "source": [
    "%%sql"
   ]
  },
  {
   "cell_type": "markdown",
   "metadata": {},
   "source": [
    "### `INNER JOIN` vs `LEFT JOIN` - Caveats & Using them in Practice\n",
    "\n",
    "#### Caveats\n",
    "\n",
    "Looking at the result of the two queries, you should notice that the `LEFT JOIN` query gave you an extra record that was missing from the `INNER JOIN` query. The `sip-n-Bite` company is missing from our first query. Why?\n",
    "\n",
    "Well, we know that we joined the two tables together based on matching `company_id`. We also know that `INNER JOIN` only keeps records from both tables that match. Since we know that the record exists in the `company` table, that must mean that there is no record for the `sip-n-Bite` company in the `foods` table. You can confirm this by looking at the `foods` table and querying for `company_id=19`, which will return no result since it doesn't exist.\n",
    "\n",
    "#### When do I use one over the other?\n",
    "\n",
    "Whether to use an `INNER JOIN` or a `LEFT JOIN` is something you must consider for your particular use case. Do you only want to consider the records that match between your tables? Then choose an `INNER JOIN`. Want to make sure that records are kept from the left side of the join? Then - you guessed it - use a `LEFT JOIN`.\n",
    "\n",
    "#### Practical Usage\n",
    "\n",
    "By and large, the majority of your joins in practice will either be an `INNER JOIN` or a `LEFT JOIN`. It is worth it to learn them well and become really comfortable with using them, as well as knowing when to use them. The other joins mentioned are not used as much in practice, but it's good to know about them - especially for technical interviews!\n"
   ]
  },
  {
   "cell_type": "markdown",
   "metadata": {},
   "source": [
    "### Right Joins\n",
    "\n",
    "As mentioned earlier, `RIGHT JOIN` is rarely used in practice. This is because you can do the same thing using just a `LEFT JOIN`, so there aren't many (if any) use cases where you would want to exclusively use it. However, it is a join type to be aware of and is commonly asked about in interviews, so let's cover it.\n",
    "\n",
    "The opposite of the `LEFT JOIN`, `RIGHT JOIN` includes all the records from the \"right-side\" of the join and only records that match from the \"left-side\". Also, similar to `LEFT JOIN`, values in records from the other side of the join that don't match are set to `null` and included in our query results. Visually, the resulting matches look like this:\n",
    "\n",
    "![Right Join](../assets/right-join-company-foods.png)\n",
    "\n",
    "\n",
    "\n",
    "Here is the query breakdown:\n",
    "\n",
    "```SQL\n",
    "\n",
    "SELECT *\n",
    "FROM company -- This is the table on the \"left-side\" of the join\n",
    "RIGHT JOIN foods -- This table is on the \"right-side\" of the join\n",
    "ON foods.company_id=company.company_id\n",
    "```\n",
    "\n",
    "Syntatically, it is almost identical to the other joins. Let's run a `RIGHT JOIN` query and see the results.\n",
    "\n",
    "\n",
    "### **Now it's your turn!**\n",
    "\n",
    "Write a `RIGHT JOIN` query with the `foods` table on the \"right-side\" of the join and the `company` table on the \"left-side\" of the join."
   ]
  },
  {
   "cell_type": "code",
   "execution_count": null,
   "metadata": {},
   "outputs": [],
   "source": [
    "%%sql"
   ]
  },
  {
   "cell_type": "markdown",
   "metadata": {},
   "source": [
    "From the results of the `RIGHT JOIN`, we can see that it indeed kept all of the records from the `foods` table (since it's on the right-side of the join) and gave null values in the records from the `company` table that didn't match.\n",
    "\n",
    "### Full Outer Joins\n",
    "\n",
    "`FULL OUTER JOIN` is another join type that isn't used as often as left or inner joins in practice, but it is much more common than the `RIGHT JOIN`. We use `FULL OUTER JOIN` when we want to include all the records from both sides of the join, showing the records that match between the two and otherwise giving null values where there isn't a match between the tables. A `FULL OUTER JOIN` is like a combination of both the left and right join types.\n",
    "\n",
    "Here is how the matching looks visually:\n",
    "\n",
    "![Outer Join](assets/full-outer-join-company-foods.png)\n",
    "\n",
    "The query syntax is pretty much identical to the others, aside from specifying the join type itself:\n",
    "\n",
    "```SQL\n",
    "SELECT *\n",
    "FROM company\n",
    "FULL OUTER JOIN foods\n",
    "ON company.company_id=foods.food_id\n",
    "```\n",
    "\n",
    "### **Now it's your turn!**\n",
    "\n",
    "Let's write a query using the `FULL OUTER JOIN` with `company` on the left-side of the join and `foods` on the right-side:"
   ]
  },
  {
   "cell_type": "code",
   "execution_count": null,
   "metadata": {},
   "outputs": [],
   "source": [
    "%%sql\n"
   ]
  },
  {
   "cell_type": "markdown",
   "metadata": {},
   "source": [
    "As you can see, the `FULL OUTER JOIN` gave us a result that is essentially a combination of the results from the right and left joins. \n",
    "\n",
    "#### Summary of Joins\n",
    "To sum things up, we use joins to combine data from different sources to add context to our analysis. When we join two tables, the records are matched based on a constraint that we specify, with the most common being that the value on one side of the join is equal to the value on the other. Joins also have types, which affect what rows are returned from a query. The four primary types are `INNER`, `LEFT`, `RIGHT`, and `FULL OUTER` joins. Of these four, the two most common are `INNER` and `LEFT`. "
   ]
  },
  {
   "cell_type": "markdown",
   "metadata": {},
   "source": [
    "# Aggregates - Summarizing Data with SQL\n",
    "\n",
    "### Clauses to know:\n",
    "\n",
    "- `GROUP BY` - Allows you to aggregate data in by a single value or group of values.\n",
    "- `HAVING` - Allows you to filter your query using the value of an aggregate function. Think of this as a `WHERE` clause for aggregate functions.\n",
    "\n",
    "### Common aggregate functions:\n",
    "\n",
    "- `COUNT(column)`: Counts how many rows are in a particular column (or table if you use '*' - e.g. `COUNT(*)`).\n",
    "- `MIN(column)`: Gives you the smallest value found for the given column.\n",
    "- `MAX(column)`: Gives you the largest value found for the given column.\n",
    "- `AVG(column)`: Gives you the average for all values in the given column.\n",
    "- `SUM(column)`: Gives you the sum of all the values in the given column.\n",
    "\n",
    "[Click here to see code examples of aggregate functions in SQL](https://martinmarroyo.github.io/sqlcheatsheetandresources-coop/#aggregates)\n",
    "\n",
    "\n",
    "### **Now it's your turn!**\n",
    "\n",
    "Using the `employees` table, find the longest time that an employee has been at the studio:"
   ]
  },
  {
   "cell_type": "code",
   "execution_count": null,
   "metadata": {},
   "outputs": [],
   "source": [
    "%%sql"
   ]
  },
  {
   "cell_type": "markdown",
   "metadata": {
    "id": "JAiW8CNnqb1z"
   },
   "source": [
    "## More resources for further practice\n",
    "\n",
    "- [SQL Bolt](https://sqlbolt.com/): The lessons here are a great introduction to SQL and you know the platform already!\n",
    "- [Mode](https://mode.com/sql-tutorial/): A comprehensive SQL tutorial from beginner all the way to advanced SQL. There's even a data analytics with SQL tutorial. This is a great resource to learn about SQL in depth and practice what you learn in their online database.\n",
    "- [StrataScratch](https://platform.stratascratch.com/coding): Practice coding questions geared toward data analysts and data scientists. You can solve coding problems used by real companies for technical interviews using PostgresSQL, Python, R, or MySQL. It's free to sign up!\n",
    "- [Codecademy - Free Learn SQL Course](https://www.codecademy.com/learn/learn-sql): Codecademy is another great resource to learn SQL as well as most other languages. There are a lot of free resources here that can help you learn SQL, Python, R, and many other languages.\n",
    "- [Socratica SQL (YouTube)](https://www.youtube.com/watch?v=nWyyDHhTxYU&list=PLih4ch-U2DiBbMoFK4ML9faT3k3MM2UQY): This is a great playlist that will get you started learning SQL with one of the most popular relational databases - Postgres.\n",
    "- [DB Fiddle](https://dbfiddle.uk/): This site is like a SQL scratch pad. You can use it to practice doing stuff like creating tables and inserting data into them, and all sorts of other stuff that you might not be able to do so freely in a live database. It's a sandbox, basically. Here are a couple of links to fiddles with some data in them to play with: [fiddle 1](https://dbfiddle.uk/?rdbms=postgres_13&fiddle=366b683701596d3f7459b0411c15acd1) and [fiddle 2](https://dbfiddle.uk/?rdbms=postgres_13&fiddle=dfffc1939f629d9286c55d732fb656c5).\n",
    "\n",
    "\n",
    "And don't forget to keep your [SQL Cheatsheet](https://martinmarroyo.github.io/sqlcheatsheetandresources-coop/) handy!"
   ]
  }
 ],
 "metadata": {
  "colab": {
   "provenance": []
  },
  "kernelspec": {
   "display_name": "Python 3 (ipykernel)",
   "language": "python",
   "name": "python3"
  },
  "language_info": {
   "codemirror_mode": {
    "name": "ipython",
    "version": 3
   },
   "file_extension": ".py",
   "mimetype": "text/x-python",
   "name": "python",
   "nbconvert_exporter": "python",
   "pygments_lexer": "ipython3",
   "version": "3.11.4"
  }
 },
 "nbformat": 4,
 "nbformat_minor": 1
}

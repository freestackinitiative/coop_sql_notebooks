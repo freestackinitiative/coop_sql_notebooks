{
 "cells": [
  {
   "cell_type": "markdown",
   "metadata": {},
   "source": [
    "# SQL 101 - Intro to Databases and Querying"
   ]
  },
  {
   "cell_type": "markdown",
   "metadata": {},
   "source": [
    "## I. Databases & High-level Concepts"
   ]
  },
  {
   "cell_type": "markdown",
   "metadata": {},
   "source": [
    "### A. What are databases?\n",
    "\n",
    "Databases are ubiquitous in today's world. Each day, we typically interact with many different databases, such as when we check our phones for updates from our favorite applications or when we go to the store and buy things we need. Without them, we would not be able to store information for very long. And the technology that we have come to depend on would not be able to function without them. But what is a database exactly?\n",
    "\n",
    "A database is simply an organized collection of structured data that is stored electronically. There are many [different kinds of databases](https://www.simplilearn.com/tutorials/dbms-tutorial/what-are-various-types-of-databases) for different use cases. For this class, we will focus primarily on the most popular type - the relational database. \n",
    "\n",
    "While they will not be covered in this course, we must mention NoSQL databases if we are discussing relational databases. NoSQL databases can generally be considered databases that are not structured like a relational database. \n",
    "\n",
    "A popular feature of relational databases is the language that is used to manage them, Structured Query Language (`SQL`). Unlike relational databases, NoSQL databases - as you might expect from the name - either do not use SQL or don't *just use* SQL. \n",
    "\n",
    "NoSQL databases typically deal with semi-structured or unstructured data unlike relational databases which impose structure on data by default. There are many different types of NoSQL databases as well, but we won't be covering them here. However, if you are curious, [here is a resource](https://www.ibm.com/topics/nosql-databases) where you can learn more about them. "
   ]
  },
  {
   "cell_type": "markdown",
   "metadata": {},
   "source": [
    "### B. What are relational databases?"
   ]
  },
  {
   "cell_type": "markdown",
   "metadata": {},
   "source": [
    "#### Entity Relationship Diagrams (ERD)\n",
    "\n",
    "We just introduced databases as well as relational databases, and discussed how they differ from NoSQL databases. But what exactly is a relational database?\n",
    "\n",
    "Simply put, a relational database is a type of database that stores information in tables which are related (or connected) to one another. It's good to visualize what we mean by relationships between tables, so let's introduce you to `Entity Relationship Diagrams` (ERD):\n",
    "\n",
    "![COOP ERD](assets/COOP_ERD.png)\n",
    "\n",
    "The tables in this ERD should be familiar to you - it's the COOP program structure - except this is how the layout would look if we were making a database based on the relationships between the different roles in the program. The boxes each represent a table in our database, and the lines between each show which ones are connected. The marks at the end of a line, known as the \"Crow's Feet\", indicate the type of relationship between two tables. Each table has a name and inside of the box are the attributes/column names along with their data types. We'll cover more about columns and data types a bit further down.\n",
    "\n",
    "As you can see, each of the roles in COOP (Captain, Program Manager, and Student) are represented by a table. Captains and Program Managers (PMs) are connected directly to one another since PMs are their supervisors. Then we see that Apprentices connected to the Cohort, just as you are an apprentice who are assigned to one cohort. Finally, the Cohort is the glue that connects the Captains to Apprentices (and by extension the PMs.)"
   ]
  },
  {
   "cell_type": "markdown",
   "metadata": {},
   "source": [
    "#### Types of Relationships\n",
    "\n",
    "Earlier, we mentioned that the \"Crow's Feet\" notation indicated the type of relationship between the two tables. In relational databases, the type of the relationship between two tables indicates how the rows in one table are related to the rows in another. This is an important consideration when designing databases as well as when you want to combine the data in two or more tables. There are three main types of relationships: `One-to-One`, `One-to-Many`, and `Many-to-Many`. \n",
    "\n",
    "Let's imagine we have two tables, `Table A` and `Table B`, that are related:\n",
    "- `One-to-One`: This means that exactly one row in `Table A` is related to exactly one (and only one) row in `Table B`. An example of this type of relationship would be between a user and their password - one user should have, at most, one password.\n",
    "- `One-to-Many`: One row in `Table A` can be matched to one or more rows in `Table B`. A real-life example would be the relationship between Program Managers and Captains, where one Program Manager supervises many captains, but each captain reports to just one Program Manager.\n",
    "- `Many-to-Many`: One or more rows in `Table A` can be matched to one or more rows in `Table B`. An example of this is the relationship between Apprentices and Captains - each Captain has multiple Apprentices and each Apprentice has multiple Captains.  \n",
    "\n",
    "<details>\n",
    "<summary>Click to see a visual representation of Crow's Foot Notation and Relationship Types</summary>\n",
    "<img src=\"assets/crows-foot.png\" alt=\"Crow's Foot Notation Example\">\n",
    "</details>"
   ]
  },
  {
   "cell_type": "markdown",
   "metadata": {},
   "source": [
    "#### Tables, Columns, and Rows\n",
    "\n",
    "In relational databases, our data is stored in a tabular structure (a.k.a. a \"table\") called relations. However, it is much more common to refer to relations as tables, so going forward, when will just use \"table\". Tables are 2-dimensional structures that store data in rows and columns. \n",
    "\n",
    "Each table typically represents an \"entity\" or some \"thing\" we would like to model. Using our ERD example from earlier, an Apprentice would be considered an entity. Columns represent attributes about an entity. Continuing with our example, some attributes of an Apprentice includes their name and their cohort ID. Each row represents a single entity record for the table. In the Apprentices table, each row would represent one Apprentice. \n",
    "\n",
    "The structure of tables in a relational database is similar to how we arrange data in spreadsheets (like Excel.)"
   ]
  },
  {
   "cell_type": "markdown",
   "metadata": {},
   "source": [
    "#### Data Types and Structure\n",
    "\n",
    "Attributes of an entity have both a type (the kind of data it is) and a value (the data itself.) For example, the `FirstName` attribute for the Apprentice table is text data, so we would consider \"text\" to be it's data type and a possible value could be \"Angela\". The data type is very important because columns will only support one data type each. In Excel, you are allowed to input any type of data in a column that you would like - one cell of a column can have a number and the next cell in that same column can have a text value. However, that is where SQL and Excel differ. \n",
    "\n",
    "SQL helps impose structure to our data by making it so that the values in a column must have a consistent data type. This is necessary when are making calculations based on our data. For example, if we summarize the data in a column of numbers, we would want to ensure that each value in that column is indeed a number, otherwise you may get incorrect results or errors.   "
   ]
  },
  {
   "cell_type": "markdown",
   "metadata": {},
   "source": [
    "#### Schemas and Metadata\n",
    "\n",
    "Schemas can be a little confusing at first because the term can be used to refer one of two things: the structure of a table or the structure of a database. When we talk about the schema of a table, we are referring to the table's name as well as the structure of the table, such as the column names and their data types. However, when referring to the structure of a database, the schema describes the tables (e.g. tables names) that are in the database. So we really have two types of schemas: table schemas and database schemas. When you hear the word \"schema\", it could potentially mean either one of these, so it's important to think of the context in which it is mentioned; when in doubt in conversation, clarify whether the table or database schema is meant. \n",
    "\n",
    "Metadata is a set of data that describes another set of data. Since schemas describe either tables or databases, they are considered a type of metadata. Knowing the metadata of either the table or the database that you are using is important as it gives you critical context and information to help in your analysis."
   ]
  },
  {
   "cell_type": "markdown",
   "metadata": {},
   "source": [
    "#### Normalization, Denormalization, and OLTP vs OLAP\n",
    "\n",
    "Normalization and denormalization are data modeling methods that have different goals for data storage and retrieval. Normalization is used when we want to ensure the consistency and integrity of the data by eliminating duplicate values and redundant data. This is achieved by dividing the tables into smaller sub-tables until redundant data are eliminated. Denormalization, on the other hand, favors easier querying of the data and achieves this by combining data/tables together, even if it introduces redundancy. \n",
    "\n",
    "The normalization method is typically used in Online Transactional Processing (OLTP) systems, which are use to model real-time transactions, favoring (write) speed, consistency, and data integrity. Relational databases are used to create this model because of the strong emphasis on structure. Online Analytical Processing (OLAP) systems, which generally used a denormalized structure, are used when querying and analyzing the data is more important than being able to store data quickly and without redundancy. OLAP systems can be built using relational databases but may also be built using other types of databases.\n",
    "\n",
    "Normalization, denormalization, OLTP, and OLAP are all concepts that go much deeper than the treatment given here. For our purposes, we will not dive into this further. However, if you would like to learn more, here are some resources you can use:\n",
    "\n",
    "- [`OLTP vs OLAP`](https://aws.amazon.com/compare/the-difference-between-olap-and-oltp/)\n",
    "- [`Normalization vs Denormalization`](https://medium.com/analytics-vidhya/database-normalization-vs-denormalization-a42d211dd891#:~:text=Normalization%20is%20the%20technique%20of,to%20make%20data%20retrieval%20faster.)"
   ]
  },
  {
   "cell_type": "markdown",
   "metadata": {},
   "source": [
    "#### Relational Database Management System (RDBMS)\n",
    "\n",
    "Until now, we have mostly been describing the relational database from a theoretical perspective. However, when we interact with a relational database on a computer, we do so using a Relational Database Management System (RDBMS). The RDBMS essentially brings the relational database model to life and makes it something we can actually use by handling the physical storage of the data. There are quite a few different RDBMS's out there, such as Postgresql, MySQL, Oracle and SQL Server. An important thing to note is that each RDBMS uses a slightly different version of SQL, so the syntax can be different for some queries between SQL Server and Postgres, for example.  "
   ]
  },
  {
   "cell_type": "markdown",
   "metadata": {},
   "source": [
    "### B. What is SQL?\n",
    "\n",
    "Structured Query Language (SQL - pronounced *\"Sequel\"*) was created in the early 1970s by researchers at IBM based on [the relational model that was described by Edgar F. Codd](https://dl.acm.org/doi/10.1145/362384.362685). It is a domain-specific programming language that is used for querying and maintaining a RDBMS.\n",
    "\n",
    "SQL is also known as a declarative language. This means that when we write queries in SQL, we are describing the results that we want rather than describing, step-by-step, how the RDBMS should do the task of retrieving the data. Since it is declarative, SQL can feel easier to learn because the syntax is simple and simpler to think about than other languages. \n",
    "\n",
    "Another important point to reiterate is that SQL itself is just a specification. Different RDBMS vendors create their own versions of SQL based on that specification. This is why the syntax between the SQL for one RDBMS will differ (albeit slightly) between that of another RDBMS system. In practice, this means that you should always be aware of what RDBMS you are using so that you know which documentation you would need to use."
   ]
  },
  {
   "cell_type": "markdown",
   "metadata": {
    "id": "Cp08s6IWsBlJ"
   },
   "source": [
    "## How to use this notebook\n",
    "\n",
    "**Step 1: Run the cell below to connect to set up the database and notebook**\n",
    "\n",
    "Don't worry about what the code below does exactly. It is simply used to setup this notebook for the lesson:"
   ]
  },
  {
   "cell_type": "code",
   "execution_count": null,
   "metadata": {
    "colab": {
     "base_uri": "https://localhost:8080/"
    },
    "id": "zZ9ruuMrSn64",
    "outputId": "e72812d3-6b75-48dd-a868-f1bb240f653d"
   },
   "outputs": [],
   "source": [
    "# Install `teachdb` if it's not in the system already\n",
    "from importlib.util import find_spec\n",
    "if not find_spec('teachdb'):\n",
    "    print(\"Installing `teachdb` and its dependencies...\")\n",
    "    !pip install --quiet --upgrade git+https://github.com/freestackinitiative/teachingdb.git\n",
    "    print(\"Successfully installed `teachdb`\")\n",
    "\n",
    "import duckdb\n",
    "from teachdb.teachdb import connect_teachdb\n",
    "\n",
    "# Set configurations for notebook\n",
    "%load_ext sql\n",
    "%config SqlMagic.autopandas = True\n",
    "%config SqlMagic.feedback = False\n",
    "%config SqlMagic.displaycon = False\n",
    "\n",
    "# Load data\n",
    "con = duckdb.connect(\":memory:\")\n",
    "connect_teachdb(con)\n",
    "\n",
    "%sql con"
   ]
  },
  {
   "cell_type": "markdown",
   "metadata": {
    "id": "anWo_Iy20gRL"
   },
   "source": [
    "**Step 2: Run a query**\n",
    "\n",
    "To run SQL queries against the database, make sure that the cell you are writing in has `%%sql` written at the top. You can write your queries underneath that and run the cell to execute them. \n",
    "\n",
    "Go ahead and try it by executing the query in the cell below:"
   ]
  },
  {
   "cell_type": "code",
   "execution_count": null,
   "metadata": {
    "id": "khdlRYapr0h-"
   },
   "outputs": [],
   "source": [
    "%%sql\n",
    "\n",
    "SELECT *\n",
    "FROM customer"
   ]
  },
  {
   "cell_type": "markdown",
   "metadata": {
    "id": "EgIfRtZAyWQg"
   },
   "source": [
    "## Practice: Writing a SQL Query\n",
    "\n",
    "Write a SQL statement to display all the information of all salesmen.\n",
    "\n",
    "Table: `salesman`\n",
    "\n",
    "*Write your query below the `%%sql` line*"
   ]
  },
  {
   "cell_type": "code",
   "execution_count": null,
   "metadata": {
    "id": "k8mZ8GPgyfyW"
   },
   "outputs": [],
   "source": [
    "%%sql\n",
    "\n"
   ]
  },
  {
   "cell_type": "markdown",
   "metadata": {
    "id": "2uUhhGatzB5S"
   },
   "source": [
    "## Practice: Queries with constraints\n",
    "\n",
    "Write a SQL statement to display the name and city of all salesmen who are based in Paris."
   ]
  },
  {
   "cell_type": "code",
   "execution_count": null,
   "metadata": {
    "id": "TnZWbct3zPQI"
   },
   "outputs": [],
   "source": [
    "%%sql\n",
    "\n"
   ]
  },
  {
   "cell_type": "markdown",
   "metadata": {
    "id": "3YKTOaXJzm0-"
   },
   "source": [
    "## Practice: More queries with constraints\n",
    "\n",
    "Write a SQL statement to display all the information for those customers with a grade of 200.\n",
    "\n",
    "Table: `customer`"
   ]
  },
  {
   "cell_type": "code",
   "execution_count": null,
   "metadata": {
    "id": "PpABNXoBzv7Z"
   },
   "outputs": [],
   "source": [
    "%%sql\n",
    "\n"
   ]
  },
  {
   "cell_type": "markdown",
   "metadata": {
    "id": "oJV417VAa9rj"
   },
   "source": [
    "## Basic Pattern Matching\n",
    "\n",
    "Pattern matching is a powerful feature in SQL that allows you to search for patterns within text data. The `LIKE` operator is used in SQL to perform pattern matching. Here are some of the basics of pattern matching using the `LIKE`, `%`, and `_` operators:\n",
    "\n",
    "#### `LIKE` with the `%` Operator\n",
    "The `%` is known as a wildcard operator. This means that it can be used to match zero (think blank spaces) to many characters in a given string. Here are some examples of how we can use it to filter for text patterns in our data.\n",
    "\n",
    "The following code:\n",
    "\n",
    "```sql\n",
    "SELECT *\n",
    "FROM table\n",
    "WHERE column LIKE 'COOP%';\n",
    "```\n",
    "\n",
    "will filter for and match any strings that are like the following:\n",
    "```\n",
    "“COOP”\n",
    "“COOP Careers”\n",
    "“COOP Careers: Overcoming Underemployment”\n",
    "```\n",
    "\n",
    "Essentially, this *filters for any text string that starts with* the word “COOP”. We can also use the `%` operator to *filter for words within a given text string.*\n",
    "\n",
    "The following code:\n",
    "\n",
    "```sql\n",
    "SELECT *\n",
    "FROM table\n",
    "WHERE column LIKE '%COOP%';\n",
    "```\n",
    "\n",
    "will filter for and match any strings that are like the following:\n",
    "```\n",
    "“COOP Careers”\n",
    "“COOP”\n",
    "“It’s pronounced ‘COOP’ not ‘COOP’”\n",
    "```\n",
    "#### `LIKE` with the `_` Operator\n",
    "\n",
    "The `_` operator is also a wildcard operator, just like `%`. The only difference is that `_` only matches any single character.\n",
    "\n",
    "The following code:\n",
    "\n",
    "```sql\n",
    "SELECT *\n",
    "FROM table\n",
    "WHERE column LIKE 'COOP_';\n",
    "```\n",
    "\n",
    "will filter for and match any strings that are like the following:\n",
    "\n",
    "```\n",
    "“COOP”\n",
    "“COOP “\n",
    "“COOP1”\n",
    "```\n",
    "\n",
    "but it will not match strings like **“COOP12”** or **“COOP12345*”**.\n"
   ]
  },
  {
   "cell_type": "markdown",
   "metadata": {
    "id": "H1NPN6e5fiHr"
   },
   "source": [
    "-------------------------------------------------------------------------------\n",
    "\n",
    "## Practice: Pattern Matching Queries\n",
    "\n",
    "table: `customer`\n",
    "\n",
    "1. Using the `customer` table, write a query that displays all the customers with the first name **Brad**:"
   ]
  },
  {
   "cell_type": "code",
   "execution_count": null,
   "metadata": {
    "id": "eyHgETdicqNu"
   },
   "outputs": [],
   "source": [
    "%%sql\n"
   ]
  },
  {
   "cell_type": "markdown",
   "metadata": {
    "id": "jgXLq5qggH_w"
   },
   "source": [
    "2. Write a query that displays all cities that have the letter \"i\" in their name \n",
    "\n",
    "*e.g. Paris -- there is an \"i\" in Paris, so it is in the results)*"
   ]
  },
  {
   "cell_type": "code",
   "execution_count": null,
   "metadata": {
    "id": "mbnfv6UoaVLa"
   },
   "outputs": [],
   "source": [
    "%%sql\n"
   ]
  },
  {
   "cell_type": "markdown",
   "metadata": {
    "id": "7IdFi2Yfhtye"
   },
   "source": [
    "3. Write a query that filters for rows that match this pattern: `Ne* York`\n",
    "\n",
    "The asterisk(*) here means that it can match any **single** letter or number."
   ]
  },
  {
   "cell_type": "code",
   "execution_count": null,
   "metadata": {
    "id": "oWHJm1xwmb2z"
   },
   "outputs": [],
   "source": [
    "%%sql"
   ]
  },
  {
   "cell_type": "markdown",
   "metadata": {
    "id": "JAiW8CNnqb1z"
   },
   "source": [
    "## More resources for further practice\n",
    "\n",
    "- [SQL Bolt](https://sqlbolt.com/): The lessons here are a great introduction to SQL and you know the platform already!\n",
    "- [Mode](https://mode.com/sql-tutorial/): A comprehensive SQL tutorial from beginner all the way to advanced SQL. There's even a data analytics with SQL tutorial. This is a great resource to learn about SQL in depth and practice what you learn in their online database.\n",
    "- [StrataScratch](https://platform.stratascratch.com/coding): Practice coding questions geared toward data analysts and data scientists. You can solve coding problems used by real companies for technical interviews using PostgresSQL, Python, R, or MySQL. It's free to sign up!\n",
    "- [Codecademy - Free Learn SQL Course](https://www.codecademy.com/learn/learn-sql): Codecademy is another great resource to learn SQL as well as most other languages. There are a lot of free resources here that can help you learn SQL, Python, R, and many other languages.\n",
    "- [Socratica SQL (YouTube)](https://www.youtube.com/watch?v=nWyyDHhTxYU&list=PLih4ch-U2DiBbMoFK4ML9faT3k3MM2UQY): This is a great playlist that will get you started learning SQL with one of the most popular relational databases - Postgres.\n",
    "- [DB Fiddle](https://dbfiddle.uk/): This site is like a SQL scratch pad. You can use it to practice doing stuff like creating tables and inserting data into them, and all sorts of other stuff that you might not be able to do so freely in a live database. It's a sandbox, basically. Here are a couple of links to fiddles with some data in them to play with: [fiddle 1](https://dbfiddle.uk/?rdbms=postgres_13&fiddle=366b683701596d3f7459b0411c15acd1) and [fiddle 2](https://dbfiddle.uk/?rdbms=postgres_13&fiddle=dfffc1939f629d9286c55d732fb656c5).\n",
    "\n",
    "\n",
    "And don't forget to keep your [SQL Cheatsheet](https://martinmarroyo.github.io/sqlcheatsheetandresources-coop/) handy!"
   ]
  },
  {
   "cell_type": "code",
   "execution_count": null,
   "metadata": {
    "id": "CltDSvYIqsg3"
   },
   "outputs": [],
   "source": []
  }
 ],
 "metadata": {
  "colab": {
   "provenance": []
  },
  "kernelspec": {
   "display_name": "Python 3 (ipykernel)",
   "language": "python",
   "name": "python3"
  },
  "language_info": {
   "codemirror_mode": {
    "name": "ipython",
    "version": 3
   },
   "file_extension": ".py",
   "mimetype": "text/x-python",
   "name": "python",
   "nbconvert_exporter": "python",
   "pygments_lexer": "ipython3",
   "version": "3.11.4"
  }
 },
 "nbformat": 4,
 "nbformat_minor": 1
}

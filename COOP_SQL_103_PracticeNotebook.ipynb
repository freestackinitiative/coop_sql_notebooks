{
  "cells": [
    {
      "cell_type": "markdown",
      "metadata": {
        "id": "Cp08s6IWsBlJ"
      },
      "source": [
        "# **SQL 103 - Combining Data From Multiple Tables**\n",
        "Author: Martin Arroyo"
      ]
    },
    {
      "cell_type": "markdown",
      "metadata": {
        "id": "_mXzxNcMVxgQ"
      },
      "source": [
        "### **About this notebook**\n",
        "\n",
        "All of your queries will be written using preloaded databases that are available only in this notebook. Our \"RDBMS\" and SQL dialect is called `duckdb`, a new and popular Python library that provides the framework to make our queries possible. You can find [the documentation for `duckdb` here](https://duckdb.org/docs/sql/introduction) - you will want to keep the documentation handy.\n",
        "\n",
        "`teachdb`, which provides the data that you will be working with, is a Python library written by The Freestack Initiative, a group of COOP alumni who want to empower the community to learn and improve their technical skills by providing materials and resources at low (or no) cost."
      ]
    },
    {
      "cell_type": "markdown",
      "metadata": {
        "id": "WIS_JN4vVxgQ"
      },
      "source": [
        "## **How to use this notebook**\n",
        "\n",
        "First, we'll do a quick tutorial on how to use the notebook with these tools, then we'll dive into more SQL!"
      ]
    },
    {
      "cell_type": "markdown",
      "metadata": {
        "id": "wK7qgA0ZVxgQ"
      },
      "source": [
        "### **Step 1: Press the play button below to set up the database and notebook**\n",
        "\n",
        "You will see a checkmark appear when the database is finished setting up."
      ]
    },
    {
      "cell_type": "code",
      "execution_count": 1,
      "metadata": {
        "author": "Martin Arroyo",
        "date": "Saturday, September 2, 2023",
        "email": "martinm.arroyo7@gmail.com",
        "id": "zZ9ruuMrSn64",
        "reason": "Proof of work - made by Martin Arroyo",
        "tags": [
          "hide-input"
        ]
      },
      "outputs": [],
      "source": [
        "%%capture\n",
        "# @title Press Play { display-mode: \"form\" }\n",
        "\n",
        "# This code is used to set up the notebook by installing the libraries we need, configuring extensions to\n",
        "# make displays for our queries look nice, and connecting to our relational database so that you can write\n",
        "# queries in code cells using the %%sql magic tag.\n",
        "\n",
        "# Install `teachdb` if it's not in the system already\n",
        "!pip install --quiet --upgrade git+https://github.com/freestackinitiative/teachingdb.git\n",
        "import pandas as pd\n",
        "from teachdb.teachdb import connect_teachdb\n",
        "# Set configurations for notebook\n",
        "%load_ext sql\n",
        "%config SqlMagic.autopandas = True\n",
        "%config SqlMagic.feedback = False\n",
        "%config SqlMagic.displaycon = False\n",
        "pd.set_option('display.max_rows', None)\n",
        "pd.set_option('display.max_columns', None)\n",
        "pd.set_option('display.width', None)\n",
        "pd.set_option('display.max_colwidth', 99)\n",
        "# Load data\n",
        "con = connect_teachdb(databases=[\"core\", \"restaurant\"])\n",
        "%sql con\n",
        "\n",
        "# Check out the Freestack Initiative @https://github.com/freestackinitiative"
      ]
    },
    {
      "cell_type": "markdown",
      "metadata": {
        "id": "anWo_Iy20gRL"
      },
      "source": [
        "### **Step 2: Run a query**\n",
        "\n",
        "To run SQL queries against the database, create a new code cell. Then write `%%sql` at the top. This tells the notebook that this cell is being used to query the database. You can write your queries underneath the `%%sql` line by pressing the play button of the cell or selecting the cell and using `CTRL + Shift + Enter` on Windows (`CMD + Shift + Return` on Mac.)\n",
        "\n",
        "Go ahead and try it by executing the query in the cell below:"
      ]
    },
    {
      "cell_type": "code",
      "execution_count": null,
      "metadata": {
        "id": "khdlRYapr0h-"
      },
      "outputs": [],
      "source": [
        "%%sql\n",
        "\n",
        "SELECT *\n",
        "FROM Customers\n",
        "LIMIT 5"
      ]
    },
    {
      "cell_type": "markdown",
      "metadata": {
        "id": "gYWuOYSMVxgU"
      },
      "source": [
        "## **Combining Data - Joins and Unions**\n",
        "\n",
        "Now we're ready to take our queries to the next level by combining data from multiple tables!\n",
        "\n",
        "In this notebook, we'll walk you through how to combine data *horizontally* using joins and *vertically* with unions. At the end of it, you'll know:\n",
        "\n",
        "- The two primary ways that we combine data in SQL\n",
        "- How to write queries that combine data from multiple tables both *horizontally* and *vertically*"
      ]
    },
    {
      "cell_type": "markdown",
      "metadata": {
        "id": "vMxgV5wPVxgU"
      },
      "source": [
        "### Combining Data <em>Vertically</em> with `UNION`\n",
        "\n",
        "Unions let us combine two tables together vertically. They say, \"Combine this data from top to bottom.\" In other words, unions combine tables such that we add more rows to our data.\n",
        "\n",
        "Here's what that looks like visually:\n",
        "\n",
        "![Simple Union Results](https://github.com/freestackinitiative/coop_sql_notebooks/blob/main/assets/simple-union.png?raw=1)"
      ]
    },
    {
      "cell_type": "markdown",
      "metadata": {
        "id": "RfHkC6kgVxgU"
      },
      "source": [
        "#### **Example - Using `UNION`**\n",
        "\n",
        "**Unions are best to use when you have data from two very similar tables that can be combined into a single view.**\n",
        "\n",
        "Our restaurant database has a `Dishes` table that has the main menu items and a `NewDishes` table which has dishes that are NOT in the menu yet.\n",
        "\n",
        "We can use `UNION` to show us all the current and new dishes together instead of in separate tables. This will let us get a more holistic view of the restaurant’s offerings.\n",
        "\n",
        "Here is the query that will show us all of the appetizers available from both the `Dishes` table and the `NewDishes` table together:\n",
        "\n",
        "```sql\n",
        "SELECT Name, Price, Type, 'NewDishes' AS TableName\n",
        "FROM NewDishes\n",
        "WHERE Type='Appetizer'\n",
        "UNION\n",
        "SELECT Name, Price, Type, 'Dishes' AS TableName\n",
        "FROM Dishes\n",
        "WHERE Type='Appetizer'\n",
        "```\n",
        "\n",
        "Copy this query into the cell below and run it to see the results:"
      ]
    },
    {
      "cell_type": "code",
      "execution_count": null,
      "metadata": {
        "id": "k7YFqC88VxgV"
      },
      "outputs": [],
      "source": [
        "%%sql\n",
        "\n"
      ]
    },
    {
      "cell_type": "markdown",
      "metadata": {
        "id": "EUvrz8ExVxgV"
      },
      "source": [
        "#### **Breakdown - Using `UNION`**\n",
        "\n",
        "Let’s break down what’s happening in this query step-by-step:"
      ]
    },
    {
      "cell_type": "markdown",
      "metadata": {
        "id": "z0YFP7dKVxgV"
      },
      "source": [
        "##### **The \"Top Query\" in `UNION`**\n",
        "\n",
        "First, you might notice that we’re actually using two separate queries. This is exactly how we write `UNION` queries - by combining the results of two queries on top of each other. We’ll start with the first part:\n",
        "\n",
        "```sql\n",
        "SELECT Name, Price, Type, 'NewDishes' AS TableName\n",
        "FROM NewDishes\n",
        "WHERE Type='Appetizer'\n",
        "```\n",
        "\n",
        "We’ll call this part of the query the “top query.” It is simply a `SELECT` query on a single table with a filter. We are querying the `NewDishes` table and filtering for only the `Appetizer` dishes.\n",
        "\n",
        "It’s important to note both the columns that are being selected and their order - this is critical for `UNION` queries. For the results of both the top and bottom queries to align, the columns you select must have the same data type and be in the same order in both queries. You’ll see that we use columns with the same data type and in the same order for the “bottom query.”\n",
        "\n",
        "Also, each query (both top and bottom) must select the same number of columns as well. You can’t have one query select five columns and the other select four - that is an error.\n",
        "\n",
        ">**Extra Context:** The `'NewDishes' AS TableName` part creates a new column in our query called `TableName` that uses the text value `'NewDishes'` for all of its rows.\n"
      ]
    },
    {
      "cell_type": "markdown",
      "metadata": {
        "id": "6kF3eMzLVxgV"
      },
      "source": [
        "##### **The `UNION` clause**\n",
        "\n",
        "```sql\n",
        "UNION\n",
        "```\n",
        "\n",
        "Here is our new clause - `UNION`. By including `UNION` after our “top query”, we are saying, <em>“Combine the results from the query on top with the results from the query on the bottom.”</em>\n",
        "\n",
        "Another important distinction to make here is that by saying `UNION`, we are also telling SQL that we don’t want duplicate values in our final query result. If we instead didn’t need to remove duplicates, we could use `UNION ALL` instead, which leaves in the duplicate rows between the top and bottom query.\n",
        "\n",
        ">**Pro-Tip**: While using just `UNION` is handy when we don’t want duplicate rows in our results, it can cause performance issues when we are working with larger data sets. It is similar to the `DISTINCT` operation and should be used sparingly. If performance becomes an issue (e.g. query takes too long to run), switch to using `UNION ALL` - you’ll get duplicate rows but your query will run faster. Whether or not to make the tradeoff on performance vs. convenience is a judgement call you will have to make depending on your situation."
      ]
    },
    {
      "cell_type": "markdown",
      "metadata": {
        "id": "ZRftgPQoVxgV"
      },
      "source": [
        "##### **The \"Bottom Query\" in `UNION`**\n",
        "\n",
        "```sql\n",
        "SELECT Name, Price, Type, 'Dishes' AS TableName\n",
        "FROM Dishes\n",
        "WHERE Type='Appetizer'\n",
        "```\n",
        "\n",
        "We’ll call this part the “bottom query”. In it, we’re saying, “Give me all the dishes in the Dishes table that aren’t appetizers” since we want to replace the current appetizers with the ones found in NewDishes. Again, we select columns that match both the data type and order of the columns from the “top query”."
      ]
    },
    {
      "cell_type": "markdown",
      "metadata": {
        "id": "6nCIhVvHVxgV"
      },
      "source": [
        "#### **Summary - `UNION` queries**\n",
        "\n",
        "To sum everything on `UNION` queries up so far:\n",
        "\n",
        "- `UNION` queries allow us to combine data vertically instead of horizontally (like joins)\n",
        "- To write `UNION` queries, we combine the results of two queries using the `UNION` clause\n",
        "- The two queries must follow these rules:\n",
        "    - The columns in both queries must have the same data types\n",
        "    - The columns in both queries must be in the same order in each\n",
        "- Each query must select the same number of columns\n",
        "- `UNION` by itself tells SQL to remove duplicate values in the final result; `UNION ALL` keeps the duplicate values\n",
        "- `UNION` is a more “expensive” operation than `UNION ALL` and should be used sparingly; This depends on your use case and how much data you are working with"
      ]
    },
    {
      "cell_type": "markdown",
      "metadata": {
        "id": "qrvc2mFYVxgV"
      },
      "source": [
        "#### **Action Item - Writing a query using `UNION`**\n",
        "\n",
        "The restaurant owners tell us that they are planning on making some changes to the menu next month. They want to replace all of the appetizers and desserts in the current menu with new ones from the `NewDishes` table.\n",
        "\n",
        "Write a query that **shows the new menu** by combining the `Appetizer` and `Dessert` dishes from `NewDishes` with the `Main` and `Beverage` dishes in the `Dishes` table. Include only the name of the dish, its price, and the type that it is.\n",
        "\n",
        "<details>\n",
        "<summary>Click to reveal the expected output</summary>\n",
        "<img src=\"https://github.com/freestackinitiative/coop_sql_notebooks/blob/main/assets/union-action-item-result-102.png?raw=1\" alt=\"Expected Results from Union Query\"/>\n",
        "</details>\n",
        "\n",
        "<br />\n",
        "\n",
        "<details>\n",
        "<summary>Here's a hint if you're stuck</summary>\n",
        "<p>You can use the previous example as a base to start with since it has almost everything you need. Consider how you might use the <b>IN</b> keyword to help you filter for more than one value in a range efficiently.</p>\n",
        "</details>\n",
        "\n",
        "<br />\n",
        "\n",
        "<details>\n",
        "<summary>Click here to reveal the answer</summary>\n",
        "\n",
        "```sql\n",
        "SELECT Name, Price, Type\n",
        "FROM NewDishes\n",
        "WHERE Type IN ('Appetizer', 'Dessert')\n",
        "UNION\n",
        "SELECT Name, Price, Type\n",
        "FROM Dishes\n",
        "WHERE Type IN ('Main', 'Beverage')\n",
        "```\n",
        "\n",
        "</details>"
      ]
    },
    {
      "cell_type": "code",
      "execution_count": null,
      "metadata": {
        "id": "XafmjDTVVxgW"
      },
      "outputs": [],
      "source": [
        "%%sql\n",
        "\n"
      ]
    },
    {
      "cell_type": "markdown",
      "metadata": {
        "id": "K1_825qkVxgW"
      },
      "source": [
        "### **Combining Data <em>Horizontally</em> with `JOIN`**\n",
        "\n",
        "Great work so far! By learning how to combine data vertically using `UNION` you have greatly expanded the number and types of questions you can answer using SQL. Let's take another step further together and learn how to combine data *horizontally* with joins!\n",
        "\n",
        "Here is a visual that illustrates how joins combine data:\n",
        "\n",
        "![Simple Join Visual](https://github.com/freestackinitiative/coop_sql_notebooks/blob/main/assets/simple-join.png?raw=1)\n",
        "\n",
        "As you can see, the data from `Table A` is combined with `Table B` such that we add the columns from `Table B` onto `Table A`. We're adding data in the *horizontal* direction as opposed to the *vertical* when we use `UNION`."
      ]
    },
    {
      "cell_type": "markdown",
      "metadata": {
        "id": "Oj2b1rVnVxgW"
      },
      "source": [
        "#### `JOIN` Terminology: The \"Left-Side\" and \"Right-Side\" of the join\n",
        "\n",
        "When discussing joins in SQL, the terms \"left-side\" and \"right-side\" refer to the positions of the tables being joined relative to the JOIN keyword in the SQL query.\n",
        "\n",
        "**Left-Side**\n",
        "\n",
        "The table that is mentioned immediately after the `FROM` clause is considered the table on the \"left-side\" of the join. This is the primary table you start with.\n",
        "\n",
        "**Right-Side**\n",
        "\n",
        "The table that is specified immediately after the `JOIN` keyword is considered the table on the \"right-side\" of the join. This is the table you want to join with the left-side table."
      ]
    },
    {
      "cell_type": "markdown",
      "metadata": {
        "id": "3zId9oFIVxgW"
      },
      "source": [
        "#### **The Four Fundamental Types of `JOIN`**\n",
        "\n",
        "There are four fundamental join types that you should know about in SQL - `INNER`, `LEFT`, `RIGHT`, and `FULL OUTER` joins. Each join type provides slightly different results, and you select the type to use based on what your analysis calls for.\n",
        "\n",
        "- `INNER JOIN`: Only keep the records that match the constraint between the two tables\n",
        "\n",
        "- `LEFT JOIN`: Keep all the records from the left-side of the join, and only show values for the records on the right-side that matched. Any values from the right-side that weren’t matched will be assigned a null value.\n",
        "\n",
        "- `RIGHT JOIN`: The opposite of the `LEFT JOIN` - keep all the records from the right-side of the join and only show values for the records on the left-side that matched. Any values from the left-sie that weren’t matched will be assigned a null value.\n",
        "\n",
        "- `FULL OUTER JOIN`: Keep all records between both tables, but only show the values that match my constraint. All other records that don’t match will be included, but those values will be set to null.\n",
        "\n",
        "We will cover how to use each type of join in the following few sections of this notebook."
      ]
    },
    {
      "cell_type": "markdown",
      "metadata": {
        "id": "5B8OCnXWVxgW"
      },
      "source": [
        "#### **`INNER JOIN` - The Most Common Join**\n",
        "\n",
        "When we use an `INNER JOIN`, we are saying, **<em>\"Only give me the rows from both tables that match the constraints that I set.\"</em>**\n",
        "\n",
        "It can be useful to visualize how the rows will be matched between two tables:\n",
        "\n",
        "![Inner Join Example](https://github.com/freestackinitiative/coop_sql_notebooks/blob/main/assets/simple-inner-join.png?raw=1)\n",
        "![Inner Join](https://www.codeproject.com/KB/database/Visual_SQL_Joins/INNER_JOIN.png)\n"
      ]
    },
    {
      "cell_type": "markdown",
      "metadata": {
        "id": "4MOhZrNaVxgW"
      },
      "source": [
        "##### **Example - `INNER JOIN`**\n",
        "\n",
        "For example, let's say that we want to know our customer's favorite dishes. We only want to see results where the customer has indicated what their favorite dish is - if they didn't tell us, then we're not concerned (for now.) This is a perfect use case for an `INNER JOIN`.  \n",
        "\n",
        "Let's write a query that identifies each customer's favorite dish from our menu. We'll use data from the `Dishes` table as well as the `Customers` table:\n",
        "\n",
        "```sql\n",
        "SELECT C.FirstName, C.LastName, D.Name AS FavoriteDish\n",
        "FROM Customers AS C\n",
        "INNER JOIN Dishes AS D -- Specifying the join type\n",
        "ON C.FavoriteDish=D.DishID -- Specifying our constraint: Rows must have matching DishID numbers\n",
        "LIMIT 5 -- Limiting to just the first five rows for now because there are a lot of rows\n",
        "```"
      ]
    },
    {
      "cell_type": "markdown",
      "metadata": {
        "id": "QNA0BV2YVxgW"
      },
      "source": [
        "##### **Breakdown - `INNER JOIN`**\n",
        "\n",
        "Let's go through this query step-by-step:"
      ]
    },
    {
      "cell_type": "markdown",
      "metadata": {
        "id": "i2BjKSOlVxgW"
      },
      "source": [
        "##### **Using aliases when combining multiple tables**\n",
        "\n",
        "```sql\n",
        "SELECT C.FirstName, C.LastName, D.Name AS FavoriteDish\n",
        "FROM Customers AS C\n",
        "```\n",
        "\n",
        "The first part of our query is pretty straightforward - even if you might see some unfamiliar notation - because it is a `SELECT` query.\n",
        "\n",
        "The reason you see `C.FirstName` and such with the columns is because we have created aliases for each table: `C` for `Customers` and `D` for `Dishes`. This is common practice when we write join queries.\n",
        "\n",
        "If two tables have columns with the same name, SQL needs a way to understand which table and columns you are referring to in your query. This is why we use `C.FirstName`, which is using the `FirstName` column from the `Customers` table."
      ]
    },
    {
      "cell_type": "markdown",
      "metadata": {
        "id": "xXE3JpbrVxgW"
      },
      "source": [
        "##### **Specifying the Join Type and Constraint**\n",
        "\n",
        "```sql\n",
        "INNER JOIN Dishes AS D\n",
        "ON C.FavoriteDish=D.DishID\n",
        "```\n",
        "\n",
        "This is where we indicate the type of join we want and our intent to join the `Dishes` table. We have specified an `INNER` join as the type of join that we want to use. We gave the `Dishes` table an alias of `D` to make it easier to reference.\n",
        "\n",
        "Our constraint is specified on the next line. Here, our constraint says, <em>“Only match the rows between the two tables that have matching dish IDs.”</em> Or in other words, <em>“make sure the customer's favorite dishes are associated with the correct dish using the `DishID` number.”</em>\n",
        "\n",
        "It is very common to use ID fields for joins since they usually represent a primary key/foreign key relationship."
      ]
    },
    {
      "cell_type": "markdown",
      "metadata": {
        "id": "0IJ2tBfWVxgW"
      },
      "source": [
        "##### **Action Item - Using `INNER JOIN`**\n",
        "\n",
        "Write a query that shows the names of all the dishes for `OrderID` numbers `1` through `5`. Use the `OrderID` column from the `OrdersDishes` table, and get the dish names from the `Dishes` table. Both of these tables can be connected using a common `DishID`. Your query should just show the `OrderID` and the `Name` of the dish. Order the results by `OrderID`.\n",
        "\n",
        ">**Pro-Tip:** Don't be afraid to try parts of your query separately or to write it out in stages until you can piece it all together - there is no rule that says you have to get it right all at once. Breaking a big problem down into smaller sub-problems is the essence of coding.\n",
        "\n",
        "<details>\n",
        "<summary>Click to reveal the expected output</summary>\n",
        "<img src=\"https://github.com/freestackinitiative/coop_sql_notebooks/blob/main/assets/inner-join-action-item.png?raw=1\" alt=\"An image showing the results of the join query for this action item\">\n",
        "</details>\n",
        "\n",
        "<br/>\n",
        "<details>\n",
        "<summary>Here's a hint if you need it</summary>\n",
        "<p>Structure the join portion of the query just like the example above. Once you get that, add in the filter for the correct OrderIDs and set the sort order.</p>\n",
        "</details>\n",
        "\n",
        "<br/>\n",
        "<details>\n",
        "<summary>Click here to reveal the answer</summary>\n",
        "\n",
        "```sql\n",
        "SELECT OD.OrderID, D.Name AS DishName\n",
        "FROM OrdersDishes AS OD\n",
        "INNER JOIN Dishes AS D\n",
        "ON OD.DishID=D.DishID\n",
        "WHERE OD.OrderID BETWEEN 1 AND 5\n",
        "ORDER BY OD.OrderID\n",
        "```\n",
        "\n",
        "</details>"
      ]
    },
    {
      "cell_type": "code",
      "execution_count": null,
      "metadata": {
        "id": "0AW5uEEHVxgW"
      },
      "outputs": [],
      "source": [
        "%%sql\n",
        "\n"
      ]
    },
    {
      "cell_type": "markdown",
      "metadata": {
        "id": "SN1odw5tVxga"
      },
      "source": [
        "#### **`LEFT JOIN` - The Other Most Common Join**\n",
        "\n",
        "Now that you know how the `INNER JOIN` works, let's introduce you to the other most common join type: `LEFT JOIN`. Thankfully, we don't really need to learn any more new syntax for the rest of the joins. For example, we can simply replace `INNER` with `LEFT` in the previous query to convert it from an `INNER JOIN` to a `LEFT JOIN`.\n",
        "\n",
        "From here on out, the **`JOIN` syntax is not as important as understanding how your choice of join type affects what rows are returned from the query.**\n",
        "\n",
        "**`LEFT JOIN` keeps all the records from the left-side of the join and only shows values for the records on the right-side that matched. Any values from the right-side that weren’t matched will be assigned a null value.**\n",
        "\n",
        "Check out the visual example below:\n",
        "\n",
        "![Simple Left Join](https://github.com/freestackinitiative/coop_sql_notebooks/blob/main/assets/simple-left-join.png?raw=1)\n",
        "![Simple Left Join Venn Diagram](https://www.codeproject.com/KB/database/Visual_SQL_Joins/LEFT_JOIN.png)\n",
        "\n",
        "As you can see, since there isn't a match for `ID` number `4` in the left-side table, the values from that row are not included in the final result. Instead, we have `NULL` values occupying the space where those values would have gone if there was a match."
      ]
    },
    {
      "cell_type": "markdown",
      "metadata": {
        "id": "D7GmmBy3Vxga"
      },
      "source": [
        "##### **Example - Using `LEFT JOIN`**\n",
        "\n",
        "When we used `INNER JOIN` to find our customer's favorite dishes earlier, did we include *ALL* of the customers in our result? Think about this for a moment before revealing the answer below:\n",
        "\n",
        "<details>\n",
        "<summary><em>Well, did we include all of them?</em></summary>\n",
        "<p><b>No, we did not!</b> Since we used an <b>INNER JOIN</b>, only the customers who had a favorite dish listed were included in the results. But there are customers in our table who don't have a favorite dish listed yet!</p>\n",
        "</details>\n",
        "\n",
        "Let's take our original query, change `INNER` to `LEFT`, and check for `NULL` values:\n",
        "\n",
        "```sql\n",
        "SELECT C.FirstName, C.LastName, D.Name AS FavoriteDish\n",
        "FROM Customers AS C\n",
        "LEFT JOIN Dishes AS D -- Specifying the join type\n",
        "ON C.FavoriteDish=D.DishID -- Specifying our constraint: Rows must have matching DishID numbers\n",
        "WHERE C.FavoriteDish IS NULL\n",
        "```\n",
        "\n",
        "`Output`:\n",
        "\n",
        "![Result of Left Join example query](https://github.com/freestackinitiative/coop_sql_notebooks/blob/main/assets/left-join-results-customer-dishes-example.png?raw=1)"
      ]
    },
    {
      "cell_type": "markdown",
      "metadata": {
        "id": "qLsHLipxVxga"
      },
      "source": [
        "##### **Breakdown - Using `LEFT JOIN`**\n",
        "\n",
        "There is not much new material to introduce for this query. We are re-using our query from the `INNER JOIN` section and just switched `INNER` to `LEFT`. Then we used a filter to select rows where the the `FavoriteDish` column from `Customers` is `NULL` (`WHERE C.FavoriteDish IS NULL`).\n",
        "\n",
        "What this does illustrate, though, is a key difference between `INNER` and `LEFT` joins. Originally, we only wanted to know about the customers who specified their favorite dish, so we used an `INNER JOIN`. But if we wanted to also consider the customers who didn't specify their favorite dish yet (maybe so we can reach out to them and ask), then we would want to choose the `LEFT JOIN`."
      ]
    },
    {
      "cell_type": "markdown",
      "metadata": {
        "id": "br1idlufVxgb"
      },
      "source": [
        "##### **Action Item - Using `LEFT JOIN`**\n",
        "\n",
        "Let's revisit the query that we wrote in the previous **Action Item** for `INNER JOIN`. We might have missed some parts of those orders because our first query only considered the rows where the `DishID` matched. Write a version of that query that uses a `LEFT JOIN` instead to display all of the rows for `OrderID` numbers 1-5. Use the same tables - `Dishes` and `OrderDishes`.\n",
        "\n",
        "Did we miss some dishes in our original (`INNER JOIN`) query?\n",
        "\n",
        "<details>\n",
        "<summary>Click to see the expected output</summary>\n",
        "<img src=\"https://github.com/freestackinitiative/coop_sql_notebooks/blob/main/assets/left-join-action-item.png?raw=1\" alt=\"Left Join results for the action item query\">\n",
        "</details>\n",
        "\n",
        "<br/>\n",
        "<details>\n",
        "<summary>Click to reveal the answer</summary>\n",
        "\n",
        "Yes, we did miss some dishes in the original query. Here is the new query that shows the rows we missed:\n",
        "\n",
        "```sql\n",
        "SELECT OD.OrderID, D.Name AS DishName\n",
        "FROM OrdersDishes AS OD\n",
        "LEFT JOIN Dishes AS D\n",
        "ON OD.DishID=D.DishID\n",
        "WHERE OD.OrderID BETWEEN 1 AND 5\n",
        "ORDER BY OD.OrderID\n",
        "```\n",
        "\n",
        "</details>\n",
        "\n",
        "\n"
      ]
    },
    {
      "cell_type": "code",
      "execution_count": null,
      "metadata": {
        "id": "RC1CtUO3Vxgb"
      },
      "outputs": [],
      "source": [
        "%%sql\n",
        "\n",
        "\n"
      ]
    },
    {
      "cell_type": "markdown",
      "metadata": {
        "id": "dPnsxyWFVxgb"
      },
      "source": [
        "#### **`INNER JOIN` vs `LEFT JOIN` - Caveats & When To Use Each Type**\n",
        "\n",
        "As we mentioned earlier, `INNER JOIN` and `LEFT JOIN` are by far the two most common joins you will use in practice. You should know these two join types well - especially for technical interviews.\n",
        "\n",
        "The other joins (`RIGHT` and `FULL OUTER`) are not used much in practice, but you should know how they work.\n",
        "\n",
        "Here is some general advice on deciding which one you should use and caveats to both:"
      ]
    },
    {
      "cell_type": "markdown",
      "metadata": {
        "id": "mt_Bal-pVxgb"
      },
      "source": [
        "##### **Caveats of using `INNER JOIN` and `LEFT JOIN`**\n",
        "\n",
        "**`INNER JOIN`:**\n",
        "- Data Loss: `INNER JOIN` eliminates rows from both tables that do not satisfy the join condition, which could result in data loss if you're interested in those unmatched rows.\n",
        "\n",
        "**`LEFT JOIN`:**\n",
        "- `NULL` Values: `LEFT JOIN` retains all rows from the left table, even if there are no matches in the right table, filling these with `NULL` values. This could complicate data analysis or require additional data cleaning steps."
      ]
    },
    {
      "cell_type": "markdown",
      "metadata": {
        "id": "XTKKiJOvVxgb"
      },
      "source": [
        "##### **When do I use one over the other?**\n",
        "\n",
        "Whether to use an `INNER JOIN` or a `LEFT JOIN` is something you must consider for your particular use case. Do you only want to consider the records that match between your tables? Then choose an `INNER JOIN`. Want to make sure that records are kept from the left side of the join? Then - you guessed it - use a `LEFT JOIN`.\n",
        "\n",
        "---"
      ]
    },
    {
      "cell_type": "markdown",
      "metadata": {
        "id": "JrAKO4dkpV6l"
      },
      "source": [
        "#### **Lab 1 - `RIGHT JOIN` and `FULL OUTER JOIN`**\n",
        "\n",
        "In this lab, you will learn about `RIGHT JOIN` and `FULL OUTER JOIN`, as well as their use cases.\n",
        "\n",
        "**Instructions**\n",
        "\n",
        "Read through each section and complete the associated **Action Item** tasks for each one."
      ]
    },
    {
      "cell_type": "markdown",
      "metadata": {
        "id": "KnidqSiyVxgb"
      },
      "source": [
        "#### `RIGHT JOIN` and `FULL OUTER JOIN` - Use Cases\n",
        "\n",
        "We have already mentioned that neither `RIGHT JOIN` or `FULL OUTER JOIN` are used much in practice. This is especially true for `RIGHT JOIN` because we can accomplish the same thing that a `RIGHT JOIN` does with a `LEFT JOIN` - so it's a bit redundant.\n",
        "\n",
        "`FULL OUTER JOIN` can be useful when you have two or more similar tables (meaning they have the same kind of data, like Domestic Sales and International Sales) and you want to see all of the rows from both together. It can also be helpful when doing a gap analysis where you're trying to find what is missing between two tables.\n",
        "\n",
        "Regardless of their limited use in practice, you should know how both `RIGHT JOIN` and `FULL OUTER JOIN` work. They are commonly asked about in technical interviews, so you'll need to be aware of them at least. And you never know when one of these will come in handy for a query that you're writing."
      ]
    },
    {
      "cell_type": "markdown",
      "metadata": {
        "id": "VS3rSYO2Vxgb"
      },
      "source": [
        "##### **`RIGHT JOIN` - How it works**\n",
        "\n",
        "The opposite of the `LEFT JOIN`, `RIGHT JOIN` includes all the rows from the “right-side” of the join and only rows that match from the “left-side”. Also, similar to `LEFT JOIN`, values in rows from the other side of the join that don’t match are set to null and included in our query results.\n",
        "\n",
        "Here is an example query:\n",
        "\n",
        "```sql\n",
        "SELECT *\n",
        "FROM A -- This is the table on the \"left-side\" of the join\n",
        "RIGHT JOIN B -- This is the table on the \"right-side\" of the join\n",
        "ON A.ID=B.ID -- Specifying the join column (`column1`) and constraint (`=`)\n",
        "```\n",
        "\n",
        "And this is a visual representation of the results from the query:\n",
        "\n",
        "![Right Join Simple Example](https://github.com/freestackinitiative/coop_sql_notebooks/blob/main/assets/simple-right-join.png?raw=1)\n",
        "![Right Join Simple Example](https://www.codeproject.com/KB/database/Visual_SQL_Joins/RIGHT_JOIN.png)\n",
        "\n",
        "As you can see, the row on the \"left-side\" of the join that doesn't have a match in the table on the \"right-side\" is excluded in the final query result. In the result, any rows on the \"right-side\" without a match on the \"left-side\" have `NULL` values in the space where the \"left-side\" columns should be."
      ]
    },
    {
      "cell_type": "markdown",
      "metadata": {
        "id": "1_2aydAyVxgb"
      },
      "source": [
        "##### **Action Item - Using `RIGHT JOIN` in a query**\n",
        "\n",
        "Take the query that you wrote for the `LEFT JOIN` **Action Item** earlier and change it so that it uses a `RIGHT JOIN` instead. The results should be the same as what you got using the `LEFT JOIN`.\n",
        "\n",
        "<details>\n",
        "<summary>Click to see the expected output</summary>\n",
        "<img src=\"https://github.com/freestackinitiative/coop_sql_notebooks/blob/main/assets/left-join-action-item.png?raw=1\" alt=\"Left Join results for the action item query\">\n",
        "</details>\n",
        "\n",
        "<br/>\n",
        "<details>\n",
        "<summary>Here's a hint...</summary>\n",
        "<p>Think about the \"left-side\" and \"right-side\" of the join - in order to have this query show the same output for a RIGHT JOIN, you'll need to switch the positions of the tables in the query</p>\n",
        "</details>\n",
        "\n",
        "<br/>\n",
        "<details>\n",
        "<summary>Click to reveal the answer</summary>\n",
        "\n",
        "```sql\n",
        "SELECT OD.OrderID, D.Name AS DishName\n",
        "FROM Dishes AS D\n",
        "RIGHT JOIN OrdersDishes AS OD\n",
        "ON OD.DishID=D.DishID\n",
        "WHERE OD.OrderID BETWEEN 1 AND 5\n",
        "ORDER BY OD.OrderID\n",
        "```\n",
        "\n",
        "</details>"
      ]
    },
    {
      "cell_type": "code",
      "execution_count": null,
      "metadata": {
        "id": "FVTs6cMmVxgb"
      },
      "outputs": [],
      "source": [
        "%%sql\n",
        "\n"
      ]
    },
    {
      "cell_type": "markdown",
      "metadata": {
        "id": "ph0C-Qa-Vxgb"
      },
      "source": [
        "#### **`FULL OUTER JOIN` - How it works**\n",
        "\n",
        "We use `FULL OUTER JOIN` when we want to include all the rows from both sides of the join, showing the rows that match between the two and otherwise giving null values where there isn’t a match between the tables. A `FULL OUTER JOIN` is like a combination of both the `LEFT` and `RIGHT` join types.\n",
        "\n",
        "Here is an example of a query using `FULL OUTER JOIN`:\n",
        "\n",
        "```sql\n",
        "SELECT *\n",
        "FROM A -- This is the table on the \"left-side\" of the join\n",
        "FULL OUTER JOIN B -- This is the table on the \"right-side\" of the join\n",
        "ON A.ID=B.ID -- Specifying the join column (`column1`) and constraint (`=`)\n",
        "```\n",
        "Here is how the rows match visually:\n",
        "\n",
        "![Full Outer Join Simple Example](https://github.com/freestackinitiative/coop_sql_notebooks/blob/main/assets/simple-full-join.png?raw=1)\n",
        "![Full Outer Join venn diagram](https://www.codeproject.com/KB/database/Visual_SQL_Joins/FULL_OUTER_JOIN.png)\n",
        "\n",
        "As shown here, the `FULL OUTER JOIN` combines all the rows from both tables, showing `NULL` values in rows where there isn't a match in the other table based on the constraint. However, all of the rows are there in the result."
      ]
    },
    {
      "cell_type": "markdown",
      "metadata": {
        "id": "eL717A-sVxgb"
      },
      "source": [
        "##### **Action Item - Using `FULL OUTER JOIN`**\n",
        "\n",
        "**Scenario**\n",
        "\n",
        "The restaurant is preparing for some events that customers have made reservations for. To keep track of everything that needs to be prepared for each event and make sure all the dishes can be prepared, they used the `CustomersDishes` and `CustomersEvents` tables to store information. Unfortunately, they just found out that the software they were using to keep track of these events had unexpected errors causing some data to get corrupted and not stored correctly. They need your help to find the entries that are missing data so they can make sure everything goes smoothly for their events!\n",
        "\n",
        "**Your Task**\n",
        "\n",
        "Usually, if we join the `CustomersEvents` table with the `CustomersDishes` table using the `CustomerID`, there should be no `NULL` values. But since you know about the software error, you figure there will probably be `NULL` values where the entries were lost. Use a `FULL OUTER JOIN` to help them identify the rows that were corrupted from both tables and save the day!\n",
        "\n",
        "Your output should only show the `EventID` from the `CustomersEvents` table and the `CustomerID` from the `CustomersDishes` table.\n",
        "\n",
        "<details>\n",
        "<summary>Click here to see the expected output</summary>\n",
        "<img src=\"https://github.com/freestackinitiative/coop_sql_notebooks/blob/main/assets/full-outer-join-action-item.png?raw=1\" alt=\"Full outer join results for action item\">\n",
        "</details>\n",
        "\n",
        "<br/>\n",
        "<details>\n",
        "<summary>Click here for a hint!</summary>\n",
        "<p>Use the FULL OUTER JOIN example from above to help you get started. Change the table names to match the ones in the task, then update your contraints based on what the question is asking.</p>\n",
        "</details>\n",
        "\n",
        "<br/>\n",
        "<details>\n",
        "<summary>Click here to reveal the answer</summary>\n",
        "\n",
        "```sql\n",
        "SELECT CE.EventID, CD.CustomerID\n",
        "FROM CustomersEvents CE\n",
        "FULL OUTER JOIN CustomersDishes CD\n",
        "ON CE.CustomerID=CD.CustomerID\n",
        "```\n",
        "\n",
        "</details>\n"
      ]
    },
    {
      "cell_type": "code",
      "execution_count": null,
      "metadata": {
        "id": "1vrcu_GDVxgc"
      },
      "outputs": [],
      "source": [
        "%%sql\n",
        "\n"
      ]
    },
    {
      "cell_type": "markdown",
      "metadata": {
        "id": "wpZ-VvCRp_r4"
      },
      "source": [
        "**You've finished Lab 1! Great work!**\n",
        "\n",
        "---"
      ]
    },
    {
      "cell_type": "markdown",
      "metadata": {
        "id": "uoxFdJm2Vxgc"
      },
      "source": [
        "### **<em>Comprehension Check</em> - Combining Data Using `JOIN` and `UNION`**\n",
        "\n",
        "Answer the questions below to check your understanding of what we have covered so far. Try to answer the questions first before looking at the answers:\n",
        "\n",
        "*1. What is the primary difference between joins and unions in SQL?*\n",
        "<details>\n",
        "    <summary>Click to reveal the answer</summary>\n",
        "    <p>Joins combine data horizontally by adding more columns, while unions combine data vertically by adding more rows.</p>\n",
        "</details>\n",
        "\n",
        "\n",
        "*2. What is the key difference between `INNER JOIN` and `LEFT JOIN`?*\n",
        "<details>\n",
        "    <summary>Click to reveal the answer</summary>\n",
        "    <p>`INNER JOIN` keeps only the records that match the constraint between the two tables, while `LEFT JOIN` keeps all the records from the left-side table and only the matching records from the right-side table.</p>\n",
        "</details>\n",
        "\n",
        "\n",
        "*3. What does `RIGHT JOIN` do?*\n",
        "<details>\n",
        "    <summary>Click to reveal the answer</summary>\n",
        "\n",
        "`RIGHT JOIN` is the opposite of `LEFT JOIN`. It keeps all the records from the right-side table and only the matching records from the left-side table. Unmatched records from the left-side table will have `NULL` values.\n",
        "\n",
        "</details>\n",
        "\n",
        "*4. Describe the difference between `UNION ALL` and `UNION.`*\n",
        "<details>\n",
        "    <summary>Click to reveal the answer</summary>\n",
        "    <p>`UNION ALL` includes all results, even if there are duplicate rows. `UNION` removes all duplicate rows from the result set.</p>\n",
        "</details>"
      ]
    },
    {
      "cell_type": "markdown",
      "metadata": {
        "id": "6UotLmJVVxgc"
      },
      "source": [
        "### **Summary: Combining Data with Joins and Union**\n",
        "\n",
        "We use both joins and unions to combine data. Joins let us combine data *horizontally* by adding more columns. Unions, on the other hand, let us combine data *vertically* by adding more rows.\n",
        "\n",
        "Overall, there are **four join types** that you should know well:\n",
        "\n",
        "- `INNER JOIN`: Only keep the records that match the constraint between the two tables\n",
        "\n",
        "- `LEFT JOIN`: Keep all the records from the left-side of the join, and only show values for the records on the right-side that matched. Any values from the right-side that weren't matched will be assigned a `null` value.\n",
        "\n",
        "- `RIGHT JOIN`: The opposite of the `LEFT JOIN` - keep all the records from the right-side of the join and only show values for the records on the left-side that matched. Any values from the left-sie that weren't matched will be assigned a `null` value.\n",
        "\n",
        "- `FULL OUTER JOIN`: Keep all records between both tables, but only show the values that match my constraint. All other records that don't match will be included, but those values will be set to null.\n",
        "\n",
        "There are **two types of `UNION` queries** you should know:\n",
        "- `UNION ALL`: All results from tables in the `UNION` are included, even if there are duplicate rows\n",
        "- `UNION`: Removes all duplicate rows from the `UNION` of the tables\n",
        "\n",
        "The join types mentioned here are the most important to know, but there are a few more join types that you may come across. There are some more advanced joins, like [cross-joins, natural joins, and self-joins](https://www.linkedin.com/pulse/what-difference-between-natural-joincross-join-self-madhu-mitha-k) that you should eventually become familiar with as you enhance your skills and understanding."
      ]
    },
    {
      "cell_type": "markdown",
      "metadata": {
        "id": "peX0DPUY-zE4"
      },
      "source": [
        "## Conclusion\n",
        "\n",
        "Congratulations on completing SQL 103! You have come a long way from your humble beginnings in SQL 101 and you've developed some awesome querying skills. Great work!\n",
        "\n",
        "As always, we encourage you to continue practicing and learning more. Use both the resources we provide and find opportunities to learn independently.\n",
        "\n",
        "Now you are ready to help us solve the [**SQL Murder Mystery!**](https://colab.research.google.com/github/freestackinitiative/coop_sql_notebooks/blob/main/COOP_SQL_Murder_Mystery.ipynb)"
      ]
    },
    {
      "cell_type": "markdown",
      "metadata": {
        "id": "JAiW8CNnqb1z"
      },
      "source": [
        "## More resources for further practice\n",
        "\n",
        "- [SQL Bolt](https://sqlbolt.com/): The lessons here are a great introduction to SQL and you know the platform already!\n",
        "- [Mode](https://mode.com/sql-tutorial/): A comprehensive SQL tutorial from beginner all the way to advanced SQL. There's even a data analytics with SQL tutorial. This is a great resource to learn about SQL in depth and practice what you learn in their online database.\n",
        "- [StrataScratch](https://platform.stratascratch.com/coding): Practice coding questions geared toward data analysts and data scientists. You can solve coding problems used by real companies for technical interviews using PostgresSQL, Python, R, or MySQL. It's free to sign up!\n",
        "- [Codecademy - Free Learn SQL Course](https://www.codecademy.com/learn/learn-sql): Codecademy is another great resource to learn SQL as well as most other languages. There are a lot of free resources here that can help you learn SQL, Python, R, and many other languages.\n",
        "- [Socratica SQL (YouTube)](https://www.youtube.com/watch?v=nWyyDHhTxYU&list=PLih4ch-U2DiBbMoFK4ML9faT3k3MM2UQY): This is a great playlist that will get you started learning SQL with one of the most popular relational databases - Postgres.\n",
        "- [DB Fiddle](https://dbfiddle.uk/): This site is like a SQL scratch pad. You can use it to practice doing stuff like creating tables and inserting data into them, and all sorts of other stuff that you might not be able to do so freely in a live database. It's a sandbox, basically. Here are a couple of links to fiddles with some data in them to play with: [fiddle 1](https://dbfiddle.uk/?rdbms=postgres_13&fiddle=366b683701596d3f7459b0411c15acd1) and [fiddle 2](https://dbfiddle.uk/?rdbms=postgres_13&fiddle=dfffc1939f629d9286c55d732fb656c5).\n",
        "\n",
        "\n",
        "And don't forget to keep your [SQL Cheatsheet](https://martinmarroyo.github.io/sqlcheatsheetandresources-coop/) handy!"
      ]
    }
  ],
  "metadata": {
    "celltoolbar": "Slideshow",
    "colab": {
      "provenance": [],
      "toc_visible": true
    },
    "kernelspec": {
      "display_name": "Python 3 (ipykernel)",
      "language": "python",
      "name": "python3"
    },
    "language_info": {
      "codemirror_mode": {
        "name": "ipython",
        "version": 3
      },
      "file_extension": ".py",
      "mimetype": "text/x-python",
      "name": "python",
      "nbconvert_exporter": "python",
      "pygments_lexer": "ipython3",
      "version": "3.11.4"
    }
  },
  "nbformat": 4,
  "nbformat_minor": 0
}
